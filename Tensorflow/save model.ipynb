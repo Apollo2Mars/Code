{
 "cells": [
  {
   "cell_type": "code",
   "execution_count": null,
   "metadata": {
    "collapsed": true
   },
   "outputs": [],
   "source": [
    "# https://blog.csdn.net/liuxiao214/article/details/79048136"
   ]
  },
  {
   "cell_type": "markdown",
   "metadata": {},
   "source": [
    "1、.meta文件：一个协议缓冲，保存tensorflow中完整的graph、variables、operation、collection。\n",
    "\n",
    "2、checkpoint文件：一个二进制文件，包含了weights, biases, gradients和其他variables的值。但是0.11版本后的都修改了，用.data和.index保存值，用checkpoint记录最新的记录。\n",
    "\n",
    "3、在进行保存时，因为meta中保存的模型的graph，这个是一样的，只需保存一次就可以，所以可以设置saver.save(sess, 'my-model', write_meta_graph=False)即可。\n",
    "\n",
    "4、如果想设置每多长时间保存一次，可以设置saver = tf.train.Saver(keep_checkpoint_every_n_hours=2)，这个是每2个小时保存一次。\n",
    "\n",
    "5、如果不想保存所有变量，可以在创建saver实例时，指定保存的变量，可以以list或者dict的类型保存。如：\n",
    "\n",
    "w1 = tf.Variable(tf.random_normal(shape=[2]), name='w1')\n",
    "w2 = tf.Variable(tf.random_normal(shape=[5]), name='w2')\n",
    "saver = tf.train.Saver([w1,w2])"
   ]
  },
  {
   "cell_type": "code",
   "execution_count": 1,
   "metadata": {},
   "outputs": [
    {
     "name": "stderr",
     "output_type": "stream",
     "text": [
      "/opt/anaconda3/lib/python3.6/importlib/_bootstrap.py:219: RuntimeWarning: compiletime version 3.5 of module 'tensorflow.python.framework.fast_tensor_util' does not match runtime version 3.6\n",
      "  return f(*args, **kwds)\n",
      "/opt/anaconda3/lib/python3.6/site-packages/h5py/__init__.py:34: FutureWarning: Conversion of the second argument of issubdtype from `float` to `np.floating` is deprecated. In future, it will be treated as `np.float64 == np.dtype(float).type`.\n",
      "  from ._conv import register_converters as _register_converters\n"
     ]
    }
   ],
   "source": [
    "import tensorflow as tf"
   ]
  },
  {
   "cell_type": "code",
   "execution_count": null,
   "metadata": {
    "collapsed": true
   },
   "outputs": [],
   "source": [
    "# save model\n",
    "\n",
    "# 首先定义saver类\n",
    "saver = tf.train.Saver(max_to_keep=4)\n",
    "\n",
    "# 定义会话\n",
    "with tf.Session() as sess:\n",
    "\n",
    "    sess.run(tf.global_variables_initializer())\n",
    "    print \"------------------------------------------------------\"\n",
    "\n",
    "    for epoch in range(300):\n",
    "        if epoch % 10 == 0:\n",
    "            print \"------------------------------------------------------\"\n",
    "            # 保存模型\n",
    "            saver.save(sess, \"model/my-model\", global_step=epoch)\n",
    "            print \"save the model\"\n",
    "\n",
    "        # 训练\n",
    "        sess.run(train_step)\n",
    "    print \"---------------------------------------------------\n",
    "    "
   ]
  },
  {
   "cell_type": "markdown",
   "metadata": {},
   "source": [
    "注意点：\n",
    "\n",
    "创建saver时，可以指定需要存储的tensor，如果没有指定，则全部保存。\n",
    "\n",
    "创建saver时，可以指定保存的模型个数，利用max_to_keep=4，则最终会保存4个模型（下图中我保存了160、170、180、190step共4个模型）。\n",
    "\n",
    "saver.save()函数里面可以设定global_step，说明是哪一步保存的模型。\n",
    "\n",
    "程序结束后，会生成四个文件：存储网络结构.meta、存储训练好的参数.data和.index、记录最新的模型checkpoint"
   ]
  },
  {
   "cell_type": "code",
   "execution_count": null,
   "metadata": {
    "collapsed": true
   },
   "outputs": [],
   "source": [
    "# load model\n",
    "def load_model():\n",
    "    with tf.Session() as sess:\n",
    "        saver = tf.train.import_meta_graph('model/my-model-290.meta')\n",
    "        saver.restore(sess, tf.train.latest_checkpoint(\"model/\"))"
   ]
  },
  {
   "cell_type": "code",
   "execution_count": null,
   "metadata": {
    "collapsed": true
   },
   "outputs": [],
   "source": [
    "# demo 线性拟合\n",
    "import tensorflow as tf\n",
    "import numpy as np\n",
    "\n",
    "def train_model():\n",
    "\n",
    "    # prepare the data\n",
    "    x_data = np.random.rand(100).astype(np.float32)\n",
    "    print x_data\n",
    "    y_data = x_data * 0.1 + 0.2\n",
    "    print y_data\n",
    "\n",
    "    # define the weights\n",
    "    W = tf.Variable(tf.random_uniform([1], -20.0, 20.0), dtype=tf.float32, name='w')\n",
    "    b = tf.Variable(tf.random_uniform([1], -10.0, 10.0), dtype=tf.float32, name='b')\n",
    "    y = W * x_data + b\n",
    "\n",
    "    # define the loss\n",
    "    loss = tf.reduce_mean(tf.square(y - y_data))\n",
    "    train_step = tf.train.GradientDescentOptimizer(0.5).minimize(loss)\n",
    "\n",
    "    # save model\n",
    "    saver = tf.train.Saver(max_to_keep=4)\n",
    "\n",
    "    with tf.Session() as sess:\n",
    "\n",
    "        sess.run(tf.global_variables_initializer())\n",
    "        print \"------------------------------------------------------\"\n",
    "        print \"before the train, the W is %6f, the b is %6f\" % (sess.run(W), sess.run(b))\n",
    "\n",
    "        for epoch in range(300):\n",
    "            if epoch % 10 == 0:\n",
    "                print \"------------------------------------------------------\"\n",
    "                print (\"after epoch %d, the loss is %6f\" % (epoch, sess.run(loss)))\n",
    "                print (\"the W is %f, the b is %f\" % (sess.run(W), sess.run(b)))\n",
    "                saver.save(sess, \"model/my-model\", global_step=epoch)\n",
    "                print \"save the model\"\n",
    "            sess.run(train_step)\n",
    "        print \"------------------------------------------------------\"\n",
    "\n",
    "def load_model():\n",
    "    with tf.Session() as sess:\n",
    "        saver = tf.train.import_meta_graph('model/my-model-290.meta')\n",
    "        saver.restore(sess, tf.train.latest_checkpoint(\"model/\"))\n",
    "        print sess.run('w:0')\n",
    "        print sess.run('b:0')"
   ]
  },
  {
   "cell_type": "code",
   "execution_count": null,
   "metadata": {
    "collapsed": true
   },
   "outputs": [],
   "source": [
    "＃ demo cnn"
   ]
  },
  {
   "cell_type": "code",
   "execution_count": null,
   "metadata": {
    "collapsed": true
   },
   "outputs": [],
   "source": [
    "# fine tuning"
   ]
  }
 ],
 "metadata": {
  "kernelspec": {
   "display_name": "Python 3",
   "language": "python",
   "name": "python3"
  },
  "language_info": {
   "codemirror_mode": {
    "name": "ipython",
    "version": 3
   },
   "file_extension": ".py",
   "mimetype": "text/x-python",
   "name": "python",
   "nbconvert_exporter": "python",
   "pygments_lexer": "ipython3",
   "version": "3.6.3"
  }
 },
 "nbformat": 4,
 "nbformat_minor": 2
}
