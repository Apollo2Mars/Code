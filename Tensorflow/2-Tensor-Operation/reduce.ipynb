{
 "cells": [
  {
   "cell_type": "code",
   "execution_count": null,
   "metadata": {},
   "outputs": [],
   "source": [
    "# reduce 相关函数主要用于降维\n",
    "# reduce_max\n",
    "# reduce_mean\n",
    "# reduce_sum\n",
    "# reduce_min\n",
    "# reduce_prod"
   ]
  },
  {
   "cell_type": "code",
   "execution_count": 25,
   "metadata": {},
   "outputs": [
    {
     "name": "stdout",
     "output_type": "stream",
     "text": [
      "[[[ 0.  1.  2.  3.]\n",
      "  [ 4.  5.  6.  7.]\n",
      "  [ 8.  9. 10. 11.]]\n",
      "\n",
      " [[12. 13. 14. 15.]\n",
      "  [16. 17. 18. 19.]\n",
      "  [20. 21. 22. 23.]]]\n",
      "[[12. 13. 14. 15.]\n",
      " [16. 17. 18. 19.]\n",
      " [20. 21. 22. 23.]]\n",
      "[[ 8.  9. 10. 11.]\n",
      " [20. 21. 22. 23.]]\n",
      "[[ 3.  7. 11.]\n",
      " [15. 19. 23.]]\n",
      "[[  0.  13.  28.  45.]\n",
      " [ 64.  85. 108. 133.]\n",
      " [160. 189. 220. 253.]]\n",
      "[[   0.   45.  120.  231.]\n",
      " [3840. 4641. 5544. 6555.]]\n",
      "[[     0.    840.   7920.]\n",
      " [ 32760.  93024. 212520.]]\n"
     ]
    }
   ],
   "source": [
    "import tensorflow as tf\n",
    "import numpy as np\n",
    "\n",
    "init_a = np.array(range(24)).reshape(2,3,4)\n",
    "# print(init_a)\n",
    "\n",
    "a = tf.Variable(initial_value=init_a, dtype=tf.float64)\n",
    "#W = tf.Variable(tf.zeros([3, 10]), dtype=float, name=\"weight\")\n",
    "init=tf.global_variables_initializer()\n",
    "\n",
    "r_max_0 = tf.reduce_max(a, 0)\n",
    "r_max_1 = tf.reduce_max(a, 1)\n",
    "r_max_2 = tf.reduce_max(a, 2)\n",
    "\n",
    "r_prod_0 = tf.reduce_prod(a, 0)\n",
    "r_prod_1 = tf.reduce_prod(a, 1)\n",
    "r_prod_2 = tf.reduce_prod(a, 2)\n",
    "\n",
    "with tf.Session() as sess:\n",
    "    sess.run(init)\n",
    "    print(sess.run(a))\n",
    "    print(sess.run(r_max_0))\n",
    "    print(sess.run(r_max_1))\n",
    "    print(sess.run(r_max_2))\n",
    "    \n",
    "    print(sess.run(r_prod_0))\n",
    "    print(sess.run(r_prod_1))\n",
    "    print(sess.run(r_prod_2))"
   ]
  },
  {
   "cell_type": "code",
   "execution_count": null,
   "metadata": {},
   "outputs": [],
   "source": []
  }
 ],
 "metadata": {
  "kernelspec": {
   "display_name": "Python 3",
   "language": "python",
   "name": "python3"
  },
  "language_info": {
   "codemirror_mode": {
    "name": "ipython",
    "version": 3
   },
   "file_extension": ".py",
   "mimetype": "text/x-python",
   "name": "python",
   "nbconvert_exporter": "python",
   "pygments_lexer": "ipython3",
   "version": "3.6.3"
  }
 },
 "nbformat": 4,
 "nbformat_minor": 2
}
