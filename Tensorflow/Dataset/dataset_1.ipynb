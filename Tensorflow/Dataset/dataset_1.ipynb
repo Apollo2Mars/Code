{
 "cells": [
  {
   "cell_type": "code",
   "execution_count": 1,
   "metadata": {},
   "outputs": [],
   "source": [
    "import tensorflow as tf\n",
    "import numpy as np\n",
    "\n",
    "dataset = tf.data.Dataset.from_tensor_slices(np.array([1.0, 2.0, 3.0, 4.0, 5.0]))"
   ]
  },
  {
   "cell_type": "code",
   "execution_count": 2,
   "metadata": {},
   "outputs": [
    {
     "name": "stdout",
     "output_type": "stream",
     "text": [
      "<TensorSliceDataset shapes: (), types: tf.float64>\n"
     ]
    }
   ],
   "source": [
    "print(dataset)"
   ]
  },
  {
   "cell_type": "code",
   "execution_count": 19,
   "metadata": {},
   "outputs": [
    {
     "name": "stdout",
     "output_type": "stream",
     "text": [
      "[2. 3.]\n"
     ]
    }
   ],
   "source": [
    "dataset = tf.data.Dataset.from_tensor_slices(np.array([1.0, 2.0, 3.0, 4.0, 5.0]))\n",
    "dataset = dataset.map(lambda x: x + 1) # 2.0, 3.0, 4.0, 5.0, 6.0\n",
    "dataset = dataset.batch(2)\n",
    "\n",
    "iterator = dataset.make_one_shot_iterator()\n",
    "one_element = iterator.get_next()\n",
    "with tf.Session() as sess:\n",
    "    print(sess.run(one_element))"
   ]
  },
  {
   "cell_type": "code",
   "execution_count": 4,
   "metadata": {},
   "outputs": [
    {
     "name": "stdout",
     "output_type": "stream",
     "text": [
      "1.0\n",
      "2.0\n",
      "3.0\n",
      "4.0\n",
      "5.0\n",
      "end!\n"
     ]
    }
   ],
   "source": [
    "dataset = tf.data.Dataset.from_tensor_slices(np.array([1.0, 2.0, 3.0, 4.0, 5.0]))\n",
    "iterator = dataset.make_one_shot_iterator()\n",
    "one_element = iterator.get_next()\n",
    "with tf.Session() as sess:\n",
    "    try:\n",
    "        while True:\n",
    "            print(sess.run(one_element))\n",
    "    except tf.errors.OutOfRangeError:\n",
    "        print(\"end!\")"
   ]
  },
  {
   "cell_type": "code",
   "execution_count": 29,
   "metadata": {},
   "outputs": [
    {
     "name": "stdout",
     "output_type": "stream",
     "text": [
      "{'a': array([1., 2.]), 'b': array([[1, 2],\n",
      "       [3, 4]]), 'label': array([[1, 2],\n",
      "       [3, 4]])}\n",
      "{'a': array([3., 4.]), 'b': array([[5, 6],\n",
      "       [7, 8]]), 'label': array([[5, 6],\n",
      "       [7, 8]])}\n",
      "{'a': array([5.]), 'b': array([[9, 9]]), 'label': array([[9, 9]])}\n"
     ]
    }
   ],
   "source": [
    "list_a = np.array([1.0, 2.0, 3.0, 4.0, 5.0])\n",
    "list_b = np.array([[1, 2], [3, 4], [5,6], [7,8], [9,9]])\n",
    "list_label = list_b\n",
    "\n",
    "dataset = tf.data.Dataset.from_tensor_slices({'a':list_a, 'b':list_b, 'label':list_label})\n",
    "dataset = dataset.batch(2)\n",
    "\n",
    "iterator = dataset.make_one_shot_iterator()\n",
    "\n",
    "with tf.Session() as sess:\n",
    "    while True:\n",
    "        try:\n",
    "            print(sess.run(iterator.get_next()))\n",
    "        except tf.errors.OutOfRangeError:\n",
    "            break"
   ]
  },
  {
   "cell_type": "code",
   "execution_count": 27,
   "metadata": {},
   "outputs": [
    {
     "name": "stdout",
     "output_type": "stream",
     "text": [
      "(array([[1, 2],\n",
      "       [3, 4]]), array([1., 2.]))\n",
      "(array([[5, 6],\n",
      "       [7, 8]]), array([3., 4.]))\n",
      "(array([[9, 9]]), array([5.]))\n"
     ]
    }
   ],
   "source": [
    "list_a = np.array([1.0, 2.0, 3.0, 4.0, 5.0])\n",
    "list_b = np.array([[1, 2], [3, 4], [5,6], [7,8], [9,9]])\n",
    "\n",
    "dataset = tf.data.Dataset.from_tensor_slices((list_b, list_a))\n",
    "dataset = dataset.batch(2)\n",
    "\n",
    "iterator = dataset.make_one_shot_iterator()\n",
    "\n",
    "with tf.Session() as sess:\n",
    "    while True:\n",
    "        try:\n",
    "            print(sess.run(iterator.get_next()))\n",
    "        except tf.errors.OutOfRangeError:\n",
    "            break"
   ]
  },
  {
   "cell_type": "code",
   "execution_count": null,
   "metadata": {},
   "outputs": [],
   "source": []
  }
 ],
 "metadata": {
  "kernelspec": {
   "display_name": "Python 3",
   "language": "python",
   "name": "python3"
  },
  "language_info": {
   "codemirror_mode": {
    "name": "ipython",
    "version": 3
   },
   "file_extension": ".py",
   "mimetype": "text/x-python",
   "name": "python",
   "nbconvert_exporter": "python",
   "pygments_lexer": "ipython3",
   "version": "3.6.3"
  }
 },
 "nbformat": 4,
 "nbformat_minor": 2
}
