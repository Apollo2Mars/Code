{
 "cells": [
  {
   "cell_type": "code",
   "execution_count": null,
   "metadata": {},
   "outputs": [],
   "source": [
    "https://blog.csdn.net/qq_32458499/article/details/78856530"
   ]
  },
  {
   "cell_type": "code",
   "execution_count": null,
   "metadata": {},
   "outputs": [],
   "source": [
    "# 四种迭代器\n",
    "# https://www.jianshu.com/p/5f9aca0a14fb"
   ]
  },
  {
   "cell_type": "code",
   "execution_count": null,
   "metadata": {},
   "outputs": [],
   "source": [
    "https://blog.csdn.net/feixiang7701/article/details/81611356"
   ]
  },
  {
   "cell_type": "code",
   "execution_count": 2,
   "metadata": {},
   "outputs": [
    {
     "name": "stdout",
     "output_type": "stream",
     "text": [
      "Tensor(\"random_uniform:0\", shape=(4, 100), dtype=float32)\n"
     ]
    }
   ],
   "source": [
    "import tensorflow as tf\n",
    "\n",
    "print(tf.random_uniform([4, 100]))"
   ]
  },
  {
   "cell_type": "code",
   "execution_count": 7,
   "metadata": {},
   "outputs": [],
   "source": [
    "import numpy as np\n",
    "import tensorflow as tf\n",
    "\n",
    "input_x = np.asarray(range(0, 18))\n",
    "input_y = input_x\n",
    "\n",
    "data_loader = tf.data.Dataset.from_tensor_slices(\n",
    "    {'text': np.asarray(input_x),\n",
    "     'label': np.asarray(input_y)}).batch(6)\n"
   ]
  },
  {
   "cell_type": "code",
   "execution_count": 8,
   "metadata": {},
   "outputs": [
    {
     "name": "stdout",
     "output_type": "stream",
     "text": [
      ">>> inputs [0 1 2 3 4 5]\n",
      ">>> labels [0 1 2 3 4 5]\n",
      ">>> inputs [ 6  7  8  9 10 11]\n",
      ">>> labels [ 6  7  8  9 10 11]\n",
      ">>> inputs [12 13 14 15 16 17]\n",
      ">>> labels [12 13 14 15 16 17]\n"
     ]
    }
   ],
   "source": [
    "session = tf.Session()\n",
    "\n",
    "iterator = data_loader.make_one_shot_iterator()\n",
    "one_element = iterator.get_next()\n",
    "\n",
    "while True:\n",
    "    try:\n",
    "        sample_batched = session.run(one_element)\n",
    "        inputs = sample_batched['text']\n",
    "        labels = sample_batched['label']\n",
    "        print(\">>> inputs\", inputs)\n",
    "        print(\">>> labels\", labels)\n",
    "    except tf.errors.OutOfRangeError:\n",
    "        break"
   ]
  },
  {
   "cell_type": "code",
   "execution_count": 13,
   "metadata": {},
   "outputs": [
    {
     "name": "stdout",
     "output_type": "stream",
     "text": [
      "<class 'numpy.ndarray'>\n",
      "<class 'numpy.ndarray'>\n",
      "<class 'numpy.ndarray'>\n",
      ">>> inputs [[[  0   1   2]\n",
      "  [  3   4   5]\n",
      "  [  6   7   8]\n",
      "  [  9  10  11]\n",
      "  [ 12  13  14]\n",
      "  [ 15  16  17]]\n",
      "\n",
      " [[ 18  19  20]\n",
      "  [ 21  22  23]\n",
      "  [ 24  25  26]\n",
      "  [ 27  28  29]\n",
      "  [ 30  31  32]\n",
      "  [ 33  34  35]]\n",
      "\n",
      " [[ 36  37  38]\n",
      "  [ 39  40  41]\n",
      "  [ 42  43  44]\n",
      "  [ 45  46  47]\n",
      "  [ 48  49  50]\n",
      "  [ 51  52  53]]\n",
      "\n",
      " [[ 54  55  56]\n",
      "  [ 57  58  59]\n",
      "  [ 60  61  62]\n",
      "  [ 63  64  65]\n",
      "  [ 66  67  68]\n",
      "  [ 69  70  71]]\n",
      "\n",
      " [[ 72  73  74]\n",
      "  [ 75  76  77]\n",
      "  [ 78  79  80]\n",
      "  [ 81  82  83]\n",
      "  [ 84  85  86]\n",
      "  [ 87  88  89]]\n",
      "\n",
      " [[ 90  91  92]\n",
      "  [ 93  94  95]\n",
      "  [ 96  97  98]\n",
      "  [ 99 100 101]\n",
      "  [102 103 104]\n",
      "  [105 106 107]]\n",
      "\n",
      " [[108 109 110]\n",
      "  [111 112 113]\n",
      "  [114 115 116]\n",
      "  [117 118 119]\n",
      "  [120 121 122]\n",
      "  [123 124 125]]\n",
      "\n",
      " [[126 127 128]\n",
      "  [129 130 131]\n",
      "  [132 133 134]\n",
      "  [135 136 137]\n",
      "  [138 139 140]\n",
      "  [141 142 143]]]\n",
      ">>> labels [[[  0   1   2]\n",
      "  [  3   4   5]\n",
      "  [  6   7   8]\n",
      "  [  9  10  11]\n",
      "  [ 12  13  14]\n",
      "  [ 15  16  17]]\n",
      "\n",
      " [[ 18  19  20]\n",
      "  [ 21  22  23]\n",
      "  [ 24  25  26]\n",
      "  [ 27  28  29]\n",
      "  [ 30  31  32]\n",
      "  [ 33  34  35]]\n",
      "\n",
      " [[ 36  37  38]\n",
      "  [ 39  40  41]\n",
      "  [ 42  43  44]\n",
      "  [ 45  46  47]\n",
      "  [ 48  49  50]\n",
      "  [ 51  52  53]]\n",
      "\n",
      " [[ 54  55  56]\n",
      "  [ 57  58  59]\n",
      "  [ 60  61  62]\n",
      "  [ 63  64  65]\n",
      "  [ 66  67  68]\n",
      "  [ 69  70  71]]\n",
      "\n",
      " [[ 72  73  74]\n",
      "  [ 75  76  77]\n",
      "  [ 78  79  80]\n",
      "  [ 81  82  83]\n",
      "  [ 84  85  86]\n",
      "  [ 87  88  89]]\n",
      "\n",
      " [[ 90  91  92]\n",
      "  [ 93  94  95]\n",
      "  [ 96  97  98]\n",
      "  [ 99 100 101]\n",
      "  [102 103 104]\n",
      "  [105 106 107]]\n",
      "\n",
      " [[108 109 110]\n",
      "  [111 112 113]\n",
      "  [114 115 116]\n",
      "  [117 118 119]\n",
      "  [120 121 122]\n",
      "  [123 124 125]]\n",
      "\n",
      " [[126 127 128]\n",
      "  [129 130 131]\n",
      "  [132 133 134]\n",
      "  [135 136 137]\n",
      "  [138 139 140]\n",
      "  [141 142 143]]]\n",
      ">>> inputs [[[144 145 146]\n",
      "  [147 148 149]\n",
      "  [150 151 152]\n",
      "  [153 154 155]\n",
      "  [156 157 158]\n",
      "  [159 160 161]]\n",
      "\n",
      " [[162 163 164]\n",
      "  [165 166 167]\n",
      "  [168 169 170]\n",
      "  [171 172 173]\n",
      "  [174 175 176]\n",
      "  [177 178 179]]]\n",
      ">>> labels [[[144 145 146]\n",
      "  [147 148 149]\n",
      "  [150 151 152]\n",
      "  [153 154 155]\n",
      "  [156 157 158]\n",
      "  [159 160 161]]\n",
      "\n",
      " [[162 163 164]\n",
      "  [165 166 167]\n",
      "  [168 169 170]\n",
      "  [171 172 173]\n",
      "  [174 175 176]\n",
      "  [177 178 179]]]\n"
     ]
    }
   ],
   "source": [
    "import numpy as np\n",
    "import tensorflow as tf\n",
    "\n",
    "input_x = np.asarray(range(0, 180)).reshape(10,6,3)\n",
    "\n",
    "print(type(input_x))\n",
    "print(type(input_x[0]))\n",
    "print(type(input_x[0][0]))\n",
    "\n",
    "input_y = input_x\n",
    "\n",
    "data_loader = tf.data.Dataset.from_tensor_slices(\n",
    "    {'text': np.asarray(input_x),\n",
    "     'label': np.asarray(input_y)}).batch(8)\n",
    "\n",
    "session = tf.Session()\n",
    "\n",
    "iterator = data_loader.make_one_shot_iterator()\n",
    "one_element = iterator.get_next()\n",
    "\n",
    "while True:\n",
    "    try:\n",
    "        sample_batched = session.run(one_element)\n",
    "        inputs = sample_batched['text']\n",
    "        labels = sample_batched['label']\n",
    "        print(\">>> inputs\", inputs)\n",
    "        print(\">>> labels\", labels)\n",
    "    except tf.errors.OutOfRangeError:\n",
    "        break"
   ]
  },
  {
   "cell_type": "code",
   "execution_count": 17,
   "metadata": {},
   "outputs": [
    {
     "name": "stdout",
     "output_type": "stream",
     "text": [
      "[[1, 2, 3], [1, 2, 3], [1, 2, 3]]\n",
      "<class 'list'>\n",
      "<class 'numpy.ndarray'>\n",
      "<class 'list'>\n",
      "<class 'list'>\n",
      "<class 'int'>\n"
     ]
    }
   ],
   "source": [
    "a = [1, 2, 3]\n",
    "b = [a, a, a]\n",
    "print(b)\n",
    "print(type(b))\n",
    "print(type(np.asarray(b)))\n",
    "print(type(b))\n",
    "print(type(b[0]))\n",
    "print(type(b[0][0]))"
   ]
  },
  {
   "cell_type": "code",
   "execution_count": 23,
   "metadata": {},
   "outputs": [
    {
     "name": "stdout",
     "output_type": "stream",
     "text": [
      "[[1, 2, 3], [1, 2, 3], [1, 2, 3]]\n",
      "<class 'list'>\n",
      "<class 'numpy.ndarray'>\n",
      "<class 'list'>\n",
      "<class 'list'>\n",
      "<class 'int'>\n"
     ]
    }
   ],
   "source": [
    "a = [1, 2, 3]\n",
    "b = [a, a, a]\n",
    "print(b)\n",
    "print(type(b))\n",
    "print(type(np.array(b)))\n",
    "c = np.array(b)\n",
    "print(type(b))\n",
    "print(type(b[0]))\n",
    "print(type(b[0][0]))"
   ]
  },
  {
   "cell_type": "code",
   "execution_count": 21,
   "metadata": {},
   "outputs": [
    {
     "name": "stdout",
     "output_type": "stream",
     "text": [
      "[[1, 2, 3], [1, 2, 3], [1, 2, 3]]\n",
      "<class 'list'>\n",
      "<class 'numpy.ndarray'>\n",
      "<class 'numpy.ndarray'>\n",
      "<class 'numpy.ndarray'>\n",
      "<class 'numpy.int64'>\n"
     ]
    }
   ],
   "source": [
    "a = [1, 2, 3]\n",
    "b = [a, a, a]\n",
    "print(b)\n",
    "print(type(b))\n",
    "print(type(np.asarray(b)))\n",
    "c = np.asarray(b)\n",
    "print(type(c))\n",
    "print(type(c[0]))\n",
    "print(type(c[0][0]))"
   ]
  },
  {
   "cell_type": "code",
   "execution_count": null,
   "metadata": {},
   "outputs": [],
   "source": []
  }
 ],
 "metadata": {
  "kernelspec": {
   "display_name": "Python 3",
   "language": "python",
   "name": "python3"
  },
  "language_info": {
   "codemirror_mode": {
    "name": "ipython",
    "version": 3
   },
   "file_extension": ".py",
   "mimetype": "text/x-python",
   "name": "python",
   "nbconvert_exporter": "python",
   "pygments_lexer": "ipython3",
   "version": "3.6.3"
  }
 },
 "nbformat": 4,
 "nbformat_minor": 2
}
