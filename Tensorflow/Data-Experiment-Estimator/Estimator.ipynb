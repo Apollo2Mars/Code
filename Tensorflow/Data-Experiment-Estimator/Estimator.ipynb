{
 "cells": [
  {
   "cell_type": "code",
   "execution_count": null,
   "metadata": {},
   "outputs": [],
   "source": [
    "+ Class Extimator\n",
    "+ Properties\n",
    "    + config\n",
    "    + model_dir\n",
    "    + model_fn\n",
    "    + params\n",
    "+ Methods\n",
    "    + eval_dir\n",
    "    + evaluate\n",
    "    + experimant_export_all_saved_models\n",
    "    + export_saved_model\n",
    "    + export_savedmodel\n",
    "    + get_variable_names\n",
    "    + get_variable_value\n",
    "    + lasted_checkpoint\n",
    "    + predict\n",
    "    + train "
   ]
  }
 ],
 "metadata": {
  "kernelspec": {
   "display_name": "Python 3",
   "language": "python",
   "name": "python3"
  },
  "language_info": {
   "codemirror_mode": {
    "name": "ipython",
    "version": 3
   },
   "file_extension": ".py",
   "mimetype": "text/x-python",
   "name": "python",
   "nbconvert_exporter": "python",
   "pygments_lexer": "ipython3",
   "version": "3.6.3"
  }
 },
 "nbformat": 4,
 "nbformat_minor": 2
}
