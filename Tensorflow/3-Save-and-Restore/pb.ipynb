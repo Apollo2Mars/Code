{
 "cells": [
  {
   "cell_type": "code",
   "execution_count": 1,
   "metadata": {},
   "outputs": [
    {
     "name": "stdout",
     "output_type": "stream",
     "text": [
      "INFO:tensorflow:Froze 1 variables.\n",
      "INFO:tensorflow:Converted 1 variables to const ops.\n",
      "31\n",
      "WARNING:tensorflow:From <ipython-input-1-17a5f92f3780>:25: FastGFile.__init__ (from tensorflow.python.platform.gfile) is deprecated and will be removed in a future version.\n",
      "Instructions for updating:\n",
      "Use tf.gfile.GFile.\n"
     ]
    }
   ],
   "source": [
    "# https://zhuanlan.zhihu.com/p/32887066\n",
    "# 保存pb 格式\n",
    "import tensorflow as tf\n",
    "import os\n",
    "from tensorflow.python.framework import graph_util\n",
    "\n",
    "pb_file_path = os.getcwd()\n",
    "\n",
    "with tf.Session(graph=tf.Graph()) as sess:\n",
    "    x = tf.placeholder(tf.int32, name='x')\n",
    "    y = tf.placeholder(tf.int32, name='y')\n",
    "    b = tf.Variable(1, name='b')\n",
    "    xy = tf.multiply(x, y)\n",
    "    # 这里的输出需要加上name属性\n",
    "    op = tf.add(xy, b, name='op_to_store')\n",
    "\n",
    "    sess.run(tf.global_variables_initializer())\n",
    "\n",
    "    # convert_variables_to_constants 需要指定output_node_names，list()，可以多个\n",
    "    constant_graph = graph_util.convert_variables_to_constants(sess, sess.graph_def, ['op_to_store'])\n",
    "\n",
    "    # 测试 OP\n",
    "    feed_dict = {x: 10, y: 3}\n",
    "    print(sess.run(op, feed_dict))\n",
    "\n",
    "    # 写入序列化的 PB 文件\n",
    "    with tf.gfile.FastGFile(pb_file_path+'model.pb', mode='wb') as f:\n",
    "        f.write(constant_graph.SerializeToString())\n",
    "\n",
    "    # 输出\n",
    "    # INFO:tensorflow:Froze 1 variables.\n",
    "    # Converted 1 variables to const ops.\n",
    "    # 31"
   ]
  },
  {
   "cell_type": "code",
   "execution_count": null,
   "metadata": {},
   "outputs": [],
   "source": [
    "# 加载pb 格式\n",
    "from tensorflow.python.platform import gfile\n",
    "\n",
    "sess = tf.Session()\n",
    "with gfile.FastGFile(pb_file_path+'model.pb', 'rb') as f:\n",
    "    graph_def = tf.GraphDef()\n",
    "    graph_def.ParseFromString(f.read())\n",
    "    sess.graph.as_default()\n",
    "    tf.import_graph_def(graph_def, name='') # 导入计算图\n",
    "\n",
    "# 需要有一个初始化的过程    \n",
    "sess.run(tf.global_variables_initializer())\n",
    "\n",
    "# 需要先复原变量\n",
    "print(sess.run('b:0'))\n",
    "# 1\n",
    "\n",
    "# 输入\n",
    "input_x = sess.graph.get_tensor_by_name('x:0')\n",
    "input_y = sess.graph.get_tensor_by_name('y:0')\n",
    "\n",
    "op = sess.graph.get_tensor_by_name('op_to_store:0')\n",
    "\n",
    "ret = sess.run(op,  feed_dict={input_x: 5, input_y: 5})\n",
    "print(ret)\n",
    "# 输出 26"
   ]
  },
  {
   "cell_type": "code",
   "execution_count": null,
   "metadata": {},
   "outputs": [],
   "source": [
    "# save model 生产 pb"
   ]
  },
  {
   "cell_type": "code",
   "execution_count": null,
   "metadata": {},
   "outputs": [],
   "source": [
    "# 对应的导入方式"
   ]
  }
 ],
 "metadata": {
  "kernelspec": {
   "display_name": "Python 3",
   "language": "python",
   "name": "python3"
  },
  "language_info": {
   "codemirror_mode": {
    "name": "ipython",
    "version": 3
   },
   "file_extension": ".py",
   "mimetype": "text/x-python",
   "name": "python",
   "nbconvert_exporter": "python",
   "pygments_lexer": "ipython3",
   "version": "3.6.3"
  }
 },
 "nbformat": 4,
 "nbformat_minor": 2
}
