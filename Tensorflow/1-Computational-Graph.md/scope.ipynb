{
 "cells": [
  {
   "cell_type": "code",
   "execution_count": null,
   "metadata": {},
   "outputs": [],
   "source": [
    "tf.variable_scope可以让变量有相同的命名，包括tf.get_variable得到的变量，还有tf.Variable的变量\n",
    "\n",
    "tf.name_scope可以让变量有相同的命名，只是限于tf.Variable的变量"
   ]
  },
  {
   "cell_type": "code",
   "execution_count": 1,
   "metadata": {},
   "outputs": [
    {
     "name": "stdout",
     "output_type": "stream",
     "text": [
      "WARNING:tensorflow:From /Library/Frameworks/Python.framework/Versions/3.6/lib/python3.6/site-packages/tensorflow/python/util/tf_should_use.py:189: initialize_all_variables (from tensorflow.python.ops.variables) is deprecated and will be removed after 2017-03-02.\n",
      "Instructions for updating:\n",
      "Use `tf.global_variables_initializer` instead.\n",
      "V1/a1:0\n",
      "V1/a2:0\n",
      "V2/a1:0\n",
      "V2/a2:0\n"
     ]
    }
   ],
   "source": [
    "import tensorflow as tf;  \n",
    "import numpy as np;  \n",
    "import matplotlib.pyplot as plt;  \n",
    " \n",
    "with tf.variable_scope('V1'):\n",
    "\ta1 = tf.get_variable(name='a1', shape=[1], initializer=tf.constant_initializer(1))\n",
    "\ta2 = tf.Variable(tf.random_normal(shape=[2,3], mean=0, stddev=1), name='a2')\n",
    "with tf.variable_scope('V2'):\n",
    "\ta3 = tf.get_variable(name='a1', shape=[1], initializer=tf.constant_initializer(1))\n",
    "\ta4 = tf.Variable(tf.random_normal(shape=[2,3], mean=0, stddev=1), name='a2')\n",
    "  \n",
    "with tf.Session() as sess:\n",
    "    sess.run(tf.initialize_all_variables())\n",
    "    print(a1.name)\n",
    "    print(a2.name)\n",
    "    print(a3.name)\n",
    "    print(a4.name)"
   ]
  },
  {
   "cell_type": "code",
   "execution_count": 2,
   "metadata": {},
   "outputs": [
    {
     "name": "stdout",
     "output_type": "stream",
     "text": [
      "V1_1/a2:0\n",
      "V2_1/a2:0\n"
     ]
    }
   ],
   "source": [
    "import tensorflow as tf;  \n",
    "import numpy as np;  \n",
    "import matplotlib.pyplot as plt;  \n",
    " \n",
    "with tf.name_scope('V1'):\n",
    "\t# a1 = tf.get_variable(name='a1', shape=[1], initializer=tf.constant_initializer(1))\n",
    "\ta2 = tf.Variable(tf.random_normal(shape=[2,3], mean=0, stddev=1), name='a2')\n",
    "with tf.name_scope('V2'):\n",
    "\t# a3 = tf.get_variable(name='a1', shape=[1], initializer=tf.constant_initializer(1))\n",
    "\ta4 = tf.Variable(tf.random_normal(shape=[2,3], mean=0, stddev=1), name='a2')\n",
    "  \n",
    "with tf.Session() as sess:\n",
    "\tsess.run(tf.initialize_all_variables())\n",
    "\t# print a1.name\n",
    "\tprint(a2.name)\n",
    "\t# print a3.name\n",
    "\tprint(a4.name)"
   ]
  },
  {
   "cell_type": "code",
   "execution_count": null,
   "metadata": {},
   "outputs": [],
   "source": []
  }
 ],
 "metadata": {
  "kernelspec": {
   "display_name": "Python 3",
   "language": "python",
   "name": "python3"
  },
  "language_info": {
   "codemirror_mode": {
    "name": "ipython",
    "version": 3
   },
   "file_extension": ".py",
   "mimetype": "text/x-python",
   "name": "python",
   "nbconvert_exporter": "python",
   "pygments_lexer": "ipython3",
   "version": "3.6.3"
  }
 },
 "nbformat": 4,
 "nbformat_minor": 2
}
