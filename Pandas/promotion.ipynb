{
 "cells": [
  {
   "cell_type": "code",
   "execution_count": 1,
   "metadata": {},
   "outputs": [],
   "source": [
    "intent = ['看不懂的','闲聊','商品/品类','搜优惠','搜活动/会场','其他']\n",
    "slot = ['日期','商品名','品牌','店铺','颜色','价格','数量','属性']\n",
    "slot_dict = {'日期':'DATE','商品/品类':'PRODUCT','品牌':'BRAND','店铺':'SHOP','颜色':'COLOR','价格':'PRICE','数量':'AMOUT','属性':'ATTRIBUTE'}"
   ]
  },
  {
   "cell_type": "code",
   "execution_count": 2,
   "metadata": {},
   "outputs": [
    {
     "name": "stdout",
     "output_type": "stream",
     "text": [
      "['<PAD>', 'O', 'B-DATE', 'I-DATE', 'B-PRODUCT', 'I-PRODUCT', 'B-BRAND', 'I-BRAND', 'B-SHOP', 'I-SHOP', 'B-COLOR', 'I-COLOR', 'B-PRICE', 'I-PRICE', 'B-AMOUT', 'I-AMOUT', 'B-ATTRIBUTE', 'I-ATTRIBUTE']\n"
     ]
    }
   ],
   "source": [
    "tmp_list = []\n",
    "tmp_list.append(\"<PAD>\")\n",
    "tmp_list.append(\"O\")\n",
    "for item in slot_dict.values():\n",
    "    tmp_list.append(\"B\" + \"-\" + item)\n",
    "    tmp_list.append(\"I\" + \"-\" + item)\n",
    "print(tmp_list)"
   ]
  },
  {
   "cell_type": "code",
   "execution_count": 3,
   "metadata": {},
   "outputs": [],
   "source": [
    "import pandas \n",
    "import os\n",
    "def read_data_by_folder(folder):\n",
    "    text_list = []\n",
    "    slot_list = []\n",
    "    \n",
    "    file_list = os.listdir(folder)\n",
    "    for file_item in file_list:\n",
    "        current_file_item = os.path.join(folder, file_item)\n",
    "        data = pandas.read_csv(current_file_item)\n",
    "        for index in data.index:\n",
    "            tmp = data.loc[index].values\n",
    "            text_list.append(tmp[0])\n",
    "\n",
    "            tmp_slot_list = []\n",
    "            for idx, value in enumerate(tmp):\n",
    "                if idx>2 and idx %2 == 1 and idx < len(tmp)-2:\n",
    "                    slot_type = tmp[idx]\n",
    "                    slot_value = tmp[idx+1]\n",
    "                    if len(str(slot_type).strip()) > 1:\n",
    "                        try:\n",
    "                            tmp_slot_list.append((slot_dict[slot_type], slot_value))\n",
    "                        except:\n",
    "                            tmp_slot_list.append(('ATTRIBUTE', slot_value))\n",
    "            slot_list.append(tmp_slot_list)\n",
    "    return text_list, slot_list"
   ]
  },
  {
   "cell_type": "code",
   "execution_count": 4,
   "metadata": {},
   "outputs": [],
   "source": [
    "text_list, slot_list = \\\n",
    "read_data_by_folder(\"/Users/sunhongchao/Desktop/1111/all_data_till_0916/\")"
   ]
  },
  {
   "cell_type": "code",
   "execution_count": 5,
   "metadata": {},
   "outputs": [],
   "source": [
    "output = open('label.txt', encoding='utf-8', mode='w')\n",
    "\n",
    "for text, tmp_slot_list in zip(text_list, slot_list):\n",
    "    text_label = ['O']*len(text)\n",
    "    for slot in tmp_slot_list:\n",
    "        idx = text.index(slot[1])\n",
    "        if idx < 0:\n",
    "            continue\n",
    "        slot_type = slot[0]\n",
    "        text_label[idx] = \"B\" + \"-\" + slot_type\n",
    "        \n",
    "        for idx in range(idx+1, idx+len(slot[1]), 1):\n",
    "            text_label[idx] = \"I\" + \"-\" + slot_type\n",
    "    \n",
    "    for char, label in zip(text, text_label):\n",
    "        output.write(char + '\\t' + label + '\\n')\n",
    "    output.write('\\n')\n",
    "    \n",
    "output.close()"
   ]
  },
  {
   "cell_type": "code",
   "execution_count": 6,
   "metadata": {},
   "outputs": [],
   "source": [
    "import pandas \n",
    "import os\n",
    "def read_clf_data_by_folder(folder):\n",
    "    clf_list = []\n",
    "    \n",
    "    file_list = os.listdir(folder)\n",
    "    for file_item in file_list:\n",
    "        current_file_item = os.path.join(folder, file_item)\n",
    "        data = pandas.read_csv(current_file_item)\n",
    "        for index in data.index:\n",
    "            tmp = data.loc[index].values\n",
    "            clf_list.append(tmp[1]+ '\\t' +tmp[0])\n",
    "       \n",
    "    return clf_list"
   ]
  },
  {
   "cell_type": "code",
   "execution_count": 7,
   "metadata": {},
   "outputs": [],
   "source": [
    "import pandas \n",
    "from sklearn.model_selection import train_test_split\n",
    "import random\n",
    "\n",
    "clf_list = \\\n",
    "read_clf_data_by_folder(\"/Users/sunhongchao/Desktop/1111/all_data_till_0916/\")\n",
    "\n",
    "random.shuffle(clf_list)\n",
    "\n",
    "cut_idx = int(len(clf_list) * 0.9)\n",
    "\n",
    "train_clf_list = clf_list[:cut_idx]\n",
    "test_clf_list = clf_list[cut_idx:]\n",
    "\n",
    "clf_output = open('train_clf.txt', encoding='utf-8', mode='w')\n",
    "for item in train_clf_list:\n",
    "    clf_output.write(item + '\\n')\n",
    "\n",
    "clf_output = open('test_clf.txt', encoding='utf-8', mode='w')\n",
    "for item in test_clf_list:\n",
    "    clf_output.write(item + '\\n')"
   ]
  }
 ],
 "metadata": {
  "kernelspec": {
   "display_name": "Python 3",
   "language": "python",
   "name": "python3"
  },
  "language_info": {
   "codemirror_mode": {
    "name": "ipython",
    "version": 3
   },
   "file_extension": ".py",
   "mimetype": "text/x-python",
   "name": "python",
   "nbconvert_exporter": "python",
   "pygments_lexer": "ipython3",
   "version": "3.6.3"
  }
 },
 "nbformat": 4,
 "nbformat_minor": 2
}
