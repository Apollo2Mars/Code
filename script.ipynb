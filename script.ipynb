{
 "cells": [
  {
   "cell_type": "code",
   "execution_count": 16,
   "metadata": {},
   "outputs": [
    {
     "name": "stdout",
     "output_type": "stream",
     "text": [
      "40\n",
      "['指示灯', '味道', '运转音', '净化效果', '风量', '电源', '尺寸', '感应', '设计', '滤芯滤网', '模式', '操作', '包装', '显示', '功能', '价保', '发票', '商品复购', '商品用途', '商品价格', '商品质量', '商品颜色', '商品外观', '商品营销', '商品品牌', '商品产地', '商品其他', '客服态度', '客服处理速度', '客服其他', '配送速度', '物流态度', '物流其他', '维修服务', '安装服务', '退货服务', '换货服务', '质保', '退款服务', '售后其他']\n"
     ]
    }
   ],
   "source": [
    "text = \"\"\"指示灯\n",
    "味道\n",
    "运转音\n",
    "净化效果\n",
    "风量\n",
    "电源\n",
    "尺寸\n",
    "感应\n",
    "设计\n",
    "滤芯滤网\n",
    "模式\n",
    "操作\n",
    "包装\n",
    "显示\n",
    "功能\n",
    "价保\n",
    "发票\n",
    "商品复购\n",
    "商品用途\n",
    "商品价格\n",
    "商品质量\n",
    "商品颜色\n",
    "商品外观\n",
    "商品营销\n",
    "商品品牌\n",
    "商品产地\n",
    "商品其他\n",
    "客服态度\n",
    "客服处理速度\n",
    "客服其他\n",
    "配送速度\n",
    "物流态度\n",
    "物流其他\n",
    "维修服务\n",
    "安装服务\n",
    "退货服务\n",
    "换货服务\n",
    "质保\n",
    "退款服务\n",
    "售后其他\"\"\"\n",
    "\n",
    "# print(text)\n",
    "print(len(text.split('\\n')))\n",
    "print(text.split('\\n'))\n",
    "#for line in text:\n",
    "#    print(line)"
   ]
  },
  {
   "cell_type": "code",
   "execution_count": null,
   "metadata": {},
   "outputs": [],
   "source": []
  }
 ],
 "metadata": {
  "kernelspec": {
   "display_name": "Python 3",
   "language": "python",
   "name": "python3"
  },
  "language_info": {
   "codemirror_mode": {
    "name": "ipython",
    "version": 3
   },
   "file_extension": ".py",
   "mimetype": "text/x-python",
   "name": "python",
   "nbconvert_exporter": "python",
   "pygments_lexer": "ipython3",
   "version": "3.6.3"
  }
 },
 "nbformat": 4,
 "nbformat_minor": 2
}
