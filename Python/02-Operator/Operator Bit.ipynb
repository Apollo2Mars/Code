{
 "cells": [
  {
   "cell_type": "code",
   "execution_count": null,
   "metadata": {
    "collapsed": true
   },
   "outputs": [],
   "source": [
    "+ 位运算符\n",
    "\t+ & 按位与\n",
    "\t+ | 按位或\n",
    "\t+ ^ 异或\n",
    "\t+ ～ 取反\n",
    "\t+ << 左移\n",
    "\t+ \\>> 右移"
   ]
  },
  {
   "cell_type": "code",
   "execution_count": 1,
   "metadata": {},
   "outputs": [
    {
     "name": "stdout",
     "output_type": "stream",
     "text": [
      "12\n",
      "61\n",
      "49\n",
      "-61\n",
      "240\n",
      "15\n"
     ]
    }
   ],
   "source": [
    "# -*- coding: UTF-8 -*-\n",
    "\n",
    "a = 60            # 60 = 0011 1100 \n",
    "b = 13            # 13 = 0000 1101 \n",
    "c = 0\n",
    "\n",
    "c = a & b;        # 12 = 0000 1100\n",
    "print(c)\n",
    "\n",
    "c = a | b;        # 61 = 0011 1101 \n",
    "print(c)\n",
    "\n",
    "c = a ^ b;        # 49 = 0011 0001\n",
    "print(c)\n",
    "\n",
    "c = ~a;           # -61 = 1100 0011\n",
    "print(c)\n",
    "\n",
    "c = a << 2;       # 240 = 1111 0000\n",
    "print(c)\n",
    "\n",
    "c = a >> 2;       # 15 = 0000 1111\n",
    "print(c)"
   ]
  },
  {
   "cell_type": "code",
   "execution_count": 2,
   "metadata": {},
   "outputs": [
    {
     "name": "stdout",
     "output_type": "stream",
     "text": [
      "61\n"
     ]
    }
   ],
   "source": [
    "a = 60            # 60 = 0011 1100 \n",
    "b = 1\n",
    "a |= b            # 60 = 0011 1100 \n",
    "print(a)"
   ]
  },
  {
   "cell_type": "code",
   "execution_count": 4,
   "metadata": {},
   "outputs": [
    {
     "name": "stdout",
     "output_type": "stream",
     "text": [
      "16\n",
      "2\n"
     ]
    }
   ],
   "source": [
    "print(1<<4)\n",
    "print(1<<1)"
   ]
  },
  {
   "cell_type": "code",
   "execution_count": null,
   "metadata": {
    "collapsed": true
   },
   "outputs": [],
   "source": []
  }
 ],
 "metadata": {
  "kernelspec": {
   "display_name": "Python 3",
   "language": "python",
   "name": "python3"
  },
  "language_info": {
   "codemirror_mode": {
    "name": "ipython",
    "version": 3
   },
   "file_extension": ".py",
   "mimetype": "text/x-python",
   "name": "python",
   "nbconvert_exporter": "python",
   "pygments_lexer": "ipython3",
   "version": "3.6.3"
  }
 },
 "nbformat": 4,
 "nbformat_minor": 2
}
