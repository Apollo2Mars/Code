{
 "cells": [
  {
   "cell_type": "code",
   "execution_count": 1,
   "metadata": {},
   "outputs": [
    {
     "name": "stdout",
     "output_type": "stream",
     "text": [
      "15\n",
      "115\n"
     ]
    }
   ],
   "source": [
    "# reduce() \n",
    "# 函数会对参数序列中元素进行累积。\n",
    "# Python3 无法直接使用，已经放入functool\n",
    "# reduce(function, iterable[, initializer])\n",
    "# function -- 函数，有两个参数\n",
    "# iterable -- 可迭代对象\n",
    "# initializer -- 可选，初始参数\n",
    "\n",
    "def f(x, y):\n",
    "    return x + y\n",
    "\n",
    "from functools import reduce\n",
    "print(reduce(f, [1,2,3,4,5]))\n",
    "print(reduce(f, [1,2,3,4,5], 100))"
   ]
  },
  {
   "cell_type": "code",
   "execution_count": null,
   "metadata": {
    "collapsed": true
   },
   "outputs": [],
   "source": []
  }
 ],
 "metadata": {
  "kernelspec": {
   "display_name": "Python 3",
   "language": "python",
   "name": "python3"
  },
  "language_info": {
   "codemirror_mode": {
    "name": "ipython",
    "version": 3
   },
   "file_extension": ".py",
   "mimetype": "text/x-python",
   "name": "python",
   "nbconvert_exporter": "python",
   "pygments_lexer": "ipython3",
   "version": "3.6.3"
  }
 },
 "nbformat": 4,
 "nbformat_minor": 2
}
