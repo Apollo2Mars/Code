{
 "cells": [
  {
   "cell_type": "markdown",
   "metadata": {},
   "source": [
    "# Python 内置函数\n",
    "## Reference\n",
    "\n",
    "## Define\n",
    "+ Python内置(built-in)函数随着python解释器的运行而创建。在Python的程序中，你可以随时调用这些函数，不需要定义\n"
   ]
  },
  {
   "cell_type": "markdown",
   "metadata": {},
   "source": [
    "\n",
    "## Function\n",
    "+ abs()   \n",
    "+ all()   \n",
    "+ any()   \n",
    "+ basestring()    \n",
    "+ bin()   \n",
    "+ bool()  \n",
    "+ bytearray() \n",
    "+ callable()  \n",
    "+ chr()   \n",
    "+ classmethod()   \n",
    "+ cmp()   \n",
    "+ compile()   \n",
    "+ complex()   \n",
    "+ delattr()     \n",
    "+ dict()   \n",
    "+ dir()      \n",
    "+ divmod()    \n"
   ]
  },
  {
   "cell_type": "code",
   "execution_count": 4,
   "metadata": {},
   "outputs": [
    {
     "name": "stdout",
     "output_type": "stream",
     "text": [
      "[(0, 'Spring'), (1, 'Summer'), (2, 'Fall'), (3, 'Winter')]\n",
      "[(1, 'Spring'), (2, 'Summer'), (3, 'Fall'), (4, 'Winter')]\n",
      "0 one\n",
      "1 two\n",
      "2 three\n"
     ]
    }
   ],
   "source": []
  },
  {
   "cell_type": "code",
   "execution_count": null,
   "metadata": {
    "collapsed": true
   },
   "outputs": [],
   "source": [
    "+ eval()  \n",
    "+ execfile()  \n",
    "+ file()  "
   ]
  },
  {
   "cell_type": "code",
   "execution_count": 8,
   "metadata": {},
   "outputs": [
    {
     "name": "stdout",
     "output_type": "stream",
     "text": [
      "[1, 3, 5, 7, 9]\n"
     ]
    }
   ],
   "source": [
    "# filter()    \n",
    "# 过滤掉不满足条件的元素\n",
    "\n",
    "def is_odd(n):\n",
    "    return n % 2 == 1\n",
    "newlist = filter(is_odd, [1, 2, 3, 4, 5, 6, 7, 8, 9, 10])\n",
    "print(list(newlist))"
   ]
  },
  {
   "cell_type": "code",
   "execution_count": null,
   "metadata": {
    "collapsed": true
   },
   "outputs": [],
   "source": [
    "+ float() \n",
    "+ format()    \n",
    "+ frozenset() \n",
    "+ getattr()   \n",
    "+ globals()   \n",
    "+ hasattr()   \n",
    "+ hash()  \n",
    "+ help()  \n",
    "+ hex()   \n",
    "+ id()    \n",
    "+ input() \n",
    "+ int()   \n",
    "+ isinstance()   \n",
    "+ issubclass()    \n",
    "+ iter()  \n",
    "+ len()   \n",
    "+ list()  \n",
    "+ locals()    \n",
    "+ long()  "
   ]
  },
  {
   "cell_type": "code",
   "execution_count": 2,
   "metadata": {},
   "outputs": [
    {
     "name": "stdout",
     "output_type": "stream",
     "text": [
      "0\n"
     ]
    }
   ],
   "source": [
    "# max()\n",
    "l = [78,23,15]\n",
    "print(max(l))\n",
    "print(l.index(max(l)))"
   ]
  },
  {
   "cell_type": "code",
   "execution_count": null,
   "metadata": {
    "collapsed": true
   },
   "outputs": [],
   "source": [
    " \n",
    "+ memoryview()    \n",
    "+ min()   \n",
    "+ next()  \n",
    "+ object()     \n",
    "+ oct()   \n",
    "+ open()  \n",
    "+ ord()   \n",
    "+ pow()   \n",
    "+ print() \n",
    "+ property()  \n",
    "+ range() type()\n",
    "+ raw_input() "
   ]
  },
  {
   "cell_type": "code",
   "execution_count": null,
   "metadata": {
    "collapsed": true
   },
   "outputs": [],
   "source": [
    "+ reload()    \n",
    "+ repr()  \n",
    "+ reverse()   zip()\n",
    "+ round() \n",
    "+ set() \n",
    "+ setattr()\n",
    "+ slice() \n",
    "+ sorted() \n",
    "+ staticmethod()\n",
    "+ str()\n",
    "+ sum()\n",
    "+ super()\n",
    "+ tuple()\n",
    "+ unichr()\n",
    "+ unicode()\n",
    "+ vars()"
   ]
  },
  {
   "cell_type": "code",
   "execution_count": 21,
   "metadata": {},
   "outputs": [
    {
     "name": "stdout",
     "output_type": "stream",
     "text": [
      "range(0, 8)\n",
      "[0, 1, 2, 3, 4, 5, 6, 7]\n",
      "[0, 1, 2, 3, 4]\n",
      "[0, 2, 4]\n"
     ]
    }
   ],
   "source": [
    "# xrange()\n",
    "# xrange() 函数用法与 range 完全相同，所不同的是生成的不是一个数组，而是一个生成器\n",
    "# xrange(stop)\n",
    "# xrange(start, stop[, step])\n",
    "# python 3 中　将xrange( )函数全部换为range( )\n",
    "print(range(8))\n",
    "print(list(range(8)))\n",
    "print(list(range(0,5)))\n",
    "print(list(range(0,6,2)))"
   ]
  },
  {
   "cell_type": "code",
   "execution_count": null,
   "metadata": {
    "collapsed": true
   },
   "outputs": [],
   "source": [
    "+ __import__()\n",
    "+ exec 内置表达式"
   ]
  }
 ],
 "metadata": {
  "kernelspec": {
   "display_name": "Python 3",
   "language": "python",
   "name": "python3"
  },
  "language_info": {
   "codemirror_mode": {
    "name": "ipython",
    "version": 3
   },
   "file_extension": ".py",
   "mimetype": "text/x-python",
   "name": "python",
   "nbconvert_exporter": "python",
   "pygments_lexer": "ipython3",
   "version": "3.6.3"
  }
 },
 "nbformat": 4,
 "nbformat_minor": 2
}
