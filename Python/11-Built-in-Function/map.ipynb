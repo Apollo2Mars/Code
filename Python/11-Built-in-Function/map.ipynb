{
 "cells": [
  {
   "cell_type": "code",
   "execution_count": 1,
   "metadata": {},
   "outputs": [
    {
     "name": "stdout",
     "output_type": "stream",
     "text": [
      "[1, 4, 9, 16, 25, 36, 49, 64]\n",
      "[6, 8, 10, 12]\n"
     ]
    }
   ],
   "source": [
    "# map()  \n",
    "# 会根据提供的函数对指定序列做映射\n",
    "# 第一个参数 function 以参数序列中的每一个元素调用 function 函数\n",
    "# \n",
    "# map(function, iterable, ...)\n",
    "# function -- 函数，有两个参数\n",
    "# iterable -- 一个或多个序列\n",
    "#\n",
    "# 返回包含每次 function 函数返回值的新列表\n",
    "# python 2 返回　列表\n",
    "# python 3 返回 迭代器\n",
    "\n",
    "# map 前边的list 的作用是 将 迭代器转化为列表\n",
    "\n",
    "def square(x):\n",
    "    return x**2\n",
    "l = [1,2,3,4]\n",
    "l1 = [5,6,7,8]\n",
    "print(list(map(square, l+ l1)))\n",
    "# 与lambda结合\n",
    "print(list(map(lambda x, y:x+y, l, l1)))"
   ]
  },
  {
   "cell_type": "code",
   "execution_count": 2,
   "metadata": {},
   "outputs": [
    {
     "name": "stdout",
     "output_type": "stream",
     "text": [
      "['', 'aaa', 'bbb']\n",
      "0\n"
     ]
    }
   ],
   "source": [
    "l = '\\taaa\\tbbb'\n",
    "cut_list = l.split('\\t')\n",
    "print(cut_list)\n",
    "\n",
    "print(len(cut_list[0]))"
   ]
  },
  {
   "cell_type": "code",
   "execution_count": 3,
   "metadata": {},
   "outputs": [],
   "source": [
    "def element_strip(input):\n",
    "    return [ item.strip() for item in input]"
   ]
  },
  {
   "cell_type": "code",
   "execution_count": 4,
   "metadata": {},
   "outputs": [
    {
     "name": "stdout",
     "output_type": "stream",
     "text": [
      "[['a', 'bb', 'c'], ['a', 'b', 'c'], ['a', 'b', 'c']]\n"
     ]
    }
   ],
   "source": [
    "list1 = [['a ', 'bb ', 'c'], ['a', 'b', 'c'], ['a', 'b', 'c']]\n",
    "print(list(map(element_strip, list1)))"
   ]
  },
  {
   "cell_type": "code",
   "execution_count": null,
   "metadata": {},
   "outputs": [],
   "source": []
  }
 ],
 "metadata": {
  "kernelspec": {
   "display_name": "Python 3",
   "language": "python",
   "name": "python3"
  },
  "language_info": {
   "codemirror_mode": {
    "name": "ipython",
    "version": 3
   },
   "file_extension": ".py",
   "mimetype": "text/x-python",
   "name": "python",
   "nbconvert_exporter": "python",
   "pygments_lexer": "ipython3",
   "version": "3.6.3"
  }
 },
 "nbformat": 4,
 "nbformat_minor": 2
}
