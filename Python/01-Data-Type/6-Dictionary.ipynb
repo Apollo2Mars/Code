{
 "cells": [
  {
   "cell_type": "code",
   "execution_count": null,
   "metadata": {
    "collapsed": true
   },
   "outputs": [],
   "source": [
    "# 按key 排序\n",
    "def sortedDictValues1(adict): \n",
    "    items = adict.items() \n",
    "    items.sort() \n",
    "    return [value for key, value in items] \n",
    "# 按key 排序\n",
    "def sortedDictValues2(adict): \n",
    "    keys = adict.keys() \n",
    "    keys.sort() \n",
    "    return [dict[key] for key in keys] \n",
    "# 按key 排序\n",
    "def sortedDictValues3(adict): \n",
    "    keys = adict.keys() \n",
    "    keys.sort() \n",
    "    return map(adict.get, keys) \n",
    "# [(k,di[k]) for k in sorted(di.keys())] "
   ]
  },
  {
   "cell_type": "code",
   "execution_count": null,
   "metadata": {
    "collapsed": true
   },
   "outputs": [],
   "source": [
    "# 按value 排序\n",
    "def sort_by_value(d): \n",
    "    items=d.items() \n",
    "    backitems=[[v[1],v[0]] for v in items] \n",
    "    backitems.sort() \n",
    "    return [ backitems[i][1] for i in range(0,len(backitems))] \n",
    "# [ v for v in sorted(di.values())] "
   ]
  },
  {
   "cell_type": "code",
   "execution_count": null,
   "metadata": {
    "collapsed": true
   },
   "outputs": [],
   "source": [
    "# lambda\n",
    "sorted(d.items(), lambda x, y: cmp(x[1], y[1]))\n",
    "# 或反序：\n",
    "sorted(d.items(), lambda x, y: cmp(x[1], y[1]), reverse=True) "
   ]
  },
  {
   "cell_type": "code",
   "execution_count": null,
   "metadata": {
    "collapsed": true
   },
   "outputs": [],
   "source": [
    "# sort\n",
    "# key\n",
    "print sorted(dict1.items(), key=lambda d: d[0]) \n",
    "# value\n",
    "print sorted(dict1.items(), key=lambda d: d[1]) "
   ]
  },
  {
   "cell_type": "code",
   "execution_count": 4,
   "metadata": {},
   "outputs": [
    {
     "output_type": "stream",
     "name": "stdout",
     "text": "{'name-1': 'apple', 'age': 2, 'name-2': 'orange'}\n"
    }
   ],
   "source": [
    "# 两个dict 合并\n",
    "\n",
    "a = {'name-1':'apple', 'age':1}\n",
    "b = {'name-2':'orange', 'age':2}\n",
    "\n",
    "print({**a, **b})\n"
   ]
  },
  {
   "cell_type": "code",
   "execution_count": null,
   "metadata": {},
   "outputs": [],
   "source": []
  }
 ],
 "metadata": {
  "kernelspec": {
   "display_name": "Python 3.7.4 64-bit ('base': conda)",
   "language": "python",
   "name": "python37464bitbaseconda688895a7bc4d4baeb81185c00bfb955a"
  },
  "language_info": {
   "codemirror_mode": {
    "name": "ipython",
    "version": 3
   },
   "file_extension": ".py",
   "mimetype": "text/x-python",
   "name": "python",
   "nbconvert_exporter": "python",
   "pygments_lexer": "ipython3",
   "version": "3.7.4-final"
  }
 },
 "nbformat": 4,
 "nbformat_minor": 2
}