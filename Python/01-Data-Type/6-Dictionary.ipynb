{
 "cells": [
  {
   "cell_type": "code",
   "execution_count": null,
   "metadata": {
    "collapsed": true
   },
   "outputs": [],
   "source": [
    "http://www.runoob.com/python/python-dictionary.html"
   ]
  },
  {
   "cell_type": "code",
   "execution_count": null,
   "metadata": {
    "collapsed": true
   },
   "outputs": [],
   "source": [
    "# 按key 排序\n",
    "def sortedDictValues1(adict): \n",
    "    items = adict.items() \n",
    "    items.sort() \n",
    "    return [value for key, value in items] \n",
    "# 按key 排序\n",
    "def sortedDictValues2(adict): \n",
    "    keys = adict.keys() \n",
    "    keys.sort() \n",
    "    return [dict[key] for key in keys] \n",
    "# 按key 排序\n",
    "def sortedDictValues3(adict): \n",
    "    keys = adict.keys() \n",
    "    keys.sort() \n",
    "    return map(adict.get, keys) \n",
    "# [(k,di[k]) for k in sorted(di.keys())] "
   ]
  },
  {
   "cell_type": "code",
   "execution_count": null,
   "metadata": {
    "collapsed": true
   },
   "outputs": [],
   "source": [
    "# 按value 排序\n",
    "def sort_by_value(d): \n",
    "    items=d.items() \n",
    "    backitems=[[v[1],v[0]] for v in items] \n",
    "    backitems.sort() \n",
    "    return [ backitems[i][1] for i in range(0,len(backitems))] \n",
    "# [ v for v in sorted(di.values())] "
   ]
  },
  {
   "cell_type": "code",
   "execution_count": null,
   "metadata": {
    "collapsed": true
   },
   "outputs": [],
   "source": [
    "# lambda\n",
    "sorted(d.items(), lambda x, y: cmp(x[1], y[1]))\n",
    "# 或反序：\n",
    "sorted(d.items(), lambda x, y: cmp(x[1], y[1]), reverse=True) "
   ]
  },
  {
   "cell_type": "code",
   "execution_count": null,
   "metadata": {
    "collapsed": true
   },
   "outputs": [],
   "source": [
    "# sort\n",
    "# key\n",
    "print sorted(dict1.items(), key=lambda d: d[0]) \n",
    "# value\n",
    "print sorted(dict1.items(), key=lambda d: d[1]) "
   ]
  },
  {
   "cell_type": "code",
   "execution_count": 2,
   "metadata": {},
   "outputs": [
    {
     "name": "stdout",
     "output_type": "stream",
     "text": [
      "{'A': 1}\n",
      "{'A': 1, 'B': 2}\n",
      "{'A': 3, 'B': 2}\n",
      "<class 'dict_keys'>\n",
      "dict_keys(['A', 'B'])\n",
      "<class 'dict_values'>\n",
      "dict_values([3, 2])\n",
      "('A', 3)\n",
      "('B', 2)\n",
      "A\n",
      "B\n"
     ]
    }
   ],
   "source": [
    "dict = {}\n",
    "dict['A'] = 1\n",
    "print(dict)\n",
    "dict['B'] = 2\n",
    "print(dict)\n",
    "# update\n",
    "dict['A'] = 3\n",
    "print(dict)\n",
    "\n",
    "keys = dict.keys()\n",
    "print(type(keys))\n",
    "print(keys)\n",
    "\n",
    "values = dict.values()\n",
    "print(type(values))\n",
    "print(values)\n",
    "\n",
    "# 遍历\n",
    "for item in dict.items():\n",
    "    print(item)\n",
    "\n",
    "for item in dict:\n",
    "    print(item)\n"
   ]
  },
  {
   "cell_type": "code",
   "execution_count": 3,
   "metadata": {},
   "outputs": [
    {
     "name": "stdout",
     "output_type": "stream",
     "text": [
      "{'A': 1, 'B': 2, 'C': 3}\n",
      "A\n",
      "B\n",
      "C\n"
     ]
    }
   ],
   "source": [
    "dict = {}\n",
    "dict['A'] = 1\n",
    "dict['B'] = 2\n",
    "dict['C'] = 3\n",
    "print(dict)\n",
    "\n",
    "for item in dict:\n",
    "    print(item)"
   ]
  },
  {
   "cell_type": "code",
   "execution_count": 35,
   "metadata": {},
   "outputs": [
    {
     "name": "stdout",
     "output_type": "stream",
     "text": [
      "P-E-Volume\t冰箱容量\n",
      "P-E-Volume\n",
      "冰箱容量\n",
      " P-E-Door\t冰箱门款\n",
      " P-E-Door\n",
      "冰箱门款\n",
      " P-E-Conditioning\t冰箱控温\n",
      " P-E-Conditioning\n",
      "冰箱控温\n",
      " P-E-Sound\t冰箱运转音\n",
      " P-E-Sound\n",
      "冰箱运转音\n",
      " P-E-Screen\t冰箱显示\n",
      " P-E-Screen\n",
      "冰箱显示\n",
      " P-E-Energy\t冰箱能效\n",
      " P-E-Energy\n",
      "冰箱能效\n",
      " P-C-Price\t商品价格\n",
      " P-C-Price\n",
      "商品价格\n",
      " P-C-Quality\t商品质量\n",
      " P-C-Quality\n",
      "商品质量\n",
      " P-C-Color\t商品颜色\n",
      " P-C-Color\n",
      "商品颜色\n",
      " P-C-Appearance\t商品外观\n",
      " P-C-Appearance\n",
      "商品外观\n",
      " P-C-Marketing\t商品营销\n",
      " P-C-Marketing\n",
      "商品营销\n",
      " P-C-Brand\t商品品牌\n",
      " P-C-Brand\n",
      "商品品牌\n",
      " P-C-Others\t商品其他\n",
      " P-C-Others\n",
      "商品其他\n",
      " CS-C-Price\t客服价格政策问题\n",
      " CS-C-Price\n",
      "客服价格政策问题\n",
      " CS-C-Refund\t客服退款问题\n",
      " CS-C-Refund\n",
      "客服退款问题\n",
      " CS-C-Gift\t客服赠品问题\n",
      " CS-C-Gift\n",
      "客服赠品问题\n",
      " CS-C-Return\t客服换货问题\n",
      " CS-C-Return\n",
      "客服换货问题\n",
      " CS-C-Maintanence\t客服维修问题\n",
      " CS-C-Maintanence\n",
      "客服维修问题\n",
      " CS-C-Installment\t客服安装问题\n",
      " CS-C-Installment\n",
      "客服安装问题\n",
      " CS-C-Others\t客服其他\n",
      " CS-C-Others\n",
      "客服其他\n",
      " L-C-Delivery\t物流配送\n",
      " L-C-Delivery\n",
      "物流配送\n",
      " L-C-Return\t退货服务\n",
      " L-C-Return\n",
      "退货服务\n",
      " L-C-Refund\t退换服务\n",
      " L-C-Refund\n",
      "退换服务\n",
      " L-C-Others\t物流其他\n",
      " L-C-Others\n",
      "物流其他\n",
      " S-C-Maintanence\t维修服务\n",
      " S-C-Maintanence\n",
      "维修服务\n",
      " S-C-Installment\t安装服务\n",
      " S-C-Installment\n",
      "安装服务\n",
      " S-C-Others\t售后其他\n",
      " S-C-Others\n",
      "售后其他\n",
      " General\t其他\n",
      " General\n",
      "其他\n",
      "{'p-e-volume': '冰箱容量', 'p-e-door': '冰箱门款', 'p-e-conditioning': '冰箱控温', 'p-e-sound': '冰箱运转音', 'p-e-screen': '冰箱显示', 'p-e-energy': '冰箱能效', 'p-c-price': '商品价格', 'p-c-quality': '商品质量', 'p-c-color': '商品颜色', 'p-c-appearance': '商品外观', 'p-c-marketing': '商品营销', 'p-c-brand': '商品品牌', 'p-c-others': '商品其他', 'cs-c-price': '客服价格政策问题', 'cs-c-refund': '客服退款问题', 'cs-c-gift': '客服赠品问题', 'cs-c-return': '客服换货问题', 'cs-c-maintanence': '客服维修问题', 'cs-c-installment': '客服安装问题', 'cs-c-others': '客服其他', 'l-c-delivery': '物流配送', 'l-c-return': '退货服务', 'l-c-refund': '退换服务', 'l-c-others': '物流其他', 's-c-maintanence': '维修服务', 's-c-installment': '安装服务', 's-c-others': '售后其他', 'general': '其他'}\n"
     ]
    }
   ],
   "source": [
    "convert_text = \"\"\"P-E-Volume    冰箱容量\n",
    " P-E-Door    冰箱门款\n",
    " P-E-Conditioning    冰箱控温\n",
    " P-E-Sound    冰箱运转音\n",
    " P-E-Screen    冰箱显示\n",
    " P-E-Energy    冰箱能效\n",
    " P-C-Price    商品价格\n",
    " P-C-Quality    商品质量\n",
    " P-C-Color    商品颜色\n",
    " P-C-Appearance    商品外观\n",
    " P-C-Marketing    商品营销\n",
    " P-C-Brand    商品品牌\n",
    " P-C-Others    商品其他\n",
    " CS-C-Price    客服价格政策问题\n",
    " CS-C-Refund    客服退款问题\n",
    " CS-C-Gift    客服赠品问题\n",
    " CS-C-Return    客服换货问题\n",
    " CS-C-Maintanence    客服维修问题\n",
    " CS-C-Installment    客服安装问题\n",
    " CS-C-Others    客服其他\n",
    " L-C-Delivery    物流配送\n",
    " L-C-Return    退货服务\n",
    " L-C-Refund    退换服务\n",
    " L-C-Others    物流其他\n",
    " S-C-Maintanence    维修服务\n",
    " S-C-Installment    安装服务\n",
    " S-C-Others    售后其他\n",
    " General    其他\"\"\"\n",
    "    \n",
    "#print(convert_text)\n",
    "convert_list = convert_text.split('\\n')\n",
    "# print(convert_list)\n",
    "\n",
    "convert_dict = {}\n",
    "\n",
    "for item in convert_list:\n",
    "    item = item.replace(\"    \", '\\t')\n",
    "    print(item)\n",
    "    category = item.split('\\t')[0]\n",
    "    print(category)\n",
    "    chinese = item.split('\\t')[1]\n",
    "    print(chinese)\n",
    "    convert_dict[category.lower().strip()] = chinese\n",
    "\n",
    "print(convert_dict)"
   ]
  },
  {
   "cell_type": "code",
   "execution_count": 31,
   "metadata": {},
   "outputs": [
    {
     "name": "stdout",
     "output_type": "stream",
     "text": [
      "dict_keys(['p-e-volume', ' p-e-door', ' p-e-conditioning', ' p-e-sound', ' p-e-screen', ' p-e-energy', ' p-c-price', ' p-c-quality', ' p-c-color', ' p-c-appearance', ' p-c-marketing', ' p-c-brand', ' p-c-others', ' cs-c-price', ' cs-c-refund', ' cs-c-gift', ' cs-c-return', ' cs-c-maintanence', ' cs-c-installment', ' cs-c-others', ' l-c-delivery', ' l-c-return', ' l-c-refund', ' l-c-others', ' s-c-maintanence', ' s-c-installment', ' s-c-others', ' general'])\n"
     ]
    }
   ],
   "source": [
    "print(convert_dict.keys())"
   ]
  },
  {
   "cell_type": "code",
   "execution_count": null,
   "metadata": {},
   "outputs": [],
   "source": []
  }
 ],
 "metadata": {
  "kernelspec": {
   "display_name": "Python 3",
   "language": "python",
   "name": "python3"
  },
  "language_info": {
   "codemirror_mode": {
    "name": "ipython",
    "version": 3
   },
   "file_extension": ".py",
   "mimetype": "text/x-python",
   "name": "python",
   "nbconvert_exporter": "python",
   "pygments_lexer": "ipython3",
   "version": "3.6.3"
  }
 },
 "nbformat": 4,
 "nbformat_minor": 2
}
