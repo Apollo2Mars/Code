{
 "cells": [
  {
   "cell_type": "code",
   "execution_count": null,
   "metadata": {
    "collapsed": true
   },
   "outputs": [],
   "source": [
    "http://www.runoob.com/python/python-dictionary.html"
   ]
  },
  {
   "cell_type": "code",
   "execution_count": null,
   "metadata": {
    "collapsed": true
   },
   "outputs": [],
   "source": [
    "# 按key 排序\n",
    "def sortedDictValues1(adict): \n",
    "    items = adict.items() \n",
    "    items.sort() \n",
    "    return [value for key, value in items] \n",
    "# 按key 排序\n",
    "def sortedDictValues2(adict): \n",
    "    keys = adict.keys() \n",
    "    keys.sort() \n",
    "    return [dict[key] for key in keys] \n",
    "# 按key 排序\n",
    "def sortedDictValues3(adict): \n",
    "    keys = adict.keys() \n",
    "    keys.sort() \n",
    "    return map(adict.get, keys) \n",
    "# [(k,di[k]) for k in sorted(di.keys())] "
   ]
  },
  {
   "cell_type": "code",
   "execution_count": null,
   "metadata": {
    "collapsed": true
   },
   "outputs": [],
   "source": [
    "# 按value 排序\n",
    "def sort_by_value(d): \n",
    "    items=d.items() \n",
    "    backitems=[[v[1],v[0]] for v in items] \n",
    "    backitems.sort() \n",
    "    return [ backitems[i][1] for i in range(0,len(backitems))] \n",
    "# [ v for v in sorted(di.values())] "
   ]
  },
  {
   "cell_type": "code",
   "execution_count": null,
   "metadata": {
    "collapsed": true
   },
   "outputs": [],
   "source": [
    "# lambda\n",
    "sorted(d.items(), lambda x, y: cmp(x[1], y[1]))\n",
    "# 或反序：\n",
    "sorted(d.items(), lambda x, y: cmp(x[1], y[1]), reverse=True) "
   ]
  },
  {
   "cell_type": "code",
   "execution_count": null,
   "metadata": {
    "collapsed": true
   },
   "outputs": [],
   "source": [
    "# sort\n",
    "# key\n",
    "print sorted(dict1.items(), key=lambda d: d[0]) \n",
    "# value\n",
    "print sorted(dict1.items(), key=lambda d: d[1]) "
   ]
  },
  {
   "cell_type": "code",
   "execution_count": 11,
   "metadata": {},
   "outputs": [
    {
     "name": "stdout",
     "output_type": "stream",
     "text": [
      "{'A': 1}\n",
      "{'A': 1, 'B': 2}\n",
      "{'A': 3, 'B': 2}\n",
      "<class 'dict_keys'>\n",
      "dict_keys(['A', 'B'])\n",
      "<class 'dict_values'>\n",
      "dict_values([3, 2])\n",
      "('A', 3)\n",
      "('B', 2)\n"
     ]
    }
   ],
   "source": [
    "dict = {}\n",
    "dict['A'] = 1\n",
    "print(dict)\n",
    "dict['B'] = 2\n",
    "print(dict)\n",
    "# update\n",
    "dict['A'] = 3\n",
    "print(dict)\n",
    "\n",
    "keys = dict.keys()\n",
    "print(type(keys))\n",
    "print(keys)\n",
    "\n",
    "values = dict.values()\n",
    "print(type(values))\n",
    "print(values)\n",
    "\n",
    "# 遍历\n",
    "for item in dict.items():\n",
    "    print(item)\n",
    "\n",
    "# 排序\n",
    "\n"
   ]
  },
  {
   "cell_type": "code",
   "execution_count": null,
   "metadata": {
    "collapsed": true
   },
   "outputs": [],
   "source": []
  }
 ],
 "metadata": {
  "kernelspec": {
   "display_name": "Python 3",
   "language": "python",
   "name": "python3"
  },
  "language_info": {
   "codemirror_mode": {
    "name": "ipython",
    "version": 3
   },
   "file_extension": ".py",
   "mimetype": "text/x-python",
   "name": "python",
   "nbconvert_exporter": "python",
   "pygments_lexer": "ipython3",
   "version": "3.6.3"
  }
 },
 "nbformat": 4,
 "nbformat_minor": 2
}
