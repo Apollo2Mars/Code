{
 "cells": [
  {
   "cell_type": "markdown",
   "metadata": {},
   "source": [
    "## 创建变量\n",
    "+ Python 中的变量不需要声明。每个变量在使用前都必须赋值，变量赋值以后该变量才会被创建\n",
    "+ 在 Python 中，变量就是变量，它没有类型，我们所说的\"类型\"是变量所指的内存中对象的类型\n",
    "+ 多个变量赋值\n",
    "    + a = b = c = 1\n",
    "    + a, b, c = 1, 2, \"runoob\""
   ]
  },
  {
   "cell_type": "markdown",
   "metadata": {},
   "source": [
    "## 删除变量\n",
    "+ del var\n",
    "+ del var_a, var_b"
   ]
  },
  {
   "cell_type": "markdown",
   "metadata": {},
   "source": [
    "## 标准数据类型\n",
    "+ Numbers（数字）\n",
    "+ String（字符串）\n",
    "+ List（列表）\n",
    "+ Tuple（元组）\n",
    "+ Dictionary（字典）"
   ]
  },
  {
   "cell_type": "markdown",
   "metadata": {},
   "source": [
    "## 类型转换\n",
    "+ int\n",
    "+ float\n",
    "+ complex\n",
    "+ str\n",
    "+ repr\n",
    "    + 将对象 x 转换为表达式字符串\n",
    "+ eval\n",
    "    + 用来计算在字符串中的有效Python表达式,并返回一个对象\n",
    "+ tuple(s)\n",
    "    + 将序列s转化为一个元组\n",
    "+ list(s)\n",
    "    + 将序列s转化为一个列表\n",
    "+ set(s)\n",
    "    + 转化为可变集合\n",
    "+ dict(d)\n",
    "    + 创建字典\n",
    "    + d必须是一个序列（key,value）元组\n",
    "+ frozenset(s)\n",
    "    + 转化为不可变集合\n",
    "+ chr(x)\n",
    "    + 将整数转化为字符\n",
    "+ ord(x)\n",
    "    + 将字符转化为它的整数值\n",
    "+ hex(x)\n",
    "    + 整数转为十六进制\n",
    "+ oct(x)\n",
    "    + 整数转化为八进制"
   ]
  },
  {
   "cell_type": "code",
   "execution_count": null,
   "metadata": {
    "collapsed": true
   },
   "outputs": [],
   "source": []
  }
 ],
 "metadata": {
  "kernelspec": {
   "display_name": "Python 3",
   "language": "python",
   "name": "python3"
  },
  "language_info": {
   "codemirror_mode": {
    "name": "ipython",
    "version": 3
   },
   "file_extension": ".py",
   "mimetype": "text/x-python",
   "name": "python",
   "nbconvert_exporter": "python",
   "pygments_lexer": "ipython3",
   "version": "3.6.3"
  }
 },
 "nbformat": 4,
 "nbformat_minor": 2
}
