{
 "cells": [
  {
   "cell_type": "code",
   "execution_count": 5,
   "metadata": {},
   "outputs": [
    {
     "name": "stdout",
     "output_type": "stream",
     "text": [
      "06\n",
      "07\n",
      "16\n",
      "17\n",
      "26\n",
      "27\n"
     ]
    }
   ],
   "source": [
    "list1 = range(3)\n",
    "list2 = range(6,9)\n",
    "\n",
    "for item1 in list1:\n",
    "    for item2 in list2:\n",
    "        \n",
    "        print(str(item1) + str(item2))\n",
    "        if item2 > 6:\n",
    "            break"
   ]
  },
  {
   "cell_type": "code",
   "execution_count": null,
   "metadata": {},
   "outputs": [],
   "source": [
    "# 跳出多重循环\n",
    "# https://blog.csdn.net/churximi/article/details/51043595"
   ]
  },
  {
   "cell_type": "code",
   "execution_count": 2,
   "metadata": {},
   "outputs": [
    {
     "name": "stdout",
     "output_type": "stream",
     "text": [
      "0 ---- 0 ---- 0\n",
      "0 ---- 0 ---- 1\n",
      "0 ---- 0 ---- 2\n",
      "0 ---- 0 ---- 3\n",
      "0 ---- 0 ---- 4\n",
      "0 ---- 1 ---- 0\n",
      "0 ---- 1 ---- 1\n",
      "0 ---- 1 ---- 2\n",
      "0 ---- 1 ---- 3\n",
      "0 ---- 1 ---- 4\n",
      "0 ---- 2 ---- 0\n",
      "0 ---- 2 ---- 1\n",
      "0 ---- 2 ---- 2\n",
      "0 ---- 2 ---- 3\n",
      "0 ---- 2 ---- 4\n",
      "0 ---- 3 ---- 0\n",
      "0 ---- 3 ---- 1\n",
      "0 ---- 3 ---- 2\n",
      "0 ---- 3 ---- 3\n",
      "0 ---- 3 ---- 4\n",
      "0 ---- 4 ---- 0\n",
      "0 ---- 4 ---- 1\n",
      "0 ---- 4 ---- 2\n",
      "0 ---- 4 ---- 3\n",
      "0 ---- 4 ---- 4\n",
      "1 ---- 0 ---- 0\n",
      "1 ---- 0 ---- 1\n",
      "1 ---- 0 ---- 2\n",
      "1 ---- 0 ---- 3\n",
      "1 ---- 0 ---- 4\n",
      "1 ---- 1 ---- 0\n",
      "1 ---- 1 ---- 1\n",
      "1 ---- 1 ---- 2\n",
      "1 ---- 1 ---- 3\n",
      "1 ---- 1 ---- 4\n",
      "1 ---- 2 ---- 0\n",
      "1 ---- 2 ---- 1\n",
      "1 ---- 2 ---- 2\n",
      "1 ---- 2 ---- 3\n",
      "1 ---- 2 ---- 4\n",
      "1 ---- 3 ---- 0\n",
      "1 ---- 3 ---- 1\n",
      "1 ---- 3 ---- 2\n",
      "1 ---- 3 ---- 3\n",
      "1 ---- 3 ---- 4\n",
      "1 ---- 4 ---- 0\n",
      "1 ---- 4 ---- 1\n",
      "1 ---- 4 ---- 2\n",
      "1 ---- 4 ---- 3\n",
      "1 ---- 4 ---- 4\n",
      "2 ---- 0 ---- 0\n",
      "2 ---- 0 ---- 1\n",
      "2 ---- 0 ---- 2\n",
      "2 ---- 0 ---- 3\n",
      "2 ---- 0 ---- 4\n",
      "2 ---- 1 ---- 0\n",
      "2 ---- 1 ---- 1\n",
      "2 ---- 1 ---- 2\n",
      "2 ---- 1 ---- 3\n",
      "2 ---- 1 ---- 4\n",
      "2 ---- 2 ---- 0\n",
      "2 ---- 2 ---- 1\n",
      "2 ---- 2 ---- 2\n",
      "2 ---- 2 ---- 3\n",
      "2 ---- 2 ---- 4\n",
      "2 ---- 3 ---- 0\n",
      "2 ---- 3 ---- 1\n",
      "2 ---- 3 ---- 2\n",
      "2 ---- 3 ---- 3\n",
      "2 ---- 3 ---- 4\n",
      "2 ---- 4 ---- 0\n",
      "2 ---- 4 ---- 1\n",
      "2 ---- 4 ---- 2\n",
      "2 ---- 4 ---- 3\n",
      "2 ---- 4 ---- 4\n",
      "3 ---- 0 ---- 0\n",
      "3 ---- 0 ---- 1\n",
      "3 ---- 0 ---- 2\n",
      "3 ---- 0 ---- 3\n",
      "3 ---- 0 ---- 4\n",
      "3 ---- 1 ---- 0\n",
      "3 ---- 1 ---- 1\n",
      "3 ---- 1 ---- 2\n",
      "3 ---- 1 ---- 3\n",
      "3 ---- 1 ---- 4\n",
      "3 ---- 2 ---- 0\n",
      "3 ---- 2 ---- 1\n",
      "3 ---- 2 ---- 2\n",
      "3 ---- 2 ---- 3\n",
      "3 ---- 2 ---- 4\n",
      "3 ---- 3 ---- 0\n",
      "3 ---- 3 ---- 1\n",
      "3 ---- 3 ---- 2\n"
     ]
    }
   ],
   "source": [
    "for i in range(5):\n",
    "    for j in range(5):\n",
    "        for k in range(5):\n",
    "            if i == j == k == 3:\n",
    "                break\n",
    "            else:    \n",
    "                print(i, '----', j, '----', k)\n",
    "        else:        # else1\n",
    "            continue\n",
    "        break        # break1\n",
    "    else:            # else2\n",
    "        continue\n",
    "    break "
   ]
  },
  {
   "cell_type": "code",
   "execution_count": null,
   "metadata": {},
   "outputs": [],
   "source": [
    "\n",
    "    for j in range(5):\n",
    "        for k in range(5):\n",
    "            if i == j == k == 3:\n",
    "                break\n",
    "            else:    \n",
    "                print(i, '----', j, '----', k)\n",
    "        else:        # else1\n",
    "            continue\n",
    "        break        # break1\n",
    "    else:            # else2\n",
    "        continue\n",
    "    break "
   ]
  },
  {
   "cell_type": "code",
   "execution_count": 3,
   "metadata": {},
   "outputs": [
    {
     "name": "stdout",
     "output_type": "stream",
     "text": [
      "True\n"
     ]
    }
   ],
   "source": [
    "l = ['a', 'b', 'c']\n",
    "print('a' in l)"
   ]
  },
  {
   "cell_type": "code",
   "execution_count": 6,
   "metadata": {},
   "outputs": [
    {
     "name": "stdout",
     "output_type": "stream",
     "text": [
      "0\n",
      "1\n",
      "2\n",
      "3\n",
      "4\n",
      "5\n",
      "6\n",
      "7\n",
      "8\n",
      "9\n",
      "11\n"
     ]
    }
   ],
   "source": [
    "for i in range(0, 10):\n",
    "    print(i)\n",
    "else:\n",
    "    print(11)"
   ]
  },
  {
   "cell_type": "code",
   "execution_count": 8,
   "metadata": {},
   "outputs": [
    {
     "name": "stdout",
     "output_type": "stream",
     "text": [
      "4\n"
     ]
    }
   ],
   "source": [
    "for i in range(0, 10):\n",
    "    if i > 3:\n",
    "        print(i)\n",
    "        break\n",
    "else:\n",
    "    print(11)"
   ]
  },
  {
   "cell_type": "code",
   "execution_count": null,
   "metadata": {},
   "outputs": [],
   "source": []
  }
 ],
 "metadata": {
  "kernelspec": {
   "display_name": "Python 3",
   "language": "python",
   "name": "python3"
  },
  "language_info": {
   "codemirror_mode": {
    "name": "ipython",
    "version": 3
   },
   "file_extension": ".py",
   "mimetype": "text/x-python",
   "name": "python",
   "nbconvert_exporter": "python",
   "pygments_lexer": "ipython3",
   "version": "3.6.3"
  }
 },
 "nbformat": 4,
 "nbformat_minor": 2
}
