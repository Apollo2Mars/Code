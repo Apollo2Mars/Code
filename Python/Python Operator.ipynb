{
 "cells": [
  {
   "cell_type": "markdown",
   "metadata": {
    "collapsed": true
   },
   "source": [
    "## Operator\n",
    "+ 算术运算符\n",
    "    + % 取余数\n",
    "+ 比较运算符\n",
    "\t+ <> 是否不相等\n",
    "+ 赋值运算符\n",
    "\t+ python2 中可用， python3中不可用\n",
    "\t+ +=\n",
    "\t+ -=\n",
    "+ 位运算符\n",
    "\t+ & 按位与\n",
    "\t+ | 按位或\n",
    "\t+ ^ 异或\n",
    "\t+ ～ 取反\n",
    "\t+ << 左移\n",
    "\t+ \\>> 右移\n",
    "\n",
    "+ 逻辑运算符\n",
    "\t+ and\n",
    "\t+ or\n",
    "\t+ not\n",
    "\n",
    "+ 成员运算符\n",
    "\t+ in\n",
    "\t+ not in\n",
    "\n",
    "+ 身份运算符\n",
    "\t+ is\n",
    "\t\t+ is 用于判断两个变量引用对象是否为同一个， == 用于判断引用变量的值是否相等。\n",
    "\t+ is not\n",
    "\t\t+ is not 是判断两个标识符是不是引用自不同对象\n",
    "\t+ demo\n",
    "        ```\n",
    "        a = [1, 2, 3]\n",
    "        b = a\n",
    "        b is a\n",
    "        # True\n",
    "        b == a\n",
    "        #True\n",
    "        b = a[:]\n",
    "        b is a\n",
    "        #False\n",
    "        b == a\n",
    "        True\n",
    "\t```\n",
    "\n",
    "\n",
    "+ 优先级\n",
    "| 运算符 | 描述 |\n",
    "|--------|--------|\n",
    "|**\t| 指数 (最高优先级) |\n",
    "|~, +, -\t| 按位翻转, 一元加号和减号 (最后两个的方法名为 +@ 和 -@) |\n",
    "|*, /, %, //\t| 乘，除，取模和取整除 |\n",
    "|+, -\t| 加法减法 |\n",
    "|>>, <<\t| 右移，左移运算符 |\n",
    "|&\t| 位 'AND' |\n",
    "|^ \t| 位运算符 |\n",
    "|<=,  <,  >,  >=\t| 比较运算符 |\n",
    "|<>,  ==,  !=\t| 等于运算符 |\n",
    "| =, %=, /=, //=, -=, +=, *=, **=\t| 赋值运算符 |\n",
    "|is, is not\t| 身份运算符 |\n",
    "|in, not in\t| 成员运算符 |\n",
    "|not, or, and\t| 逻辑运算符 |"
   ]
  }
 ],
 "metadata": {
  "kernelspec": {
   "display_name": "Python 3",
   "language": "python",
   "name": "python3"
  },
  "language_info": {
   "codemirror_mode": {
    "name": "ipython",
    "version": 3
   },
   "file_extension": ".py",
   "mimetype": "text/x-python",
   "name": "python",
   "nbconvert_exporter": "python",
   "pygments_lexer": "ipython3",
   "version": "3.6.3"
  }
 },
 "nbformat": 4,
 "nbformat_minor": 2
}
