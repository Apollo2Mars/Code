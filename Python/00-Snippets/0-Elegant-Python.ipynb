{
 "cells": [
  {
   "cell_type": "code",
   "execution_count": null,
   "metadata": {
    "collapsed": true
   },
   "outputs": [],
   "source": [
    "# shift + Tab 弹出帮助文本框"
   ]
  },
  {
   "cell_type": "code",
   "execution_count": null,
   "metadata": {
    "collapsed": true
   },
   "outputs": [],
   "source": [
    "# 修改多处的同一标识符名字\n",
    "afda(1,2)\n",
    "afda(1,2)\n",
    "afda(1,2)\n",
    "afda(1,2)\n",
    "afda(1,2)\n",
    "print()"
   ]
  },
  {
   "cell_type": "code",
   "execution_count": null,
   "metadata": {
    "collapsed": true
   },
   "outputs": [],
   "source": [
    "# 优雅赋值\n",
    "a,b,c,d = 0,1,2,3"
   ]
  },
  {
   "cell_type": "code",
   "execution_count": 1,
   "metadata": {},
   "outputs": [
    {
     "name": "stdout",
     "output_type": "stream",
     "text": [
      "dadf 19 dfadf\n"
     ]
    }
   ],
   "source": [
    "# 序列解包\n",
    "l = [\"dadf\",19, \"dfadf\"]\n",
    "a,b,c = l\n",
    "print(a,b,c)"
   ]
  },
  {
   "cell_type": "code",
   "execution_count": 2,
   "metadata": {},
   "outputs": [
    {
     "name": "stdout",
     "output_type": "stream",
     "text": [
      "5\n"
     ]
    }
   ],
   "source": [
    "# 判读语句\n",
    "x = -5\n",
    "y = x if x>=0 else -x\n",
    "print(y)"
   ]
  },
  {
   "cell_type": "code",
   "execution_count": null,
   "metadata": {
    "collapsed": true
   },
   "outputs": [],
   "source": [
    "# 区间判断\n",
    "score = 78\n",
    "if 60 <= score < 80:\n",
    "    print(\"C\")"
   ]
  },
  {
   "cell_type": "code",
   "execution_count": null,
   "metadata": {
    "collapsed": true
   },
   "outputs": [],
   "source": [
    "# 判断是否是取值中的一个\n",
    "if level in (\"A\",\"B\",\"C\"):\n",
    "    print(\"pass\")"
   ]
  },
  {
   "cell_type": "code",
   "execution_count": null,
   "metadata": {
    "collapsed": true
   },
   "outputs": [],
   "source": [
    "# 判断是否是空列表,空字典,空字符串\n",
    "l,d,s = [1,2,3],{},''\n",
    "if l:\n",
    "    print(\"l is not empty\")\n",
    "if d:\n",
    "    print(\"d is not empty\")\n",
    "if s:\n",
    "    print(\"s is not empty\")"
   ]
  },
  {
   "cell_type": "code",
   "execution_count": null,
   "metadata": {
    "collapsed": true
   },
   "outputs": [],
   "source": [
    "# 判断诸条件是否有一个成立\n",
    "math,physics,computer = 70,40,80\n",
    "if any([math<60,physics<60,computer<60]):\n",
    "    print('not pass')"
   ]
  },
  {
   "cell_type": "code",
   "execution_count": null,
   "metadata": {
    "collapsed": true
   },
   "outputs": [],
   "source": [
    "# 判断诸条件是否全部成立\n",
    "math,physics,computer = 70,40,80\n",
    "if any([math>=60,physics>=60,computer>=60]):\n",
    "    print('pass')"
   ]
  },
  {
   "cell_type": "code",
   "execution_count": 6,
   "metadata": {},
   "outputs": [
    {
     "data": {
      "text/plain": [
       "15.0"
      ]
     },
     "execution_count": 6,
     "metadata": {},
     "output_type": "execute_result"
    }
   ],
   "source": [
    "# 优雅循环\n",
    "l = [1,2,3,'abc',4,5.0]\n",
    "sum([i for i in l if type(i) in [float,int]])"
   ]
  },
  {
   "cell_type": "code",
   "execution_count": 7,
   "metadata": {},
   "outputs": [
    {
     "name": "stdout",
     "output_type": "stream",
     "text": [
      "0 : spring\n",
      "1 : summer\n",
      "2 : autumn\n",
      "3 : winter\n"
     ]
    }
   ],
   "source": [
    "# 同时显示下标和函数对\n",
    "seasons = ['spring', 'summer', 'autumn', 'winter']\n",
    "for i,s in enumerate(seasons):\n",
    "    print(i, \":\", s)"
   ]
  },
  {
   "cell_type": "code",
   "execution_count": 1,
   "metadata": {},
   "outputs": [
    {
     "name": "stdout",
     "output_type": "stream",
     "text": [
      "100\r"
     ]
    }
   ],
   "source": [
    "# 显示循环进度\n",
    "import time\n",
    "i,n = 0,100\n",
    "for i in range(n):\n",
    "    time.sleep(0.1)\n",
    "    if(i+1)%10 == 0:print(i+1,end='\\r')\n"
   ]
  },
  {
   "cell_type": "code",
   "execution_count": 8,
   "metadata": {},
   "outputs": [
    {
     "data": {
      "text/plain": [
       "15.0"
      ]
     },
     "execution_count": 8,
     "metadata": {},
     "output_type": "execute_result"
    }
   ],
   "source": [
    "# 函数\n",
    "l = [1,2,3,'abc',4,5.0]\n",
    "sum(filter(lambda x:isinstance(x,(int,float)),l))"
   ]
  },
  {
   "cell_type": "code",
   "execution_count": 10,
   "metadata": {},
   "outputs": [
    {
     "data": {
      "text/plain": [
       "[1, 1, 2, 3, 5, 8, 13, 21, 34, 55]"
      ]
     },
     "execution_count": 10,
     "metadata": {},
     "output_type": "execute_result"
    }
   ],
   "source": [
    "# 生成器\n",
    "def fibs(n):\n",
    "    a,b,i = 1,1,1\n",
    "    while i<=n:\n",
    "        i = i+1\n",
    "        yield a\n",
    "        a,b = b, a+b\n",
    "list(fibs(10))"
   ]
  },
  {
   "cell_type": "code",
   "execution_count": 12,
   "metadata": {},
   "outputs": [
    {
     "name": "stdout",
     "output_type": "stream",
     "text": [
      "my_sum is called. 0.00036454200744628906s used\n"
     ]
    },
    {
     "data": {
      "text/plain": [
       "49995000"
      ]
     },
     "execution_count": 12,
     "metadata": {},
     "output_type": "execute_result"
    }
   ],
   "source": [
    "# 使用装饰器给函数插入日志,性能测试等非核心功能\n",
    "import time\n",
    "def runtime(func):\n",
    "    def wrapper(*args,**kvargs):\n",
    "        tic = time.time()\n",
    "        result = func(*args,**kvargs)\n",
    "        toc = time.time()\n",
    "        print(\"{} is called. {}s used\".format(func.__name__, toc-tic))\n",
    "        return result\n",
    "    return(wrapper)\n",
    "\n",
    "@runtime\n",
    "def my_sum(*args):\n",
    "    s = 0\n",
    "    for i in args:\n",
    "        s = s+i\n",
    "    return s\n",
    "\n",
    "my_sum(*range(10000))"
   ]
  },
  {
   "cell_type": "code",
   "execution_count": null,
   "metadata": {
    "collapsed": true
   },
   "outputs": [],
   "source": []
  }
 ],
 "metadata": {
  "kernelspec": {
   "display_name": "Python 3",
   "language": "python",
   "name": "python3"
  },
  "language_info": {
   "codemirror_mode": {
    "name": "ipython",
    "version": 3
   },
   "file_extension": ".py",
   "mimetype": "text/x-python",
   "name": "python",
   "nbconvert_exporter": "python",
   "pygments_lexer": "ipython3",
   "version": "3.6.3"
  }
 },
 "nbformat": 4,
 "nbformat_minor": 2
}
word_list = [song2id[_] if _ in song2id else song2id['<UNK>'] for _ in word_list]