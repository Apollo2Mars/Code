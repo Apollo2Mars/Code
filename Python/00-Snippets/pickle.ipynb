{
 "cells": [
  {
   "cell_type": "code",
   "execution_count": null,
   "metadata": {
    "collapsed": true
   },
   "outputs": [],
   "source": [
    "begin_index = ['a\\n','b\\n','c\\n']\n",
    "print(str(begin_index))\n",
    "\n",
    "import pickle\n",
    "with open(\"baseline_result.txt\", 'wb') as file_results:\n",
    "    pickle.dump(begin_index, file_results, 0)\n",
    "    \n",
    "with open(\"baseline_result.txt\", 'rb') as file_results:\n",
    "    bb=pickle.load(file_results)  \n",
    "    print(bb)"
   ]
  }
 ],
 "metadata": {
  "kernelspec": {
   "display_name": "Python 3",
   "language": "python",
   "name": "python3"
  },
  "language_info": {
   "codemirror_mode": {
    "name": "ipython",
    "version": 3
   },
   "file_extension": ".py",
   "mimetype": "text/x-python",
   "name": "python",
   "nbconvert_exporter": "python",
   "pygments_lexer": "ipython3",
   "version": "3.6.3"
  }
 },
 "nbformat": 4,
 "nbformat_minor": 2
}
