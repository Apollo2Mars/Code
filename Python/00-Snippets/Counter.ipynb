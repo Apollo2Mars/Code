{
 "cells": [
  {
   "cell_type": "markdown",
   "metadata": {},
   "source": [
    "# Counter\n",
    "+ https://www.cnblogs.com/nisen/p/6052895.html"
   ]
  },
  {
   "cell_type": "code",
   "execution_count": 1,
   "metadata": {
    "collapsed": true
   },
   "outputs": [],
   "source": [
    "from collections import Counter\n",
    "l1 = ['a','b','c','a']\n",
    "l2 = ['a','b','a','a']"
   ]
  },
  {
   "cell_type": "code",
   "execution_count": 11,
   "metadata": {},
   "outputs": [
    {
     "name": "stdout",
     "output_type": "stream",
     "text": [
      "Counter({'a': 2, 'b': 1, 'c': 1})\n",
      "dict_values([2, 1])\n",
      "dict_keys(['a', 'b'])\n",
      "3\n"
     ]
    }
   ],
   "source": [
    "print(Counter(l1))\n",
    "common = Counter(l1) & Counter(l2) # 相同的index的元素是否相等S\n",
    "print(common.values())\n",
    "print(common.keys())\n",
    "print(sum(common.values()))"
   ]
  },
  {
   "cell_type": "code",
   "execution_count": 3,
   "metadata": {},
   "outputs": [
    {
     "name": "stdout",
     "output_type": "stream",
     "text": [
      "[('a', 2)]\n",
      "[('a', 2), ('b', 1), ('c', 1)]\n"
     ]
    }
   ],
   "source": [
    "print(Counter(l1).most_common(1))\n",
    "print(Counter(l1).most_common())"
   ]
  },
  {
   "cell_type": "code",
   "execution_count": null,
   "metadata": {
    "collapsed": true
   },
   "outputs": [],
   "source": []
  }
 ],
 "metadata": {
  "kernelspec": {
   "display_name": "Python 3",
   "language": "python",
   "name": "python3"
  },
  "language_info": {
   "codemirror_mode": {
    "name": "ipython",
    "version": 3
   },
   "file_extension": ".py",
   "mimetype": "text/x-python",
   "name": "python",
   "nbconvert_exporter": "python",
   "pygments_lexer": "ipython3",
   "version": "3.6.3"
  }
 },
 "nbformat": 4,
 "nbformat_minor": 2
}
