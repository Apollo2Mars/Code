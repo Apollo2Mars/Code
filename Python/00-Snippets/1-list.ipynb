{
 "cells": [
  {
   "cell_type": "code",
   "execution_count": 1,
   "metadata": {},
   "outputs": [
    {
     "name": "stdout",
     "output_type": "stream",
     "text": [
      "[[1], [2], [3, -1, -1, -1]]\n"
     ]
    },
    {
     "data": {
      "text/plain": [
       "[3, -1, -1, -1]"
      ]
     },
     "execution_count": 1,
     "metadata": {},
     "output_type": "execute_result"
    }
   ],
   "source": [
    "l = [[1],[2],[3]]\n",
    "l[2].extend([-1]*3)\n",
    "print(l)\n",
    "l[-1]"
   ]
  },
  {
   "cell_type": "code",
   "execution_count": 2,
   "metadata": {},
   "outputs": [
    {
     "name": "stdout",
     "output_type": "stream",
     "text": [
      "a\ta\n",
      "b\tb\n",
      "c\tc\n",
      "\n"
     ]
    }
   ],
   "source": [
    "#  iterate tow list\n",
    "tmp_str = ''\n",
    "begin_index = ['a','b','c']\n",
    "end_index = ['a','b','c']\n",
    "for tmp_beg, tmp_end in zip(begin_index, end_index):\n",
    "    tmp = tmp_beg + '\\t' + tmp_end + '\\n'\n",
    "    tmp_str += tmp\n",
    "    \n",
    "    \n",
    "print(tmp_str)"
   ]
  },
  {
   "cell_type": "code",
   "execution_count": 3,
   "metadata": {},
   "outputs": [
    {
     "name": "stdout",
     "output_type": "stream",
     "text": [
      "['a\\t1\\n', 'a\\t2\\n', 'a\\t3\\n', 'b\\t1\\n', 'b\\t2\\n', 'b\\t3\\n', 'c\\t1\\n', 'c\\t2\\n', 'c\\t3\\n']\n"
     ]
    }
   ],
   "source": [
    "begin_index = ['a','b','c']\n",
    "end_index = ['1','2','3']\n",
    "\n",
    "tmp = [str(tmp_beg) + '\\t' + str(tmp_end) + '\\n' for tmp_beg in begin_index for tmp_end in end_index]\n",
    "print(tmp)"
   ]
  },
  {
   "cell_type": "code",
   "execution_count": 4,
   "metadata": {},
   "outputs": [
    {
     "name": "stdout",
     "output_type": "stream",
     "text": [
      "['a\\t1\\n', 'b\\t2\\n', 'c\\t3\\n']\n"
     ]
    }
   ],
   "source": [
    "begin_index = ['a','b','c']\n",
    "end_index = ['1','2','3']\n",
    "\n",
    "tmp = [str(tmp_beg) + '\\t' + str(tmp_end) + '\\n' for tmp_beg, tmp_end in zip(begin_index, end_index)]\n",
    "print(tmp)"
   ]
  },
  {
   "cell_type": "code",
   "execution_count": null,
   "metadata": {
    "collapsed": true
   },
   "outputs": [],
   "source": [
    "begin_index = ['a','b','c']\n",
    "end_index = ['1','2','3']\n",
    "\n",
    "tmp = list(map(lambda x,y:x+'\\t'+y+'\\n', begin_index,end_index))\n",
    "print(tmp)"
   ]
  },
  {
   "cell_type": "code",
   "execution_count": null,
   "metadata": {
    "collapsed": true
   },
   "outputs": [],
   "source": [
    "# corresponding element division\n",
    "l =[1,2,3]\n",
    "l1 = [2,2,2]\n",
    "print(list(map(lambda x,y:x/y, l,l1)))"
   ]
  },
  {
   "cell_type": "code",
   "execution_count": null,
   "metadata": {
    "collapsed": true
   },
   "outputs": [],
   "source": [
    "# remove duplicate elements\n",
    "# 使用字典函数，\n",
    "a=[1,2,4,2,4,5,6,5,7,8,9,0]\n",
    "b={}\n",
    "b=b.fromkeys(a)\n",
    "c=list(b.keys())\n",
    "print(c)\n",
    "\n",
    "l = [1,2,3,1]\n",
    "print(set(l))\n",
    "print(type(set(l)))"
   ]
  }
 ],
 "metadata": {
  "kernelspec": {
   "display_name": "Python 3",
   "language": "python",
   "name": "python3"
  },
  "language_info": {
   "codemirror_mode": {
    "name": "ipython",
    "version": 3
   },
   "file_extension": ".py",
   "mimetype": "text/x-python",
   "name": "python",
   "nbconvert_exporter": "python",
   "pygments_lexer": "ipython3",
   "version": "3.6.3"
  }
 },
 "nbformat": 4,
 "nbformat_minor": 2
}
