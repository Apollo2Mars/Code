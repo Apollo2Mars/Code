{
 "cells": [
  {
   "cell_type": "code",
   "execution_count": null,
   "metadata": {
    "collapsed": true
   },
   "outputs": [],
   "source": [
    "## 二分查找\n",
    "if not matrix:\n",
    "    return False\n",
    "elif not matrix[0]:\n",
    "    return False\n",
    "\n",
    "def binarySearchArr(arr, target):\n",
    "    if not arr:\n",
    "        return False\n",
    "\n",
    "    mid_index=int(len(arr)/2)\n",
    "    if arr[mid_index] == target:\n",
    "        return True\n",
    "    elif arr[mid_index] < target:\n",
    "        return binarySearchArr(arr[mid_index+1:],target)\n",
    "    else:\n",
    "        return binarySearchArr(arr[:mid_index],target)\n",
    "\n",
    "i=0\n",
    "while i < len(matrix):\n",
    "    if target < matrix[i][0]:\n",
    "        break\n",
    "    elif target == matrix[i][0]:\n",
    "        return True\n",
    "    i+=1\n",
    "return binarySearchArr(matrix[i-1],target) if i > 0 else False"
   ]
  }
 ],
 "metadata": {
  "kernelspec": {
   "display_name": "Python 3",
   "language": "python",
   "name": "python3"
  },
  "language_info": {
   "codemirror_mode": {
    "name": "ipython",
    "version": 3
   },
   "file_extension": ".py",
   "mimetype": "text/x-python",
   "name": "python",
   "nbconvert_exporter": "python",
   "pygments_lexer": "ipython3",
   "version": "3.6.3"
  }
 },
 "nbformat": 4,
 "nbformat_minor": 2
}
