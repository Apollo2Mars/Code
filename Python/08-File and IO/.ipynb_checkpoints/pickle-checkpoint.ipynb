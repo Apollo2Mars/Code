{
 "cells": [
  {
   "cell_type": "markdown",
   "metadata": {},
   "source": [
    "# pickle模块\n",
    "+ 实现了基本的数据序列和反序列化\n",
    "+ 通过pickle模块的序列化操作我们能够将程序中运行的对象信息保存到文件中去，永久存储\n",
    "+ 通过pickle模块的反序列化操作，我们能够从文件中创建上一次程序保存的对象\n",
    "+ 基本接口\n",
    "\t+ pickle.dump(obj, file, [,protocol])\n",
    "\t+ x = pickle.load(file)"
   ]
  },
  {
   "cell_type": "code",
   "execution_count": 16,
   "metadata": {},
   "outputs": [
    {
     "name": "stdout",
     "output_type": "stream",
     "text": [
      "done\n",
      "['a', 'b', 'c']\n",
      "['d', 'e', 'f']\n"
     ]
    }
   ],
   "source": [
    "# dump and load\n",
    "import pickle\n",
    "\n",
    "abc = ['a','b','c']\n",
    "tmp = ['d','e','f']\n",
    "with open('tmp.txt','wb') as f:\n",
    "    pickle.dump(abc, f)\n",
    "    pickle.dump(tmp, f)\n",
    "print('done')\n",
    "\n",
    "with open('tmp.txt','rb') as f:\n",
    "    print(pickle.load(f))\n",
    "    print(pickle.load(f))\n",
    "\n"
   ]
  },
  {
   "cell_type": "code",
   "execution_count": null,
   "metadata": {
    "collapsed": true
   },
   "outputs": [],
   "source": [
    "# dumps and loads"
   ]
  }
 ],
 "metadata": {
  "kernelspec": {
   "display_name": "Python 3",
   "language": "python",
   "name": "python3"
  },
  "language_info": {
   "codemirror_mode": {
    "name": "ipython",
    "version": 3
   },
   "file_extension": ".py",
   "mimetype": "text/x-python",
   "name": "python",
   "nbconvert_exporter": "python",
   "pygments_lexer": "ipython3",
   "version": "3.6.3"
  }
 },
 "nbformat": 4,
 "nbformat_minor": 2
}
