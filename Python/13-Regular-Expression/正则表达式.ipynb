{
 "cells": [
  {
   "cell_type": "code",
   "execution_count": null,
   "metadata": {
    "collapsed": true
   },
   "outputs": [],
   "source": [
    "# Python 正则表达式\n",
    "# http://www.runoob.com/python/python-reg-expressions.html"
   ]
  },
  {
   "cell_type": "code",
   "execution_count": null,
   "metadata": {
    "collapsed": true
   },
   "outputs": [],
   "source": [
    "# re.match\n",
    "# re.match 尝试从字符串的起始位置匹配一个模式，如果不是起始位置匹配成功的话，match()就返回none。"
   ]
  },
  {
   "cell_type": "code",
   "execution_count": null,
   "metadata": {
    "collapsed": true
   },
   "outputs": [],
   "source": [
    "# re.search\n",
    "# re.search 扫描整个字符串并返回第一个成功的匹配。"
   ]
  },
  {
   "cell_type": "code",
   "execution_count": null,
   "metadata": {
    "collapsed": true
   },
   "outputs": [],
   "source": [
    "# re.match只匹配字符串的开始，如果字符串开始不符合正则表达式，则匹配失败，函数返回None；而re.search匹配整个字符串，直到找到一个匹配。"
   ]
  },
  {
   "cell_type": "code",
   "execution_count": null,
   "metadata": {
    "collapsed": true
   },
   "outputs": [],
   "source": [
    "# 检索和替换\n",
    "# Python 的re模块提供了re.sub用于替换字符串中的匹配项。\n",
    "# re.sub(pattern, repl, string, count=0)\n",
    "# 参数：\n",
    "\n",
    "# pattern : 正则中的模式字符串。\n",
    "# repl : 替换的字符串，也可为一个函数。\n",
    "# string : 要被查找替换的原始字符串。\n",
    "# count : 模式匹配后替换的最大次数，默认 0 表示替换所有的匹配。"
   ]
  },
  {
   "cell_type": "code",
   "execution_count": null,
   "metadata": {
    "collapsed": true
   },
   "outputs": [],
   "source": [
    "# re.compile"
   ]
  },
  {
   "cell_type": "code",
   "execution_count": null,
   "metadata": {
    "collapsed": true
   },
   "outputs": [],
   "source": [
    "# findall\n",
    "# 在字符串中找到正则表达式所匹配的所有子串，并返回一个列表，如果没有找到匹配的，则返回空列表。\n",
    "\n",
    "# 注意： match 和 search 是匹配一次 findall 匹配所有。"
   ]
  },
  {
   "cell_type": "code",
   "execution_count": null,
   "metadata": {
    "collapsed": true
   },
   "outputs": [],
   "source": [
    "# re.finditer\n",
    "# 和 findall 类似，在字符串中找到正则表达式所匹配的所有子串，并把它们作为一个迭代器返回。"
   ]
  },
  {
   "cell_type": "code",
   "execution_count": null,
   "metadata": {
    "collapsed": true
   },
   "outputs": [],
   "source": [
    "# re.split"
   ]
  },
  {
   "cell_type": "code",
   "execution_count": null,
   "metadata": {
    "collapsed": true
   },
   "outputs": [],
   "source": [
    "# 正则表达式对象"
   ]
  },
  {
   "cell_type": "code",
   "execution_count": null,
   "metadata": {
    "collapsed": true
   },
   "outputs": [],
   "source": [
    "# 正则表达式修饰符"
   ]
  },
  {
   "cell_type": "markdown",
   "metadata": {
    "collapsed": true
   },
   "source": [
    "# 正则表达式模式\n",
    "\n",
    "模式\t描述\n",
    "^\t匹配字符串的开头\n",
    "$\t匹配字符串的末尾。\n",
    ".\t匹配任意字符，除了换行符，当re.DOTALL标记被指定时，则可以匹配包括换行符的任意字符。\n",
    "[...]\t用来表示一组字符,单独列出：[amk] 匹配 'a'，'m'或'k'\n",
    "[^...]\t不在[]中的字符：[^abc] 匹配除了a,b,c之外的字符。\n",
    "re*\t匹配0个或多个的表达式。\n",
    "re+\t匹配1个或多个的表达式。\n",
    "re?\t匹配0个或1个由前面的正则表达式定义的片段，非贪婪方式\n",
    "re{ n}\t精确匹配 n 个前面表达式。例如， o{2} 不能匹配 \"Bob\" 中的 \"o\"，但是能匹配 \"food\" 中的两个 o。\n",
    "re{ n,}\t匹配 n 个前面表达式。例如， o{2,} 不能匹配\"Bob\"中的\"o\"，但能匹配 \"foooood\"中的所有 o。\"o{1,}\" 等价于 \"o+\"。\"o{0,}\" 则等价于 \"o*\"。\n",
    "re{ n, m}\t匹配 n 到 m 次由前面的正则表达式定义的片段，贪婪方式\n",
    "a| b\t匹配a或b\n",
    "(re)\t匹配括号内的表达式，也表示一个组\n",
    "(?imx)\t正则表达式包含三种可选标志：i, m, 或 x 。只影响括号中的区域。\n",
    "(?-imx)\t正则表达式关闭 i, m, 或 x 可选标志。只影响括号中的区域。\n",
    "(?: re)\t类似 (...), 但是不表示一个组\n",
    "(?imx: re)\t在括号中使用i, m, 或 x 可选标志\n",
    "(?-imx: re)\t在括号中不使用i, m, 或 x 可选标志\n",
    "(?#...)\t注释.\n",
    "(?= re)\t前向肯定界定符。如果所含正则表达式，以 ... 表示，在当前位置成功匹配时成功，否则失败。但一旦所含表达式已经尝试，匹配引擎根本没有提高；模式的剩余部分还要尝试界定符的右边。\n",
    "(?! re)\t前向否定界定符。与肯定界定符相反；当所含表达式不能在字符串当前位置匹配时成功\n",
    "(?> re)\t匹配的独立模式，省去回溯。\n",
    "\\w\t匹配字母数字及下划线\n",
    "\\W\t匹配非字母数字及下划线\n",
    "\\s\t匹配任意空白字符，等价于 [\\t\\n\\r\\f].\n",
    "\\S\t匹配任意非空字符\n",
    "\\d\t匹配任意数字，等价于 [0-9].\n",
    "\\D\t匹配任意非数字\n",
    "\\A\t匹配字符串开始\n",
    "\\Z\t匹配字符串结束，如果是存在换行，只匹配到换行前的结束字符串。\n",
    "\\z\t匹配字符串结束\n",
    "\\G\t匹配最后匹配完成的位置。\n",
    "\\b\t匹配一个单词边界，也就是指单词和空格间的位置。例如， 'er\\b' 可以匹配\"never\" 中的 'er'，但不能匹配 \"verb\" 中的 'er'。\n",
    "\\B\t匹配非单词边界。'er\\B' 能匹配 \"verb\" 中的 'er'，但不能匹配 \"never\" 中的 'er'。\n",
    "\\n, \\t, 等.\t匹配一个换行符。匹配一个制表符。等\n",
    "\\1...\\9\t匹配第n个分组的内容。\n",
    "\\10\t匹配第n个分组的内容，如果它经匹配。否则指的是八进制字符码的表达式\n",
    "\n"
   ]
  },
  {
   "cell_type": "code",
   "execution_count": null,
   "metadata": {
    "collapsed": true
   },
   "outputs": [],
   "source": [
    "# 正则表达式实例\n",
    "+ 字符串匹配\n",
    "python\t匹配 \"python\".\n",
    "+ 字符匹配\n",
    "[Pp]ython\t匹配 \"Python\" 或 \"python\"\n",
    "rub[ye]\t匹配 \"ruby\" 或 \"rube\"\n",
    "[aeiou]\t匹配中括号内的任意一个字母\n",
    "[0-9]\t匹配任何数字。类似于 [0123456789]\n",
    "[a-z]\t匹配任何小写字母\n",
    "[A-Z]\t匹配任何大写字母\n",
    "[a-zA-Z0-9]\t匹配任何字母及数字\n",
    "[^aeiou]\t除了aeiou字母以外的所有字符\n",
    "[^0-9]\t匹配除了数字外的字符\n",
    "+ 特殊字符类\n",
    ".\t匹配除 \"\\n\" 之外的任何单个字符。要匹配包括 '\\n' 在内的任何字符，请使用象 '[.\\n]' 的模式。\n",
    "\\d\t匹配一个数字字符。等价于 [0-9]。\n",
    "\\D\t匹配一个非数字字符。等价于 [^0-9]。\n",
    "\\s\t匹配任何空白字符，包括空格、制表符、换页符等等。等价于 [ \\f\\n\\r\\t\\v]。\n",
    "\\S\t匹配任何非空白字符。等价于 [^ \\f\\n\\r\\t\\v]。\n",
    "\\w\t匹配包括下划线的任何单词字符。等价于'[A-Za-z0-9_]'。\n",
    "\\W\t匹配任何非单词字符。等价于 '[^A-Za-z0-9_]'。"
   ]
  },
  {
   "cell_type": "code",
   "execution_count": null,
   "metadata": {
    "collapsed": true
   },
   "outputs": [],
   "source": [
    "\n",
    "+ split\n",
    "\t\n",
    "    ```\n",
    "\t# lineSeg = line.split('/[\\w]+')\n",
    "\tlineSeg = re.split('/\\w+', line)\n",
    "    ```\n"
   ]
  }
 ],
 "metadata": {
  "kernelspec": {
   "display_name": "Python 3",
   "language": "python",
   "name": "python3"
  },
  "language_info": {
   "codemirror_mode": {
    "name": "ipython",
    "version": 3
   },
   "file_extension": ".py",
   "mimetype": "text/x-python",
   "name": "python",
   "nbconvert_exporter": "python",
   "pygments_lexer": "ipython3",
   "version": "3.6.3"
  }
 },
 "nbformat": 4,
 "nbformat_minor": 2
}
