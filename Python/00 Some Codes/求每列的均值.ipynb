{
 "cells": [
  {
   "cell_type": "code",
   "execution_count": null,
   "metadata": {
    "collapsed": true
   },
   "outputs": [],
   "source": [
    "# 求多个向量按列的均值\n",
    "\n",
    "a = [1,2,3]\n",
    "b = [4,5,6]\n",
    "\n",
    "zipped = list(zip(a,b))\n",
    "print(zipped)\n",
    "print(list(map(list, zipped)))\n",
    "\n",
    "\n",
    "sum_list = list(map(sum, zipped))\n",
    "print(sum_list)"
   ]
  },
  {
   "cell_type": "code",
   "execution_count": 12,
   "metadata": {},
   "outputs": [
    {
     "name": "stdout",
     "output_type": "stream",
     "text": [
      "[1.6666666666666667, 2.3333333333333335, 3.0]\n"
     ]
    }
   ],
   "source": [
    "# 求矩阵列的均值\n",
    "import numpy as np\n",
    "a = [[1,2,3],[4,5,6]]\n",
    "a = np.asarray(a)\n",
    "\n",
    "col_len = a.shape[-1]\n",
    "\n",
    "zipped = list(zip(*a))\n",
    "sum_list = list(map(sum, zipped))\n",
    "print([tmp/col_len for tmp in sum_list])"
   ]
  },
  {
   "cell_type": "code",
   "execution_count": 9,
   "metadata": {},
   "outputs": [
    {
     "name": "stdout",
     "output_type": "stream",
     "text": [
      "[[1, 2, 3], [4, 5, 6]]\n",
      "[[1 2 3]\n",
      " [4 5 6]]\n",
      "(2, 3)\n"
     ]
    }
   ],
   "source": [
    "import numpy as np\n",
    "a = [[1,2,3],[4,5,6]]\n",
    "print(a)\n",
    "b = np.asarray(a)\n",
    "print(b)\n",
    "print(b.shape)"
   ]
  }
 ],
 "metadata": {
  "kernelspec": {
   "display_name": "Python 3",
   "language": "python",
   "name": "python3"
  },
  "language_info": {
   "codemirror_mode": {
    "name": "ipython",
    "version": 3
   },
   "file_extension": ".py",
   "mimetype": "text/x-python",
   "name": "python",
   "nbconvert_exporter": "python",
   "pygments_lexer": "ipython3",
   "version": "3.6.3"
  }
 },
 "nbformat": 4,
 "nbformat_minor": 2
}
