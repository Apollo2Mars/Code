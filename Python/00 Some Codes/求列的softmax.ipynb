{
 "cells": [
  {
   "cell_type": "code",
   "execution_count": 1,
   "metadata": {},
   "outputs": [
    {
     "name": "stdout",
     "output_type": "stream",
     "text": [
      "[(1, 4), (2, 5), (3, 6)]\n",
      "[[1, 4], [2, 5], [3, 6]]\n",
      "[5, 7, 9]\n"
     ]
    }
   ],
   "source": [
    "# 求矩阵列的均值\n",
    "a = [[1,2,3],[4,5,6]]\n",
    "\n",
    "zipped = list(zip(*a))\n",
    "print(zipped)\n",
    "print(list(map(list, zipped)))\n",
    "\n",
    "\n",
    "sum_list = list(map(exp, zipped))\n",
    "print(sum_list)"
   ]
  },
  {
   "cell_type": "code",
   "execution_count": null,
   "metadata": {
    "collapsed": true
   },
   "outputs": [],
   "source": []
  }
 ],
 "metadata": {
  "kernelspec": {
   "display_name": "Python 3",
   "language": "python",
   "name": "python3"
  },
  "language_info": {
   "codemirror_mode": {
    "name": "ipython",
    "version": 3
   },
   "file_extension": ".py",
   "mimetype": "text/x-python",
   "name": "python",
   "nbconvert_exporter": "python",
   "pygments_lexer": "ipython3",
   "version": "3.6.3"
  }
 },
 "nbformat": 4,
 "nbformat_minor": 2
}
