{
 "cells": [
  {
   "cell_type": "code",
   "execution_count": 3,
   "metadata": {},
   "outputs": [
    {
     "name": "stdout",
     "output_type": "stream",
     "text": [
      "I was listening to 爱情买卖. Fri Mar  8 17:49:59 2019\n",
      "I was at the 阿凡达! Fri Mar  8 17:49:59 2019all over Fri Mar  8 17:49:59 2019\n",
      "\n",
      "I was listening to 爱情买卖. Fri Mar  8 17:50:00 2019\n",
      "I was at the 阿凡达! Fri Mar  8 17:50:04 2019\n"
     ]
    }
   ],
   "source": [
    "#coding=utf-8\n",
    "import threading\n",
    "from time import ctime,sleep\n",
    "\n",
    "\n",
    "def music(func):\n",
    "    for i in range(2):\n",
    "        print(\"I was listening to %s. %s\" %(func,ctime()))\n",
    "        sleep(1)\n",
    "\n",
    "def move(func):\n",
    "    for i in range(2):\n",
    "        print(\"I was at the %s! %s\" %(func,ctime()))\n",
    "        sleep(5)\n",
    "\n",
    "threads = []\n",
    "t1 = threading.Thread(target=music,args=(u'爱情买卖',))\n",
    "threads.append(t1)\n",
    "t2 = threading.Thread(target=move,args=(u'阿凡达',))\n",
    "threads.append(t2)\n",
    "\n",
    "if __name__ == '__main__':\n",
    "    for t in threads:\n",
    "        t.setDaemon(True)\n",
    "        t.start()\n",
    "\n",
    "    print(\"all over %s\" %ctime())"
   ]
  },
  {
   "cell_type": "code",
   "execution_count": null,
   "metadata": {},
   "outputs": [],
   "source": []
  }
 ],
 "metadata": {
  "kernelspec": {
   "display_name": "Python 3",
   "language": "python",
   "name": "python3"
  },
  "language_info": {
   "codemirror_mode": {
    "name": "ipython",
    "version": 3
   },
   "file_extension": ".py",
   "mimetype": "text/x-python",
   "name": "python",
   "nbconvert_exporter": "python",
   "pygments_lexer": "ipython3",
   "version": "3.6.8"
  }
 },
 "nbformat": 4,
 "nbformat_minor": 2
}
