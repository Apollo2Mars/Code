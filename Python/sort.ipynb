{
 "cells": [
  {
   "cell_type": "code",
   "execution_count": 8,
   "metadata": {},
   "outputs": [
    {
     "name": "stdout",
     "output_type": "stream",
     "text": [
      "{'b', 'c', 'a'}\n",
      "['b', 'c', 'a']\n",
      "None\n",
      "['a', 'b', 'c']\n",
      "['b', 'c', 'a']\n",
      "['a', 'b', 'c']\n"
     ]
    }
   ],
   "source": [
    "set_a = set()\n",
    "set_a.add('a')\n",
    "set_a.add('b')\n",
    "set_a.add('c')\n",
    "print(set_a)\n",
    "print(list(set_a))\n",
    "print(list(set_a).sort())\n",
    "print(sorted(list(set_a)))\n",
    "list_a = list(set_a)\n",
    "print(list_a)\n",
    "list_a.sort()\n",
    "print(list_a)"
   ]
  },
  {
   "cell_type": "code",
   "execution_count": null,
   "metadata": {},
   "outputs": [],
   "source": []
  }
 ],
 "metadata": {
  "kernelspec": {
   "display_name": "Python 3",
   "language": "python",
   "name": "python3"
  },
  "language_info": {
   "codemirror_mode": {
    "name": "ipython",
    "version": 3
   },
   "file_extension": ".py",
   "mimetype": "text/x-python",
   "name": "python",
   "nbconvert_exporter": "python",
   "pygments_lexer": "ipython3",
   "version": "3.6.3"
  }
 },
 "nbformat": 4,
 "nbformat_minor": 2
}
