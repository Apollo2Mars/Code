{
 "cells": [
  {
   "cell_type": "markdown",
   "metadata": {},
   "source": [
    "## 创建变量\n",
    "+ Python 中的变量不需要声明。每个变量在使用前都必须赋值，变量赋值以后该变量才会被创建\n",
    "+ 在 Python 中，变量就是变量，它没有类型，我们所说的\"类型\"是变量所指的内存中对象的类型\n",
    "+ 多个变量赋值\n",
    "    + a = b = c = 1\n",
    "    + a, b, c = 1, 2, \"runoob\""
   ]
  },
  {
   "cell_type": "markdown",
   "metadata": {},
   "source": [
    "## 删除变量\n",
    "+ del var\n",
    "+ del var_a, var_b"
   ]
  },
  {
   "cell_type": "markdown",
   "metadata": {},
   "source": [
    "## 标准数据类型\n",
    "+ Numbers（数字）\n",
    "+ String（字符串）\n",
    "+ List（列表）\n",
    "+ Tuple（元组）\n",
    "+ Dictionary（字典）"
   ]
  },
  {
   "cell_type": "markdown",
   "metadata": {},
   "source": [
    "## Number (不可变）\n",
    "+ 他们是不可改变的数据类型，这意味着改变数字数据类型会分配一个新的对象。\n",
    "+ 四种不同得数字类型\n",
    "    + int\n",
    "        + bool\n",
    "        + float\n",
    "        + complex(复数3.14j)\n",
    "+ 数据运算\n",
    "    + 2 / 4  # 除法，得到一个浮点数  == 》 0.5\n",
    "    + 2 // 4 # 除法，得到一个整数   == 》 0\n",
    "    + 17 % 3 # 取余 == 》 2\n",
    "    + 2 \\*\\* 5 # 乘方 == 》 32 \n",
    "    + 在混合计算时，Python会把整型转换成为浮点数\n",
    "+ **Function**\n",
    "    + constant\n",
    "        + pi\n",
    "        + e\n",
    "    + abs\n",
    "    + ceil\n",
    "    + cmp(x,y)\n",
    "        + 如果 x < y 返回 -1, 如果 x == y 返回 0, 如果 x > y 返回 1。 Python 3 已废弃 。使用 使用 (x>y)-(x < y) 替换\n",
    "    + exp\n",
    "    + fabs\n",
    "    + floor\n",
    "    + log\n",
    "    + log10\n",
    "    + max(...)\n",
    "    + min(...)\n",
    "    + (???) modf\n",
    "        + 返回x的整数部分与小数部分，两部分的数值符号与x相同，整数部分以浮点型表示\n",
    "    + pow(x,y)\n",
    "    + round(x[,n])\n",
    "        + 返回浮点数x的四舍五入值，如给出n值，则代表舍入到小数点后的位数\n",
    "    + sqrt\n",
    "    + random\n",
    "    + choice(seq)\n",
    "        + 从序列的元素中随机挑选一个元素，比如random.choice(range(10))，从0到9中随机挑选一个整数。\n",
    "    + (???) randrange ([start,] stop [,step])\n",
    "        + 从指定范围内，按指定基数递增的集合中获取一个随机数，基数缺省值为1\n",
    "\n",
    "    + random()\n",
    "        + 随机生成下一个实数，它在[0,1)范围内。\n",
    "    + (???)seed()\n",
    "        + 改变随机数生成器的种子seed。如果你不了解其原理，你不必特别去设定seed，Python会帮你选择seed。\n",
    "    + shuffle\n",
    "        + 序列的所有元素随机排序\n",
    "    + uniform\n",
    "        + 随机生成下一个实数，它在[x,y]范围内。\n",
    "            + Trigonometric\n",
    "        + acos\n",
    "        + asin\n",
    "        + atan\n",
    "         + atan2\n",
    "        + cos\n",
    "        + pypot(x,y)\n",
    "             + 返回欧几里德范数 sqrt(x*x + y*y)\n",
    "        + sin\n",
    "        + tan\n",
    "        + degrees\n",
    "            + 将弧度转换为角度,如degrees(math.pi/2) ， 返回90.0\n",
    "         + radians\n",
    "            + 将角度转换为弧度"
   ]
  },
  {
   "cell_type": "markdown",
   "metadata": {},
   "source": [
    "## Tuple (不可变/immutable)Set() {}\n",
    "+ 元组（tuple）与列表类似，不同之处在于元组的元素不能修改\n",
    "+ 可包含List等可变的对象\n",
    "```\n",
    "    tup = (1, 2, 3, 4, 5, 6)\n",
    "    print(tup[0])\n",
    "    ```\n",
    "+ 构造包含 0 个或 1 个元素的元组比较特殊，所以有一些额外的语法规则\n",
    "```\n",
    "tup1 = ()    # 空元组\n",
    "tup2 = (20,) # 一个元素，需要在元素后添加逗号\n",
    "    ```\n",
    "+ **Function**\n",
    "    + len(tuple)\n",
    "    + min(tuple)\n",
    "    + max(tuple)\n",
    "    + tuple(seq)\n",
    "        + 将列表转换为元组\n"
   ]
  },
  {
   "cell_type": "code",
   "execution_count": 2,
   "metadata": {},
   "outputs": [
    {
     "name": "stdout",
     "output_type": "stream",
     "text": [
      "(7, 3, 1)\n"
     ]
    }
   ],
   "source": [
    "# tuple 拼接\n",
    "print((7,)+(3,)+(1,))"
   ]
  },
  {
   "cell_type": "markdown",
   "metadata": {},
   "source": [
    "## Sets\n",
    "+ 集合（set）是一个无序不重复元素的序列\n",
    "+ 基本功能是进行成员关系测试和删除重复元素\n",
    "+ 可以使用大括号 { } 或者 set() 函数创建集合，注意：创建一个空集合必须用 set() 而不是 { }，因为 { } 是用来创建一个空字典\n",
    "+ 创建\n",
    "    ＋　parame = {value01,value02,...}\n",
    "    ＋　set(value)"
   ]
  },
  {
   "cell_type": "code",
   "execution_count": 2,
   "metadata": {},
   "outputs": [
    {
     "name": "stdout",
     "output_type": "stream",
     "text": [
      "{'Jim', 'Rose', 'Mary', 'Tom', 'Jack'}\n",
      "Rose 在集合中\n",
      "{'b', 'c', 'a', 'r', 'd'}\n",
      "{'r', 'b', 'd'}\n",
      "{'b', 'c', 'm', 'l', 'a', 'z', 'r', 'd'}\n",
      "{'c', 'a'}\n",
      "{'m', 'z', 'b', 'r', 'l', 'd'}\n"
     ]
    }
   ],
   "source": [
    "student = {'Tom', 'Jim', 'Mary', 'Tom', 'Jack', 'Rose'}\n",
    "print(student)   # 输出集合，重复的元素被自动去掉\n",
    "# 成员测试\n",
    "if('Rose' in student) :\n",
    "    print('Rose 在集合中')\n",
    "else :\n",
    "    print('Rose 不在集合中')\n",
    "# set可以进行集合运算\n",
    "a = set('abracadabra')\n",
    "b = set('alacazam')\n",
    "print(a)\n",
    "print(a - b)     # a和b的差集\n",
    "print(a | b)     # a和b的并集\n",
    "print(a & b)     # a和b的交集\n",
    "print(a ^ b)     # a和b中不同时存在的元素\n"
   ]
  },
  {
   "cell_type": "markdown",
   "metadata": {},
   "source": []
  },
  {
   "cell_type": "markdown",
   "metadata": {},
   "source": [
    "## Dictionary（可变/mutable） {}\n",
    "+ 列表是有序的对象集合，字典是无序的对象集合。两者之间的区别在于：字典当中的元素是通过键来存取的，而不是通过偏移存取\n",
    "+ 字典是一种映射类型，字典用\"{ }\"标识，它是一个无序的键(key) : 值(value)对集合\n",
    "+ 键(key)必须使用不可变类型\n",
    "+ 在同一个字典中，键(key)必须是唯一的\n",
    "\n",
    "    ```\n",
    "    dict = {}\n",
    "    dict['one'] = \"1 - 菜鸟教程\"\n",
    "    dict[2]     = \"2 - 菜鸟工具\"\n",
    "\n",
    "    tinydict = {'name': 'runoob','code':1, 'site': 'www.runoob.com'}\n",
    "\n",
    "    print (dict['one'])       # 输出键为 'one' 的值\n",
    "    print (dict[2])           # 输出键为 2 的值\n",
    "    print (tinydict)          # 输出完整的字典\n",
    "    print (tinydict.keys())   # 输出所有键\n",
    "    print (tinydict.values()) # 输出所有值\n",
    "    ```\n",
    "+ **Function**\n",
    "    + len(dict)\n",
    "    + str(dict)\n",
    "    + type(variable)\n",
    "    + radiansdict.clear()\n",
    "        + 删除字典内所有元素\n",
    "    + radiansdict.copy()\n",
    "        + 返回一个字典的浅复制\n",
    "    + (???)radiansdict.fromkeys()\n",
    "        + 创建一个新字典，以序列seq中元素做字典的键，val为字典所有键对应的初始值\n",
    "    + radiansdict.get(key, default=None)\n",
    "        + 返回指定键的值，如果值不在字典中返回default值\n",
    "    + key in dict\n",
    "        + 如果键在字典dict里返回true，否则返回false\n",
    "    + radiansdict.items()\n",
    "        + 以列表返回可遍历的(键, 值) 元组数组\n",
    "        + dict 转 list\n",
    "    + radiansdict.keys()\n",
    "        + 以列表返回一个字典所有的键\n",
    "    + radiansdict.setdefault(key, default=None)\n",
    "        + 和get()类似\n",
    "        + 但如果键不存在于字典中，将会添加键并将值设为default\n",
    "    + radiansdict.update(dict2)\n",
    "        + 把字典dict2的键/值对更新到dict里\n",
    "    + radiansdict.values()\n",
    "        + 以列表返回字典中的所有值\n",
    "    + pop(key[,default])\n",
    "        + 删除字典给定键 key 所对应的值，返回值为被删除的值。key值必须给出。 否则，返回default值。\n",
    "    + popitem()\n",
    "        + 随机返回并删除字典中的一对键和值(一般删除末尾对)。"
   ]
  },
  {
   "cell_type": "markdown",
   "metadata": {},
   "source": [
    "## 类型转换\n",
    "+ int\n",
    "+ float\n",
    "+ complex\n",
    "+ str\n",
    "+ repr\n",
    "    + 将对象 x 转换为表达式字符串\n",
    "+ eval\n",
    "    + 用来计算在字符串中的有效Python表达式,并返回一个对象\n",
    "+ tuple(s)\n",
    "    + 将序列s转化为一个元组\n",
    "+ list(s)\n",
    "    + 将序列s转化为一个列表\n",
    "+ set(s)\n",
    "    + 转化为可变集合\n",
    "+ dict(d)\n",
    "    + 创建字典\n",
    "    + d必须是一个序列（key,value）元组\n",
    "+ frozenset(s)\n",
    "    + 转化为不可变集合\n",
    "+ chr(x)\n",
    "    + 将整数转化为字符\n",
    "+ ord(x)\n",
    "    + 将字符转化为它的整数值\n",
    "+ hex(x)\n",
    "    + 整数转为十六进制\n",
    "+ oct(x)\n",
    "    + 整数转化为八进制"
   ]
  },
  {
   "cell_type": "code",
   "execution_count": null,
   "metadata": {
    "collapsed": true
   },
   "outputs": [],
   "source": []
  }
 ],
 "metadata": {
  "kernelspec": {
   "display_name": "Python 3",
   "language": "python",
   "name": "python3"
  },
  "language_info": {
   "codemirror_mode": {
    "name": "ipython",
    "version": 3
   },
   "file_extension": ".py",
   "mimetype": "text/x-python",
   "name": "python",
   "nbconvert_exporter": "python",
   "pygments_lexer": "ipython3",
   "version": "3.6.3"
  }
 },
 "nbformat": 4,
 "nbformat_minor": 2
}
