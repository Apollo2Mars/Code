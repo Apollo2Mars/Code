{
 "cells": [
  {
   "cell_type": "code",
   "execution_count": null,
   "metadata": {},
   "outputs": [],
   "source": [
    "+ Generation\n",
    "\t+ 使用了 yield 的函数被称为生成器（generator）\n",
    "\t+ 跟普通函数不同的是，生成器是一个返回迭代器的函数，只能用于迭代操作，更简单点理解生成器就是一个迭代器\n",
    "    + 在调用生成器运行的过程中，每次遇到 yield 时函数会暂停并保存当前所有的运行信息，返回 yield 的值, 并在下一次执行 next() 方法时从当前位置继续运行\n",
    "    + 调用一个生成器函数，返回的是一个迭代器对象"
   ]
  },
  {
   "cell_type": "code",
   "execution_count": null,
   "metadata": {},
   "outputs": [],
   "source": [
    "import sys\n",
    "def fibonacci(n): # 生成器函数 - 斐波那契\n",
    "    a, b, counter = 0, 1, 0\n",
    "    while True:\n",
    "        if (counter > n):\n",
    "            return\n",
    "        yield a\n",
    "        a, b = b, a + b\n",
    "        counter += 1\n",
    "f = fibonacci(10) # f 是一个迭代器，由生成器返回生成\n",
    "\n",
    "while True: \n",
    "    try:\n",
    "        print (next(f), end=\" \")\n",
    "    except StopIteration:\n",
    "        sys.exit()"
   ]
  },
  {
   "cell_type": "code",
   "execution_count": null,
   "metadata": {},
   "outputs": [],
   "source": [
    "def gen_generator():\n",
    "    yield 1\n",
    "\n",
    "def gen_value():\n",
    "    return 1\n",
    "    \n",
    "if __name__ == '__main__':\n",
    "    ret = gen_generator()\n",
    "    print(ret)\n",
    "    print(type(ret))    #<generator object gen_generator at 0x02645648> <type 'generator'>\n",
    "    ret = gen_value()\n",
    "    print(ret)\n",
    "    print(type(ret))    # 1 <type 'int'>"
   ]
  },
  {
   "cell_type": "code",
   "execution_count": null,
   "metadata": {},
   "outputs": [],
   "source": [
    "def batch_iter(x, y, batch_size=64):\n",
    "    data_len = len(x)\n",
    "    num_batch = int(data_len / batch_size) + 1\n",
    "\n",
    "    # indices = np.random.permutation(np.arange(data_len))\n",
    "    # x_shuffle = x[indices]\n",
    "    # y_shuffle = y[indices]\n",
    "\n",
    "    for i in range(num_batch):\n",
    "        start_id = i * batch_size\n",
    "        end_id = min((i + 1) * batch_size, data_len)\n",
    "        if end_id - start_id == batch_size:\n",
    "            yield x[start_id:end_id], y[start_id:end_id]\n",
    "        else:\n",
    "            continue"
   ]
  },
  {
   "cell_type": "code",
   "execution_count": null,
   "metadata": {},
   "outputs": [],
   "source": [
    "batch_train = batch_iter(x_train, y_train, args.batch_size)\n",
    "\n",
    "        \"\"\" batch data input\"\"\"\n",
    "        for x_batch, y_batch in batch_train:\n",
    "            # feed_dict = feed_data(model, x_batch, y_batch, args.dropout_keep_prob, args.input_keep_prob)\n",
    "            feed_dict = feed_data(model, x_batch, y_batch)\n",
    "            print(x_batch)\n",
    "            print(y_batch)\n",
    "            _, loss_train = session.run([model.trainer, model.loss], feed_dict=feed_dict)\n",
    "            # print(\"loss is \", loss_train)"
   ]
  }
 ],
 "metadata": {
  "kernelspec": {
   "display_name": "Python 3",
   "language": "python",
   "name": "python3"
  },
  "language_info": {
   "codemirror_mode": {
    "name": "ipython",
    "version": 3
   },
   "file_extension": ".py",
   "mimetype": "text/x-python",
   "name": "python",
   "nbconvert_exporter": "python",
   "pygments_lexer": "ipython3",
   "version": "3.7.1"
  }
 },
 "nbformat": 4,
 "nbformat_minor": 2
}
