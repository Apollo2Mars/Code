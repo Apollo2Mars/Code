{
 "cells": [
  {
   "cell_type": "code",
   "execution_count": 2,
   "metadata": {},
   "outputs": [
    {
     "name": "stdout",
     "output_type": "stream",
     "text": [
      "[{'a': 1}, {'b': 2}, {'c': 3}, {'d': 4, 'a': 2}]\n"
     ]
    }
   ],
   "source": [
    "list1 = [{'a':1}, {'b':2}, {'c':3}, {'d':4, 'a':2}]\n",
    "\n",
    "print(list1)"
   ]
  },
  {
   "cell_type": "code",
   "execution_count": 5,
   "metadata": {},
   "outputs": [
    {
     "name": "stdout",
     "output_type": "stream",
     "text": [
      "1\n",
      "b\n",
      "cs\n",
      "1\n",
      "b\n",
      "cs\n",
      "1\n",
      "b\n",
      "cs\n"
     ]
    }
   ],
   "source": [
    "a = ('1', 'b', 'cs')\n",
    "\n",
    "list1 = [a, a, a]\n",
    "\n",
    "for item1, item2, item3 in list1:\n",
    "    print(item1)\n",
    "    print(item2)\n",
    "    print(item3)"
   ]
  },
  {
   "cell_type": "code",
   "execution_count": null,
   "metadata": {},
   "outputs": [],
   "source": []
  }
 ],
 "metadata": {
  "kernelspec": {
   "display_name": "Python 3",
   "language": "python",
   "name": "python3"
  },
  "language_info": {
   "codemirror_mode": {
    "name": "ipython",
    "version": 3
   },
   "file_extension": ".py",
   "mimetype": "text/x-python",
   "name": "python",
   "nbconvert_exporter": "python",
   "pygments_lexer": "ipython3",
   "version": "3.6.3"
  }
 },
 "nbformat": 4,
 "nbformat_minor": 2
}
