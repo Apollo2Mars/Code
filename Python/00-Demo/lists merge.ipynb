{
 "cells": [
  {
   "cell_type": "code",
   "execution_count": 1,
   "metadata": {},
   "outputs": [
    {
     "ename": "ValueError",
     "evalue": "too many values to unpack (expected 2)",
     "output_type": "error",
     "traceback": [
      "\u001b[0;31m----------------------------------------------------------------\u001b[0m",
      "\u001b[0;31mValueError\u001b[0m                     Traceback (most recent call last)",
      "\u001b[0;32m<ipython-input-1-c6ae5cdf0d21>\u001b[0m in \u001b[0;36m<module>\u001b[0;34m()\u001b[0m\n\u001b[1;32m      2\u001b[0m \u001b[0mbegin_index\u001b[0m \u001b[0;34m=\u001b[0m \u001b[0;34m[\u001b[0m\u001b[0;34m'a'\u001b[0m\u001b[0;34m,\u001b[0m\u001b[0;34m'b'\u001b[0m\u001b[0;34m,\u001b[0m\u001b[0;34m'c'\u001b[0m\u001b[0;34m]\u001b[0m\u001b[0;34m\u001b[0m\u001b[0m\n\u001b[1;32m      3\u001b[0m \u001b[0mend_index\u001b[0m \u001b[0;34m=\u001b[0m \u001b[0;34m[\u001b[0m\u001b[0;34m'a'\u001b[0m\u001b[0;34m,\u001b[0m\u001b[0;34m'b'\u001b[0m\u001b[0;34m,\u001b[0m\u001b[0;34m'c'\u001b[0m\u001b[0;34m]\u001b[0m\u001b[0;34m\u001b[0m\u001b[0m\n\u001b[0;32m----> 4\u001b[0;31m \u001b[0;32mfor\u001b[0m \u001b[0mtmp_beg\u001b[0m\u001b[0;34m,\u001b[0m \u001b[0mtmp_end\u001b[0m \u001b[0;32min\u001b[0m \u001b[0mbegin_index\u001b[0m\u001b[0;34m,\u001b[0m \u001b[0mend_index\u001b[0m\u001b[0;34m:\u001b[0m\u001b[0;34m\u001b[0m\u001b[0m\n\u001b[0m\u001b[1;32m      5\u001b[0m     \u001b[0mtmp\u001b[0m \u001b[0;34m=\u001b[0m \u001b[0mtmp_beg\u001b[0m \u001b[0;34m+\u001b[0m \u001b[0;34m'\\t'\u001b[0m \u001b[0;34m+\u001b[0m \u001b[0mtmp_end\u001b[0m \u001b[0;34m+\u001b[0m \u001b[0;34m'\\n'\u001b[0m\u001b[0;34m\u001b[0m\u001b[0m\n\u001b[1;32m      6\u001b[0m     \u001b[0mtmp_str\u001b[0m \u001b[0;34m+=\u001b[0m \u001b[0mtmp\u001b[0m\u001b[0;34m\u001b[0m\u001b[0m\n",
      "\u001b[0;31mValueError\u001b[0m: too many values to unpack (expected 2)"
     ]
    }
   ],
   "source": [
    "tmp_str = ''\n",
    "begin_index = ['a','b','c']\n",
    "end_index = ['a','b','c']\n",
    "for tmp_beg, tmp_end in begin_index, end_index:\n",
    "    tmp = tmp_beg + '\\t' + tmp_end + '\\n'\n",
    "    tmp_str += tmp\n",
    "    \n",
    "    \n",
    "print(tmp_str)"
   ]
  },
  {
   "cell_type": "code",
   "execution_count": 3,
   "metadata": {},
   "outputs": [
    {
     "name": "stdout",
     "output_type": "stream",
     "text": [
      "['a\\t1\\n', 'a\\t2\\n', 'a\\t3\\n', 'b\\t1\\n', 'b\\t2\\n', 'b\\t3\\n', 'c\\t1\\n', 'c\\t2\\n', 'c\\t3\\n']\n"
     ]
    }
   ],
   "source": [
    "begin_index = ['a','b','c']\n",
    "end_index = ['1','2','3']\n",
    "\n",
    "tmp = [str(tmp_beg) + '\\t' + str(tmp_end) + '\\n' for tmp_beg in begin_index for tmp_end in end_index]\n",
    "print(tmp)"
   ]
  },
  {
   "cell_type": "code",
   "execution_count": 4,
   "metadata": {},
   "outputs": [
    {
     "name": "stdout",
     "output_type": "stream",
     "text": [
      "['a\\t1\\n', 'b\\t2\\n', 'c\\t3\\n']\n"
     ]
    }
   ],
   "source": [
    "begin_index = ['a','b','c']\n",
    "end_index = ['1','2','3']\n",
    "\n",
    "tmp = list(map(lambda x,y:x+'\\t'+y+'\\n', begin_index,end_index))\n",
    "print(tmp)"
   ]
  },
  {
   "cell_type": "code",
   "execution_count": 12,
   "metadata": {},
   "outputs": [
    {
     "name": "stdout",
     "output_type": "stream",
     "text": [
      "['a\\n', 'b\\n', 'c\\n']\n",
      "['a\\n', 'b\\n', 'c\\n']\n"
     ]
    }
   ],
   "source": [
    "begin_index = ['a\\n','b\\n','c\\n']\n",
    "print(str(begin_index))\n",
    "\n",
    "import pickle\n",
    "with open(\"baseline_result.txt\", 'wb') as file_results:\n",
    "    pickle.dump(begin_index, file_results, 0)\n",
    "    \n",
    "with open(\"baseline_result.txt\", 'rb') as file_results:\n",
    "    bb=pickle.load(file_results)  \n",
    "    print(bb)\n"
   ]
  },
  {
   "cell_type": "code",
   "execution_count": null,
   "metadata": {
    "collapsed": true
   },
   "outputs": [],
   "source": []
  }
 ],
 "metadata": {
  "kernelspec": {
   "display_name": "Python 3",
   "language": "python",
   "name": "python3"
  },
  "language_info": {
   "codemirror_mode": {
    "name": "ipython",
    "version": 3
   },
   "file_extension": ".py",
   "mimetype": "text/x-python",
   "name": "python",
   "nbconvert_exporter": "python",
   "pygments_lexer": "ipython3",
   "version": "3.6.3"
  }
 },
 "nbformat": 4,
 "nbformat_minor": 2
}
