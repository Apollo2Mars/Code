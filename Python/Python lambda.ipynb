{
 "cells": [
  {
   "cell_type": "code",
   "execution_count": 1,
   "metadata": {},
   "outputs": [
    {
     "name": "stdout",
     "output_type": "stream",
     "text": [
      "2\n",
      "[18, 9, 24, 12, 27]\n",
      "[14, 46, 28, 54, 44, 58, 26, 34, 64]\n",
      "139\n"
     ]
    }
   ],
   "source": [
    "# lambda\n",
    "# 对单个值　\n",
    "aaa = lambda x:x+1\n",
    "print(aaa(1))\n",
    "# 对序列\n",
    "import functools \n",
    "foo = [2, 18, 9, 22, 17, 24, 8, 12, 27]\n",
    "print (list(filter(lambda x: x % 3 == 0, foo)))\n",
    "print (list(map(lambda x: x * 2 + 10, foo)))\n",
    "print (functools.reduce(lambda x, y: x + y, foo))"
   ]
  },
  {
   "cell_type": "code",
   "execution_count": null,
   "metadata": {
    "collapsed": true
   },
   "outputs": [],
   "source": []
  }
 ],
 "metadata": {
  "kernelspec": {
   "display_name": "Python 3",
   "language": "python",
   "name": "python3"
  },
  "language_info": {
   "codemirror_mode": {
    "name": "ipython",
    "version": 3
   },
   "file_extension": ".py",
   "mimetype": "text/x-python",
   "name": "python",
   "nbconvert_exporter": "python",
   "pygments_lexer": "ipython3",
   "version": "3.6.3"
  }
 },
 "nbformat": 4,
 "nbformat_minor": 2
}
