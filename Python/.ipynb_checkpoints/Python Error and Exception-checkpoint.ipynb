{
 "cells": [
  {
   "cell_type": "code",
   "execution_count": null,
   "metadata": {
    "collapsed": true
   },
   "outputs": [],
   "source": [
    "+ SyntaxError : 语法错误\n",
    "\t+ 常见语法错误列表\n",
    "\t\t+ pass"
   ]
  },
  {
   "cell_type": "code",
   "execution_count": null,
   "metadata": {
    "collapsed": true
   },
   "outputs": [],
   "source": [
    "+ Exception : 异常\n",
    "\t+ try\n",
    "\t\t+ try/except语句用来检测try语句块中的错误，从而让except语句捕获异常信息并处理\n",
    "\t```\n",
    "        try:\n",
    "        \tf = open('myfile.txt')\n",
    "\t\t\ts = f.readline()\n",
    "\t\t\ti = int(s.strip())\n",
    "        except OSError as err:\n",
    "        \tprint(\"OS error: {0}\".format(err))\n",
    "        except ValueError:\n",
    "        \tprint(\"Could not convert data to an integer.\")\n",
    "        except:\n",
    "                print(\"Unexpected error:\", sys.exc_info()[0])\n",
    "                raise\n",
    "        ```\n",
    "\t+ except\n",
    "\t\t+ 使用except而不带任何异常类型\n",
    "\t\t+ 使用except而带多种异常类型\n",
    "\n",
    "\t+ finally\n",
    "\t\t+ try-finally 语句无论是否发生异常都将执行最后的代码\n",
    "\t+ else\n",
    "\t\t+ try except 语句还有一个可选的else子句，如果使用这个子句，那么必须放在所有的except子句之后\n",
    "        \t+ 这个子句将在try子句没有发生任何异常的时候执行\n",
    "        \t+ 使用 else 子句比把所有的语句都放在 try 子句里面要好，这样可以避免一些意想不到的、而except又没有捕获的异常\n",
    "\n",
    "        ```\n",
    "        for arg in sys.argv[1:]:\n",
    "        try:\n",
    "            f = open(arg, 'r')\n",
    "        except IOError:\n",
    "            print('cannot open', arg)\n",
    "        else:\n",
    "            print(arg, 'has', len(f.readlines()), 'lines')\n",
    "            f.close()\n",
    "        ```\n",
    "\t+ 抛出异常\n",
    "\t\t+ 抛出一个指定的异常\n",
    "\n",
    "        ```\n",
    "        $ raise NameError('HiThere')\n",
    "        # output\n",
    "        Traceback (most recent call last):\n",
    "                File \"<stdin>\", line 1, in ?\n",
    "        NameError: HiThere\n",
    "        ```\n",
    "\n",
    "        + raise 唯一的一个参数指定了要被抛出的异常。它必须是一个异常的实例或者是异常的类（也就是 Exception 的子类）。如果你只想知道这是否抛出了一个异常，并不想去处理它，那么一个简单的 raise 语句就可以再次把它抛出\n",
    "\n",
    "        ```\n",
    "        $ try:\n",
    "        raise NameError('HiThere')\n",
    "    \t\texcept NameError:\n",
    "        print('An exception flew by!')\n",
    "        raise\n",
    "        # output\n",
    "        An exception flew by!\n",
    "        Traceback (most recent call last):\n",
    "        \tFile \"<stdin>\", line 2, in ?\n",
    "        NameError: HiThere\n",
    "        ```\n",
    "\n",
    "\t+ 自定义异常\n",
    "\t\t+ pass"
   ]
  }
 ],
 "metadata": {
  "kernelspec": {
   "display_name": "Python 3",
   "language": "python",
   "name": "python3"
  },
  "language_info": {
   "codemirror_mode": {
    "name": "ipython",
    "version": 3
   },
   "file_extension": ".py",
   "mimetype": "text/x-python",
   "name": "python",
   "nbconvert_exporter": "python",
   "pygments_lexer": "ipython3",
   "version": "3.6.3"
  }
 },
 "nbformat": 4,
 "nbformat_minor": 2
}
