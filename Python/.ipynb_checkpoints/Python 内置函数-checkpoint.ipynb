{
 "cells": [
  {
   "cell_type": "markdown",
   "metadata": {},
   "source": [
    "# Python 内置函数\n",
    "## Reference\n",
    "\n",
    "## Define\n",
    "+ Python内置(built-in)函数随着python解释器的运行而创建。在Python的程序中，你可以随时调用这些函数，不需要定义\n"
   ]
  },
  {
   "cell_type": "markdown",
   "metadata": {},
   "source": [
    "\n",
    "## Function\n",
    "+ abs()   \n",
    "+ all()   \n",
    "+ any()   \n",
    "+ basestring()    \n",
    "+ bin()   \n",
    "+ bool()  \n",
    "+ bytearray() \n",
    "+ callable()  \n",
    "+ chr()   \n",
    "+ classmethod()   \n",
    "+ cmp()   \n",
    "+ compile()   \n",
    "+ complex()   \n",
    "+ delattr()     \n",
    "+ dict()   \n",
    "+ dir()      \n",
    "+ divmod()    \n"
   ]
  },
  {
   "cell_type": "code",
   "execution_count": 4,
   "metadata": {},
   "outputs": [
    {
     "name": "stdout",
     "output_type": "stream",
     "text": [
      "[(0, 'Spring'), (1, 'Summer'), (2, 'Fall'), (3, 'Winter')]\n",
      "[(1, 'Spring'), (2, 'Summer'), (3, 'Fall'), (4, 'Winter')]\n",
      "0 one\n",
      "1 two\n",
      "2 three\n"
     ]
    }
   ],
   "source": [
    "# enumerate() \n",
    "# 用于将一个可遍历的数据对象(如列表、元组或字符串)组合为一个索引序列，同时列出数据和数据下标\n",
    "# 一般用在 for 循环当中\n",
    "# enumerate(sequence, [start=0])\n",
    "# sequence -- 一个序列、迭代器或其他支持迭代对象\n",
    "# start -- 下标起始位置\n",
    "\n",
    "seasons = ['Spring', 'Summer', 'Fall', 'Winter']\n",
    "print(list(enumerate(seasons)))\n",
    "\n",
    "print(list(enumerate(seasons, start=1)))       # 小标从 1 开始\n",
    "\n",
    "seq = ['one', 'two', 'three']\n",
    "for i, element in enumerate(seq):\n",
    "    print(i, seq[i])\n",
    "\n",
    "\n"
   ]
  },
  {
   "cell_type": "code",
   "execution_count": null,
   "metadata": {
    "collapsed": true
   },
   "outputs": [],
   "source": [
    "+ eval()  \n",
    "+ execfile()  \n",
    "+ file()  "
   ]
  },
  {
   "cell_type": "code",
   "execution_count": 8,
   "metadata": {},
   "outputs": [
    {
     "name": "stdout",
     "output_type": "stream",
     "text": [
      "[1, 3, 5, 7, 9]\n"
     ]
    }
   ],
   "source": [
    "# filter()    \n",
    "# 过滤掉不满足条件的元素\n",
    "\n",
    "def is_odd(n):\n",
    "    return n % 2 == 1\n",
    "newlist = filter(is_odd, [1, 2, 3, 4, 5, 6, 7, 8, 9, 10])\n",
    "print(list(newlist))"
   ]
  },
  {
   "cell_type": "code",
   "execution_count": null,
   "metadata": {
    "collapsed": true
   },
   "outputs": [],
   "source": [
    "+ float() \n",
    "+ format()    \n",
    "+ frozenset() \n",
    "+ getattr()   \n",
    "+ globals()   \n",
    "+ hasattr()   \n",
    "+ hash()  \n",
    "+ help()  \n",
    "+ hex()   \n",
    "+ id()    \n",
    "+ input() \n",
    "+ int()   \n",
    "+ isinstance()   \n",
    "+ issubclass()    \n",
    "+ iter()  \n",
    "+ len()   \n",
    "+ list()  \n",
    "+ locals()    \n",
    "+ long()  "
   ]
  },
  {
   "cell_type": "code",
   "execution_count": 23,
   "metadata": {},
   "outputs": [
    {
     "name": "stdout",
     "output_type": "stream",
     "text": [
      "[1, 4, 9, 16, 25, 36, 49, 64]\n",
      "[6, 8, 10, 12]\n"
     ]
    }
   ],
   "source": [
    "# map()  \n",
    "# 会根据提供的函数对指定序列做映射\n",
    "# 第一个参数 function 以参数序列中的每一个元素调用 function 函数\n",
    "# \n",
    "# map(function, iterable, ...)\n",
    "# function -- 函数，有两个参数\n",
    "# iterable -- 一个或多个序列\n",
    "#\n",
    "# 返回包含每次 function 函数返回值的新列表\n",
    "# python 2 返回　列表\n",
    "# python 3 返回 迭代器\n",
    "\n",
    "def square(x):\n",
    "    return x**2\n",
    "l = [1,2,3,4]\n",
    "l1 = [5,6,7,8]\n",
    "print(list(map(square, l+ l1)))\n",
    "# 与lambda结合\n",
    "print(list(map(lambda x, y:x+y, l, l1)))"
   ]
  },
  {
   "cell_type": "code",
   "execution_count": null,
   "metadata": {
    "collapsed": true
   },
   "outputs": [],
   "source": [
    "+ max()   \n",
    "+ memoryview()    \n",
    "+ min()   \n",
    "+ next()  \n",
    "+ object()     \n",
    "+ oct()   \n",
    "+ open()  \n",
    "+ ord()   \n",
    "+ pow()   \n",
    "+ print() \n",
    "+ property()  \n",
    "+ range() type()\n",
    "+ raw_input() "
   ]
  },
  {
   "cell_type": "code",
   "execution_count": 17,
   "metadata": {},
   "outputs": [
    {
     "name": "stdout",
     "output_type": "stream",
     "text": [
      "15\n",
      "115\n"
     ]
    }
   ],
   "source": [
    "# reduce() \n",
    "# 函数会对参数序列中元素进行累积。\n",
    "# Python3 无法直接使用，已经放入functool\n",
    "# reduce(function, iterable[, initializer])\n",
    "# function -- 函数，有两个参数\n",
    "# iterable -- 可迭代对象\n",
    "# initializer -- 可选，初始参数\n",
    "\n",
    "def f(x, y):\n",
    "    return x + y\n",
    "\n",
    "from functools import reduce\n",
    "print(reduce(f, [1,2,3,4,5]))\n",
    "print(reduce(f, [1,2,3,4,5], 100))"
   ]
  },
  {
   "cell_type": "code",
   "execution_count": null,
   "metadata": {
    "collapsed": true
   },
   "outputs": [],
   "source": [
    "+ reload()    \n",
    "+ repr()  \n",
    "+ reverse()   zip()\n",
    "+ round() \n",
    "+ set() \n",
    "+ setattr()\n",
    "+ slice() \n",
    "+ sorted() \n",
    "+ staticmethod()\n",
    "+ str()\n",
    "+ sum()\n",
    "+ super()\n",
    "+ tuple()\n",
    "+ unichr()\n",
    "+ unicode()\n",
    "+ vars()"
   ]
  },
  {
   "cell_type": "code",
   "execution_count": 21,
   "metadata": {},
   "outputs": [
    {
     "name": "stdout",
     "output_type": "stream",
     "text": [
      "range(0, 8)\n",
      "[0, 1, 2, 3, 4, 5, 6, 7]\n",
      "[0, 1, 2, 3, 4]\n",
      "[0, 2, 4]\n"
     ]
    }
   ],
   "source": [
    "# xrange()\n",
    "# xrange() 函数用法与 range 完全相同，所不同的是生成的不是一个数组，而是一个生成器\n",
    "# xrange(stop)\n",
    "# xrange(start, stop[, step])\n",
    "# python 3 中　将xrange( )函数全部换为range( )\n",
    "print(range(8))\n",
    "print(list(range(8)))\n",
    "print(list(range(0,5)))\n",
    "print(list(range(0,6,2)))"
   ]
  },
  {
   "cell_type": "code",
   "execution_count": 13,
   "metadata": {},
   "outputs": [
    {
     "name": "stdout",
     "output_type": "stream",
     "text": [
      "[(1, 4), (2, 5), (3, 6)]\n",
      "[(1, 4), (2, 5), (3, 6)]\n",
      "[(1, 2, 3), (4, 5, 6)]\n",
      "['a', 'b', 'c', 'd', 'e', 'f']\n",
      "[('a', 'b'), ('b', 'c'), ('c', 'd'), ('d', 'e'), ('e', 'f')]\n"
     ]
    }
   ],
   "source": [
    "# zip()\n",
    "# 用于将可迭代的对象作为参数，将对象中对应的元素打包成一个个元组，然后返回由这些元组组成的列表\n",
    "# 如果各个迭代器的元素个数不一致，则返回列表长度与最短的对象相同，利用 * 号操作符，可以将元组解压为列表\n",
    "# zip([iterable, ...])\n",
    "\n",
    "a = [1,2,3]\n",
    "b = [4,5,6]\n",
    "c = [4,5,6,7,8]\n",
    "zipped = zip(a,b)\n",
    "print(list(zipped))\n",
    "print(list(zip(a,c)))\n",
    "\n",
    "d = [(1, 4), (2, 5), (3, 6)]\n",
    "print(list(zip(*d)))\n",
    "\n",
    "\n",
    "l = ['a', 'b', 'c', 'd', 'e','f']\n",
    "print(l)\n",
    "print(list(zip(l[:-1],l[1:])))"
   ]
  },
  {
   "cell_type": "code",
   "execution_count": null,
   "metadata": {
    "collapsed": true
   },
   "outputs": [],
   "source": [
    "+ __import__()\n",
    "+ exec 内置表达式"
   ]
  }
 ],
 "metadata": {
  "kernelspec": {
   "display_name": "Python 3",
   "language": "python",
   "name": "python3"
  },
  "language_info": {
   "codemirror_mode": {
    "name": "ipython",
    "version": 3
   },
   "file_extension": ".py",
   "mimetype": "text/x-python",
   "name": "python",
   "nbconvert_exporter": "python",
   "pygments_lexer": "ipython3",
   "version": "3.6.3"
  }
 },
 "nbformat": 4,
 "nbformat_minor": 2
}
