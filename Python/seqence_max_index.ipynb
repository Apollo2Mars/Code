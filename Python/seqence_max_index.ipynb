{
 "cells": [
  {
   "cell_type": "code",
   "execution_count": 3,
   "metadata": {},
   "outputs": [
    {
     "name": "stdout",
     "output_type": "stream",
     "text": [
      "[[0.30983564 0.06400809 0.21519437]\n",
      " [0.21491848 0.25523354 0.32270796]\n",
      " [0.21792866 0.08834384 0.60826659]\n",
      " [0.62430878 0.65431505 0.02946159]\n",
      " [0.93487411 0.62631512 0.61672987]\n",
      " [0.40281301 0.63700852 0.27089114]]\n"
     ]
    }
   ],
   "source": [
    "import numpy as np\n",
    "\n",
    "matrix = np.random.rand(6,3)\n",
    "print(matrix)"
   ]
  },
  {
   "cell_type": "code",
   "execution_count": 19,
   "metadata": {},
   "outputs": [
    {
     "name": "stdout",
     "output_type": "stream",
     "text": [
      "0.3098356411999731\n",
      "0.06400809174194588\n",
      "0.21519436744867004\n"
     ]
    },
    {
     "data": {
      "text/plain": [
       "[None, None, None]"
      ]
     },
     "execution_count": 19,
     "metadata": {},
     "output_type": "execute_result"
    }
   ],
   "source": [
    "# 第一行 \n",
    "[print(tmp) for tmp in matrix[0]]"
   ]
  },
  {
   "cell_type": "code",
   "execution_count": 17,
   "metadata": {},
   "outputs": [
    {
     "name": "stdout",
     "output_type": "stream",
     "text": [
      "[0.3098356411999731, 0.06400809174194588, 0.21519436744867004]\n",
      "[0.2149184831253812, 0.25523354308259694, 0.3227079567794877]\n",
      "[0.2179286606081351, 0.08834384370544524, 0.6082665869251934]\n",
      "[0.6243087765961715, 0.6543150527110951, 0.029461587525002608]\n",
      "[0.934874111072087, 0.6263151233038557, 0.6167298690413371]\n",
      "[0.40281300596809755, 0.6370085154294345, 0.270891142234285]\n"
     ]
    },
    {
     "data": {
      "text/plain": [
       "[None, None, None, None, None, None]"
      ]
     },
     "execution_count": 17,
     "metadata": {},
     "output_type": "execute_result"
    }
   ],
   "source": [
    "# matrix to list\n",
    "list_1 = matrix.tolist()\n",
    "\n",
    "[print(tmp) for tmp in list_1]"
   ]
  },
  {
   "cell_type": "code",
   "execution_count": 16,
   "metadata": {},
   "outputs": [
    {
     "name": "stdout",
     "output_type": "stream",
     "text": [
      "[0.21491848 0.25523354 0.32270796]\n",
      "[0.21792866 0.08834384 0.60826659]\n",
      "[0.62430878 0.65431505 0.02946159]\n",
      "[0.93487411 0.62631512 0.61672987]\n",
      "[0.40281301 0.63700852 0.27089114]\n"
     ]
    },
    {
     "data": {
      "text/plain": [
       "[None, None, None, None, None]"
      ]
     },
     "execution_count": 16,
     "metadata": {},
     "output_type": "execute_result"
    }
   ],
   "source": [
    "[print(tmp) for tmp in matrix[1:]]"
   ]
  },
  {
   "cell_type": "code",
   "execution_count": 20,
   "metadata": {},
   "outputs": [
    {
     "name": "stdout",
     "output_type": "stream",
     "text": [
      "[0, 2, 2, 1, 0, 1]\n"
     ]
    }
   ],
   "source": [
    "# 获取每行的最大数的下标\n",
    "list_1 = matrix.tolist()\n",
    "list_max_index = [np.argmax(i) for i in list_1]\n",
    "print(list_max_index)"
   ]
  },
  {
   "cell_type": "code",
   "execution_count": null,
   "metadata": {},
   "outputs": [],
   "source": []
  }
 ],
 "metadata": {
  "kernelspec": {
   "display_name": "Python 3",
   "language": "python",
   "name": "python3"
  },
  "language_info": {
   "codemirror_mode": {
    "name": "ipython",
    "version": 3
   },
   "file_extension": ".py",
   "mimetype": "text/x-python",
   "name": "python",
   "nbconvert_exporter": "python",
   "pygments_lexer": "ipython3",
   "version": "3.6.3"
  }
 },
 "nbformat": 4,
 "nbformat_minor": 2
}
