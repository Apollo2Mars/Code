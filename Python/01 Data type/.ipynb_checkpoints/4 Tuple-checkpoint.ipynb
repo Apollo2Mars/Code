{
 "cells": [
  {
   "cell_type": "markdown",
   "metadata": {},
   "source": [
    "## Tuple (不可变/immutable)Set() {}\n",
    "+ 元组（tuple）与列表类似，不同之处在于元组的元素不能修改\n",
    "+ 可包含List等可变的对象\n",
    "```\n",
    "    tup = (1, 2, 3, 4, 5, 6)\n",
    "    print(tup[0])\n",
    "    ```\n",
    "+ 构造包含 0 个或 1 个元素的元组比较特殊，所以有一些额外的语法规则\n",
    "```\n",
    "tup1 = ()    # 空元组\n",
    "tup2 = (20,) # 一个元素，需要在元素后添加逗号\n",
    "    ```\n",
    "+ **Function**\n",
    "    + len(tuple)\n",
    "    + min(tuple)\n",
    "    + max(tuple)\n",
    "    + tuple(seq)\n",
    "        + 将列表转换为元组"
   ]
  },
  {
   "cell_type": "code",
   "execution_count": 1,
   "metadata": {},
   "outputs": [
    {
     "name": "stdout",
     "output_type": "stream",
     "text": [
      "(7, 3, 1)\n"
     ]
    }
   ],
   "source": [
    "# tuple 拼接\n",
    "print((7,)+(3,)+(1,))"
   ]
  },
  {
   "cell_type": "code",
   "execution_count": null,
   "metadata": {
    "collapsed": true
   },
   "outputs": [],
   "source": []
  }
 ],
 "metadata": {
  "kernelspec": {
   "display_name": "Python 3",
   "language": "python",
   "name": "python3"
  },
  "language_info": {
   "codemirror_mode": {
    "name": "ipython",
    "version": 3
   },
   "file_extension": ".py",
   "mimetype": "text/x-python",
   "name": "python",
   "nbconvert_exporter": "python",
   "pygments_lexer": "ipython3",
   "version": "3.6.3"
  }
 },
 "nbformat": 4,
 "nbformat_minor": 2
}
