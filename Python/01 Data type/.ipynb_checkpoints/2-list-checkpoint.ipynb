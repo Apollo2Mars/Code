{
 "cells": [
  {
   "cell_type": "markdown",
   "metadata": {},
   "source": [
    "## List(可变) []\n",
    "+ 列表是写在方括号([])之间、用逗号分隔开的元素列表\n",
    "+ 和字符串一样，列表同样可以被索引和截取，列表被截取后返回一个包含所需元素的新列表\n",
    "    + 截取 ： 变量[头下标:尾下标]\n",
    "    + 索引值以 0 为开始值，-1 为从末尾的开始位置\n",
    "+ 加号（+）是列表连接运算符，星号（*）是重复操作"
   ]
  },
  {
   "cell_type": "code",
   "execution_count": null,
   "metadata": {
    "collapsed": true
   },
   "outputs": [],
   "source": [
    "list = [ 'abcd', 786 , 2.23, 'runoob', 70.2 ]\n",
    "tinylist = [123, 'runoob']\n",
    "print (list)            # 输出完整列表\n",
    "print (list[0])         # 输出列表第一个元素\n",
    "print (list[1:3])       # 从第二个开始输出到第三个元素\n",
    "print (list[2:])        # 输出从第三个元素开始的所有元素\n",
    "print (tinylist * 2)    # 输出两次列表\n",
    "print (list + tinylist) # 连接列表"
   ]
  },
  {
   "cell_type": "markdown",
   "metadata": {},
   "source": [
    "+ 与字符串不一样的是，列表中的元素是可以改变的"
   ]
  },
  {
   "cell_type": "code",
   "execution_count": 1,
   "metadata": {},
   "outputs": [
    {
     "data": {
      "text/plain": [
       "[9, 2, 6]"
      ]
     },
     "execution_count": 1,
     "metadata": {},
     "output_type": "execute_result"
    }
   ],
   "source": [
    "a = [1, 2, 3, 4, 5, 6]\n",
    "a[0] = 9\n",
    "a[2:5] = [13, 14, 15]\n",
    "a\n",
    "[9, 2, 13, 14, 15, 6]\n",
    "a[2:5] = []   # 将对应的元素值设置为 []\n",
    "a"
   ]
  },
  {
   "cell_type": "code",
   "execution_count": null,
   "metadata": {
    "collapsed": true
   },
   "outputs": [],
   "source": [
    "+ List 中添加元素\n",
    "    + append() 追加单个元素到List的尾部，只接受一个参数，参数可以是任何数据类型，被追加的元素在List中保持着原结构类型\n",
    "    + extend() 将一个列表中每个元素分别添加到另一个列表中，只接受一个参数；extend()相当于是将list B 连接到list A上\n",
    "    + insert() 将一个元素插入到列表中，但其参数有两个（如insert(1,\"g\")），第一个参数是索引点，即插入的位置，第二个参数是插入的元素\n",
    "    + + 加号，将两个list相加，会返回到一个新的list对象，注意与前三种的区别。前面三种方法（append, extend, insert）可对列表增加元素的操作，他们没有返回值，是直接修改了原数据对象。 注意：将两个list相加，需要创建新的list对象，从而需要消耗额外的内存，特别是当list较大时，尽量不要使用“+”来添加list，而应该尽可能使用List的append()方法\n"
   ]
  },
  {
   "cell_type": "code",
   "execution_count": null,
   "metadata": {
    "collapsed": true
   },
   "outputs": [],
   "source": [
    "+ **Function**\n",
    "    + len(list)\n",
    "    + max(list)\n",
    "    + min(list)\n",
    "    + list(seq)\n",
    "        + 将元组转化为列表\n",
    "    + list.append(obj)\n",
    "        + 在列表末尾添加新的对象\n",
    "    + list.count(obj)\n",
    "        + 统计某个元素在列表中出现的次数\n",
    "    + list.extend(seq)\n",
    "        + 在列表末尾一次性追加另一个序列中的多个值（用新列表扩展原来的列表）\n",
    "    + list.index(obj)\n",
    "        + 从列表中找出某个值第一个匹配项的索引位置\n",
    "    + list.insert(index, obj)\n",
    "        + 将对象插入列表\n",
    "    + list.pop(obj=list[-1])\n",
    "        + 移除列表中的一个元素（默认最后一个元素），并且返回该元素的值\n",
    "    + list.remove(obj)\n",
    "        + 移除列表中某个值的第一个匹配项\n",
    "    + list.reverse()\n",
    "        + 反向列表中元素\n",
    "    + list.sort([func])\n",
    "        + 对原列表进行排序\n",
    "    + list.clear()\n",
    "        + 清空列表\n",
    "    + list.copy()\n",
    "        + 复制列表"
   ]
  },
  {
   "cell_type": "code",
   "execution_count": 3,
   "metadata": {},
   "outputs": [
    {
     "name": "stdout",
     "output_type": "stream",
     "text": [
      "[1, 1, 3, 1]\n"
     ]
    }
   ],
   "source": [
    "l = [1,1,1]\n",
    "l.insert(2,3) # 顺次后移\n",
    "print(l)"
   ]
  },
  {
   "cell_type": "code",
   "execution_count": null,
   "metadata": {
    "collapsed": true
   },
   "outputs": [],
   "source": []
  }
 ],
 "metadata": {
  "kernelspec": {
   "display_name": "Python 3",
   "language": "python",
   "name": "python3"
  },
  "language_info": {
   "codemirror_mode": {
    "name": "ipython",
    "version": 3
   },
   "file_extension": ".py",
   "mimetype": "text/x-python",
   "name": "python",
   "nbconvert_exporter": "python",
   "pygments_lexer": "ipython3",
   "version": "3.6.3"
  }
 },
 "nbformat": 4,
 "nbformat_minor": 2
}
