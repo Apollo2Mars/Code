{
 "cells": [
  {
   "cell_type": "code",
   "execution_count": 12,
   "metadata": {},
   "outputs": [
    {
     "name": "stdout",
     "output_type": "stream",
     "text": [
      "['<NUM>', '4', '年', '<NUM>', '月', '上', '午', '<NUM>', '点', '的', '闹', '铃']\n"
     ]
    }
   ],
   "source": [
    "import re\n",
    "input_text = \"1997年9月上午10点的闹铃\"\n",
    "\n",
    "pattern_digital = re.compile(r'([\\d]+(?=[^>]*(?=<|$)))')  # match digital\n",
    "\n",
    "key2 = re.findall(pattern_digital, input_text)\n",
    "\n",
    "if key2:\n",
    "    for i in key2:\n",
    "        if len(i) in [3, 4, 5, 6, 8, 11]:  # 如果长度是3，4，5,6，8，11 转化成<Number%d>%len(i)的形式，否则直接转化成<Number>\n",
    "            input_text = input_text.replace(i, '@%d' % len(i), 1)\n",
    "        else:\n",
    "            input_text = input_text.replace(i, '@', 1)\n",
    "content = list(input_text)\n",
    "content = ['<NUM>' if a == '@' else a for a in content]\n",
    "\n",
    "print(content)"
   ]
  },
  {
   "cell_type": "code",
   "execution_count": 10,
   "metadata": {},
   "outputs": [
    {
     "name": "stdout",
     "output_type": "stream",
     "text": [
      "['<NUM>', '年', '<NUM>', '月', '上', '午', '<NUM>', '点', '的', '闹', '铃', '，', '播', '放', '相', '约', '<NUM>']\n"
     ]
    }
   ],
   "source": [
    "import re\n",
    "input_text = \"1997年9月上午10点的闹铃，播放相约1997\"\n",
    "\n",
    "pattern_digital = re.compile(r'([\\d]+(?=[^>]*(?=<|$)))')  # match digital\n",
    "\n",
    "key2 = re.findall(pattern_digital, input_text)\n",
    "\n",
    "if key2:\n",
    "    for i in key2:\n",
    "        input_text = input_text.replace(i, '@', 1)\n",
    "content = list(input_text)\n",
    "content = ['<NUM>' if a == '@' else a for a in content]\n",
    "\n",
    "print(content)"
   ]
  },
  {
   "cell_type": "code",
   "execution_count": 11,
   "metadata": {},
   "outputs": [
    {
     "name": "stdout",
     "output_type": "stream",
     "text": [
      "['<', 'N', 'U', 'M', '>', '年', '<', 'N', 'U', 'M', '>', '月', '上', '午', '<', 'N', 'U', 'M', '>', '点', '的', '闹', '铃', '，', '播', '放', '相', '约', '<', 'N', 'U', 'M', '>']\n"
     ]
    }
   ],
   "source": [
    "import re\n",
    "input_text = \"1997年9月上午10点的闹铃，播放相约1997\"\n",
    "\n",
    "pattern_digital = re.compile(r'([\\d]+(?=[^>]*(?=<|$)))')  # match digital\n",
    "\n",
    "key2 = re.findall(pattern_digital, input_text)\n",
    "\n",
    "if key2:\n",
    "    for i in key2:\n",
    "        input_text = input_text.replace(i, '<NUM>', 1)\n",
    "content = list(input_text)\n",
    "# content = ['<NUM>' if a == '@' else a for a in content]\n",
    "\n",
    "print(content)"
   ]
  },
  {
   "cell_type": "code",
   "execution_count": null,
   "metadata": {},
   "outputs": [],
   "source": []
  }
 ],
 "metadata": {
  "kernelspec": {
   "display_name": "Python 3",
   "language": "python",
   "name": "python3"
  },
  "language_info": {
   "codemirror_mode": {
    "name": "ipython",
    "version": 3
   },
   "file_extension": ".py",
   "mimetype": "text/x-python",
   "name": "python",
   "nbconvert_exporter": "python",
   "pygments_lexer": "ipython3",
   "version": "3.7.1"
  }
 },
 "nbformat": 4,
 "nbformat_minor": 2
}
