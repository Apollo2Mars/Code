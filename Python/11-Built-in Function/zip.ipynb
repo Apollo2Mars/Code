{
 "cells": [
  {
   "cell_type": "code",
   "execution_count": 1,
   "metadata": {},
   "outputs": [
    {
     "name": "stdout",
     "output_type": "stream",
     "text": [
      "[(1, 4), (2, 5), (3, 6)]\n",
      "[(1, 4), (2, 5), (3, 6)]\n",
      "[(1, 2, 3), (4, 5, 6)]\n",
      "['a', 'b', 'c', 'd', 'e', 'f']\n",
      "[('a', 'b'), ('b', 'c'), ('c', 'd'), ('d', 'e'), ('e', 'f')]\n"
     ]
    }
   ],
   "source": [
    "# zip()\n",
    "# 用于将可迭代的对象作为参数，将对象中对应的元素打包成一个个元组，然后返回由这些元组组成的列表\n",
    "# 如果各个迭代器的元素个数不一致，则返回列表长度与最短的对象相同，利用 * 号操作符，可以将元组解压为列表\n",
    "# zip([iterable, ...])\n",
    "\n",
    "a = [1,2,3]\n",
    "b = [4,5,6]\n",
    "c = [4,5,6,7,8]\n",
    "zipped = zip(a,b)\n",
    "print(list(zipped))\n",
    "print(list(zip(a,c)))\n",
    "\n",
    "# 将元组解压为列表\n",
    "d = [(1, 4), (2, 5), (3, 6)]\n",
    "print(list(zip(*d)))\n",
    "\n",
    "\n",
    "l = ['a', 'b', 'c', 'd', 'e','f']\n",
    "print(l)\n",
    "print(list(zip(l[:-1],l[1:])))"
   ]
  },
  {
   "cell_type": "code",
   "execution_count": 12,
   "metadata": {},
   "outputs": [
    {
     "name": "stdout",
     "output_type": "stream",
     "text": [
      "[(1, 4), (2, 5), (3, 6)]\n",
      "[[1, 4], [2, 5], [3, 6]]\n",
      "[5, 7, 9]\n"
     ]
    }
   ],
   "source": [
    "# 求每一列的均值\n",
    "\n",
    "a = [1,2,3]\n",
    "b = [4,5,6]\n",
    "\n",
    "zipped = list(zip(a,b))\n",
    "print(zipped)\n",
    "print(list(map(list, zipped)))\n",
    "\n",
    "\n",
    "sum_list = list(map(sum, zipped))\n",
    "print(sum_list)"
   ]
  },
  {
   "cell_type": "code",
   "execution_count": 1,
   "metadata": {},
   "outputs": [
    {
     "name": "stdout",
     "output_type": "stream",
     "text": [
      "[(1, 4, 4), (2, 5, 5), (3, 6, 6)]\n"
     ]
    }
   ],
   "source": [
    "a = [1,2,3]\n",
    "b = [4,5,6]\n",
    "c = [4,5,6]\n",
    "zipped = zip(a,b,c)\n",
    "print(list(zipped))"
   ]
  },
  {
   "cell_type": "code",
   "execution_count": null,
   "metadata": {},
   "outputs": [],
   "source": []
  }
 ],
 "metadata": {
  "kernelspec": {
   "display_name": "Python 3",
   "language": "python",
   "name": "python3"
  },
  "language_info": {
   "codemirror_mode": {
    "name": "ipython",
    "version": 3
   },
   "file_extension": ".py",
   "mimetype": "text/x-python",
   "name": "python",
   "nbconvert_exporter": "python",
   "pygments_lexer": "ipython3",
   "version": "3.6.3"
  }
 },
 "nbformat": 4,
 "nbformat_minor": 2
}
