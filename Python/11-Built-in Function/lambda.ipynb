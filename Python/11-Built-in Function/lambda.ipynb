{
 "cells": [
  {
   "cell_type": "code",
   "execution_count": 1,
   "metadata": {},
   "outputs": [
    {
     "name": "stdout",
     "output_type": "stream",
     "text": [
      "[1, 4, 9, 16, 25, 36, 49, 64]\n",
      "[6, 8, 10, 12]\n"
     ]
    }
   ],
   "source": [
    "def square(x):\n",
    "    return x**2\n",
    "l = [1,2,3,4]\n",
    "l1 = [5,6,7,8]\n",
    "print(list(map(square, l+ l1)))\n",
    "# 与lambda结合\n",
    "print(list(map(lambda x, y:x+y, l, l1)))"
   ]
  },
  {
   "cell_type": "code",
   "execution_count": 4,
   "metadata": {},
   "outputs": [
    {
     "name": "stdout",
     "output_type": "stream",
     "text": [
      "<function <lambda> at 0x111370ae8> [1, 2, 3, 4]\n"
     ]
    }
   ],
   "source": [
    "l = [1,2,3,4]\n",
    "\n",
    "print(lambda x:square(x), l)"
   ]
  },
  {
   "cell_type": "code",
   "execution_count": 19,
   "metadata": {},
   "outputs": [
    {
     "name": "stdout",
     "output_type": "stream",
     "text": [
      "[3, 3, 3]\n",
      "[6, 6, 6]\n",
      "[6, 6, 6]\n"
     ]
    }
   ],
   "source": [
    "def add(a, b):\n",
    "    return [item_a + item_b for item_a, item_b in zip(a, b)]\n",
    "\n",
    "def square(x):\n",
    "    return x**2\n",
    "\n",
    "l1 = [1] * 3\n",
    "l2 = [2] * 3\n",
    "print(add(l1, l2))\n",
    "print(add(l2, list(map(lambda x:x*2, l2))))\n",
    "print(add(l2, list(map(square, l2))))\n",
    "# print(add(l1, list(lambda x:square(x))))"
   ]
  },
  {
   "cell_type": "code",
   "execution_count": null,
   "metadata": {},
   "outputs": [],
   "source": []
  }
 ],
 "metadata": {
  "kernelspec": {
   "display_name": "Python 3",
   "language": "python",
   "name": "python3"
  },
  "language_info": {
   "codemirror_mode": {
    "name": "ipython",
    "version": 3
   },
   "file_extension": ".py",
   "mimetype": "text/x-python",
   "name": "python",
   "nbconvert_exporter": "python",
   "pygments_lexer": "ipython3",
   "version": "3.6.3"
  }
 },
 "nbformat": 4,
 "nbformat_minor": 2
}
