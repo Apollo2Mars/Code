{
 "cells": [
  {
   "cell_type": "markdown",
   "metadata": {},
   "source": [
    "Given inorder and postorder traversal of a tree, construct the binary tree."
   ]
  },
  {
   "cell_type": "code",
   "execution_count": 44,
   "metadata": {},
   "outputs": [],
   "source": [
    "# Definition for a binary tree node.\n",
    "class TreeNode:\n",
    "    def __init__(self, x):\n",
    "        self.val = x\n",
    "        self.left = None\n",
    "        self.right = None\n",
    "\n",
    "class Solution:\n",
    "    def buildTree(self, inorder, postorder):\n",
    "        \"\"\"\n",
    "        :type inorder: List[int]\n",
    "        :type postorder: List[int]\n",
    "        :rtype: TreeNode\n",
    "        \"\"\"\n",
    "        if len(inorder) == 0:\n",
    "            return None\n",
    "        \n",
    "        root_value = postorder[-1]\n",
    "        root_idx = inorder.index(root_value)\n",
    "        root = TreeNode(root_value)\n",
    "        \n",
    "        print(\"root value is :\" + str(root_value))\n",
    "        \n",
    "        def findSubRoot(tmp_inorder, tmp_root_idx, tmp_root):\n",
    "            def findRight():\n",
    "                # 找右子树的root\n",
    "                max_idx = -1\n",
    "                tmp_root_value = None\n",
    "\n",
    "                right_inorder = tmp_inorder[tmp_root_idx+1::]\n",
    "\n",
    "                for idx_tmp, val_tmp in enumerate(right_inorder):\n",
    "                    for idx_pos, val_pos in enumerate(postorder):\n",
    "                        if  val_tmp == val_pos:\n",
    "                            if idx_pos > max_idx:\n",
    "                                max_idx = idx_pos\n",
    "                                tmp_root_value = val_pos\n",
    "\n",
    "                subroot_idx = right_inorder.index(tmp_root_value) \n",
    "                subroot_value = tmp_root_value\n",
    "#                 print(\"right is : \" + str(subroot_value))\n",
    "                subroot = TreeNode(subroot_value)\n",
    "                tmp_root.right = subroot\n",
    "                findSubRoot(right_inorder, subroot_idx, subroot)\n",
    "            def findLeft():\n",
    "                # 找左子树的root\n",
    "                max_idx = -1\n",
    "                tmp_root_value = None\n",
    "\n",
    "                left_inorder = tmp_inorder[0:tmp_root_idx]\n",
    "\n",
    "                for idx_tmp, val_tmp in enumerate(left_inorder):\n",
    "                    for idx_pos, val_pos in enumerate(postorder):\n",
    "                        if  val_tmp == val_pos:\n",
    "                            if idx_pos > max_idx:\n",
    "                                max_idx = idx_pos\n",
    "                                tmp_root_value = val_pos\n",
    "\n",
    "                subroot_idx = left_inorder.index(tmp_root_value) \n",
    "                subroot_value = tmp_root_value\n",
    "#                 print(\"left is : \" + str(subroot_value))\n",
    "                subroot = TreeNode(subroot_value)\n",
    "                tmp_root.left = subroot\n",
    "                findSubRoot(left_inorder, subroot_idx, subroot)\n",
    "            if len(tmp_inorder) == 1:\n",
    "                return TreeNode(tmp_inorder[0])\n",
    "\n",
    "            if tmp_root_idx == 0: \n",
    "#                 print(\"##\")\n",
    "                findRight()\n",
    "            elif tmp_root_idx == len(tmp_inorder) - 1:\n",
    "#                 print(\"**\")\n",
    "                findLeft()\n",
    "            else:\n",
    "                findLeft()\n",
    "                findRight()\n",
    "                \n",
    "\n",
    "        findSubRoot(inorder, root_idx, root)\n",
    "        \n",
    "        return root\n",
    "        "
   ]
  },
  {
   "cell_type": "code",
   "execution_count": 45,
   "metadata": {},
   "outputs": [
    {
     "name": "stdout",
     "output_type": "stream",
     "text": [
      "root value is :3\n",
      "left is : 9\n",
      "right is : 20\n",
      "left is : 15\n",
      "right is : 7\n",
      "<__main__.TreeNode object at 0x7f507857c4e0>\n"
     ]
    }
   ],
   "source": [
    "# inorder = [2,1]\n",
    "# postorder = [2,1]\n",
    "\n",
    "inorder = [9,3,15,20,7]\n",
    "postorder = [9,15,7,20,3]\n",
    "\n",
    "sol = Solution()\n",
    "print(sol.buildTree(inorder, postorder))"
   ]
  },
  {
   "cell_type": "code",
   "execution_count": null,
   "metadata": {
    "collapsed": true
   },
   "outputs": [],
   "source": []
  }
 ],
 "metadata": {
  "kernelspec": {
   "display_name": "Python 3",
   "language": "python",
   "name": "python3"
  },
  "language_info": {
   "codemirror_mode": {
    "name": "ipython",
    "version": 3
   },
   "file_extension": ".py",
   "mimetype": "text/x-python",
   "name": "python",
   "nbconvert_exporter": "python",
   "pygments_lexer": "ipython3",
   "version": "3.6.3"
  }
 },
 "nbformat": 4,
 "nbformat_minor": 2
}
