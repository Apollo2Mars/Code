{
 "cells": [
  {
   "cell_type": "markdown",
   "metadata": {},
   "source": [
    "+ 两边补零\n",
    "+ n 递减"
   ]
  },
  {
   "cell_type": "code",
   "execution_count": 97,
   "metadata": {},
   "outputs": [],
   "source": [
    "class Solution:\n",
    "    def canPlaceFlowers(self, a, n):            \n",
    "        if n == 0: return True\n",
    "        a = [0] + a + [0]\n",
    "        for i in range(1, len(a)-1):            \n",
    "            if a[i-1] == a[i] == a[i+1] == 0:\n",
    "                a[i] = 1\n",
    "                n -= 1\n",
    "                if n == 0: return True\n",
    "\n",
    "        return False "
   ]
  },
  {
   "cell_type": "code",
   "execution_count": null,
   "metadata": {
    "collapsed": true
   },
   "outputs": [],
   "source": [
    "+ 当前还有问题\n",
    "+ 定义一个变量来统计所有 0的递增情况"
   ]
  },
  {
   "cell_type": "code",
   "execution_count": null,
   "metadata": {
    "collapsed": true
   },
   "outputs": [],
   "source": [
    "class Solution:\n",
    "    def canPlaceFlowers(self, flowerbed, n):\n",
    "        \"\"\"\n",
    "        :type flowerbed: List[int]\n",
    "        :type n: int\n",
    "        :rtype: bool\n",
    "        \"\"\"\n",
    "        # special case\n",
    "        if len(flowerbed) == flowerbed.count(0):\n",
    "            return (len(flowerbed)+1)/2 >= n\n",
    "        count = res = 0\n",
    "        flowerbed = [0] + flowerbed + [0]\n",
    "        for i in flowerbed:\n",
    "            if i == 1: # compute and update\n",
    "                if count != 0:\n",
    "                    res += (count-1)/2\n",
    "                count = 0\n",
    "            else:\n",
    "                count += 1\n",
    "        if i == 0:\n",
    "            res += (count-1)/2\n",
    "        return res>=n"
   ]
  },
  {
   "cell_type": "code",
   "execution_count": 98,
   "metadata": {},
   "outputs": [
    {
     "name": "stdout",
     "output_type": "stream",
     "text": [
      "True\n"
     ]
    }
   ],
   "source": [
    "f = [1,0]\n",
    "n = 1\n",
    "sol = Solution()\n",
    "print(sol.canPlaceFlowers(f,n))"
   ]
  },
  {
   "cell_type": "code",
   "execution_count": 94,
   "metadata": {},
   "outputs": [
    {
     "name": "stdout",
     "output_type": "stream",
     "text": [
      "end idx2\n",
      "1\n",
      "beg idx2\n",
      "end idx2\n",
      "0\n",
      "1\n",
      "beg idx2\n",
      "end idx4\n",
      "0\n",
      "1\n",
      "beg idx4\n",
      "2\n",
      "False\n"
     ]
    }
   ],
   "source": [
    "f = [0,0,1,0,1,0,0,0]\n",
    "n = 3\n",
    "sol = Solution()\n",
    "print(sol.canPlaceFlowers(f,n))"
   ]
  },
  {
   "cell_type": "code",
   "execution_count": 63,
   "metadata": {},
   "outputs": [
    {
     "name": "stdout",
     "output_type": "stream",
     "text": [
      "1\n"
     ]
    }
   ],
   "source": [
    "l = [1,2,1,3,1]\n",
    "print(l.index(2))"
   ]
  },
  {
   "cell_type": "code",
   "execution_count": 70,
   "metadata": {},
   "outputs": [
    {
     "name": "stdout",
     "output_type": "stream",
     "text": [
      "3\n"
     ]
    }
   ],
   "source": [
    "l = [1,2,1,3,1]\n",
    "print(l.count(1))"
   ]
  },
  {
   "cell_type": "code",
   "execution_count": null,
   "metadata": {
    "collapsed": true
   },
   "outputs": [],
   "source": []
  }
 ],
 "metadata": {
  "kernelspec": {
   "display_name": "Python 3",
   "language": "python",
   "name": "python3"
  },
  "language_info": {
   "codemirror_mode": {
    "name": "ipython",
    "version": 3
   },
   "file_extension": ".py",
   "mimetype": "text/x-python",
   "name": "python",
   "nbconvert_exporter": "python",
   "pygments_lexer": "ipython3",
   "version": "3.6.3"
  }
 },
 "nbformat": 4,
 "nbformat_minor": 2
}
