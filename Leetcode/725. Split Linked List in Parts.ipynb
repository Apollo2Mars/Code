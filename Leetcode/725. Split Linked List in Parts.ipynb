{
 "cells": [
  {
   "cell_type": "code",
   "execution_count": null,
   "metadata": {
    "collapsed": true
   },
   "outputs": [],
   "source": [
    "# Definition for singly-linked list.\n",
    "class ListNode(object):\n",
    "    def __init__(self, x):\n",
    "        self.val = x\n",
    "        self.next = None\n",
    "\n",
    "class Solution(object):\n",
    "    def splitListToParts(self, root, k):\n",
    "        \"\"\"\n",
    "        :type root: ListNode\n",
    "        :type k: int\n",
    "        :rtype: List[ListNode]\n",
    "        \"\"\"\n",
    "        output, count = [], 0\n",
    "        node = root\n",
    "        \n",
    "        while node: #遍历node 的方式\n",
    "            count += 1\n",
    "            node = node.next\n",
    "            \n",
    "        length = count//k\n",
    "        extra = count%k\n",
    "        \n",
    "        while k: #find all k parts\n",
    "            if node == None and k:\n",
    "                k -= 1\n",
    "                output.append(node)\n",
    "                continue\n",
    "            if extra:\n",
    "                i = 0\n",
    "                extra -= 1\n",
    "            else:\n",
    "                i = 1\n",
    "            \n",
    "            output.append(node)\n",
    "            \n",
    "            while i<length:\n",
    "                node = node.next\n",
    "                i += 1\n",
    "            new, node.next = node.next, None\n",
    "            node = new\n",
    "            k -= 1\n",
    "            \n",
    "        return output"
   ]
  },
  {
   "cell_type": "code",
   "execution_count": null,
   "metadata": {
    "collapsed": true
   },
   "outputs": [],
   "source": [
    "sol = Solution()\n",
    "sol.splitListToParts()"
   ]
  }
 ],
 "metadata": {
  "kernelspec": {
   "display_name": "Python 3",
   "language": "python",
   "name": "python3"
  },
  "language_info": {
   "codemirror_mode": {
    "name": "ipython",
    "version": 3
   },
   "file_extension": ".py",
   "mimetype": "text/x-python",
   "name": "python",
   "nbconvert_exporter": "python",
   "pygments_lexer": "ipython3",
   "version": "3.6.3"
  }
 },
 "nbformat": 4,
 "nbformat_minor": 2
}
