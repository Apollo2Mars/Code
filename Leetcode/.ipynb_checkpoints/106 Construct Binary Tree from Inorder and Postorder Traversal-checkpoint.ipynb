{
 "cells": [
  {
   "cell_type": "markdown",
   "metadata": {},
   "source": [
    "Given inorder and postorder traversal of a tree, construct the binary tree."
   ]
  },
  {
   "cell_type": "code",
   "execution_count": 23,
   "metadata": {},
   "outputs": [],
   "source": [
    "# Definition for a binary tree node.\n",
    "class TreeNode:\n",
    "    def __init__(self, x):\n",
    "        self.val = x\n",
    "        self.left = None\n",
    "        self.right = None\n",
    "\n",
    "class Solution:\n",
    "    def buildTree(self, inorder, postorder):\n",
    "        \"\"\"\n",
    "        :type inorder: List[int]\n",
    "        :type postorder: List[int]\n",
    "        :rtype: TreeNode\n",
    "        \"\"\"\n",
    "        if len(inorder) == 0:\n",
    "            return None\n",
    "        \n",
    "        root_value = postorder[-1]\n",
    "        root_idx = inorder.index(root_value)\n",
    "        root = TreeNode(root_value)\n",
    "        \n",
    "        count = 1\n",
    "        \n",
    "        def findSubRoot(tmp_inorder, tmp_root_idx, tmp_root):\n",
    "            if len(tmp_inorder) == 1:\n",
    "                return TreeNode(tmp_inorder[0])\n",
    "\n",
    "            # 找左子树的root\n",
    "            max_idx = 0\n",
    "            tmp_root_value = None\n",
    "            \n",
    "            left_inorder = tmp_inorder[0:tmp_root_idx]\n",
    "            \n",
    "            for idx_tmp, val_tmp in enumerate(left_inorder):\n",
    "                for idx_pos, val_pos in enumerate(postorder):\n",
    "                    if  val_tmp == val_pos:\n",
    "                        if idx_pos > max_idx:\n",
    "                            max_idx = idx_pos\n",
    "                            tmp_root_value = val_pos\n",
    "            \n",
    "            subroot_idx = left_inorder.index(tmp_root_value) \n",
    "            subroot_value = tmp_root_value\n",
    "            \n",
    "            subroot = TreeNode(subroot_value)\n",
    "            root.left = subroot\n",
    "            findSubRoot(left_inorder, subroot_idx, subroot)\n",
    "            \n",
    "            \n",
    "            # 找右子树的root\n",
    "            max_idx = 0\n",
    "            tmp_root_value = None\n",
    "            \n",
    "            right_inorder = tmp_inorder[tmp_root_idx+1::]\n",
    "            \n",
    "            for idx_tmp, val_tmp in enumerate(right_inorder):\n",
    "                for idx_pos, val_pos in enumerate(postorder):\n",
    "                    if  val_tmp == val_pos:\n",
    "                        if idx_pos > max_idx:\n",
    "                            max_idx = idx_pos\n",
    "                            tmp_root_value = val_pos\n",
    "            \n",
    "            subroot_idx = right_inorder.index(tmp_root_value) \n",
    "            subroot_value = tmp_root_value\n",
    "            \n",
    "            subroot = TreeNode(subroot_value)\n",
    "            root.right = subroot\n",
    "            findSubRoot(right_inorder, subroot_idx, subroot)\n",
    "\n",
    "                \n",
    "        \n",
    "        findSubRoot(inorder, root_idx, root)\n",
    "        \n",
    "        return root\n",
    "        "
   ]
  },
  {
   "cell_type": "code",
   "execution_count": 24,
   "metadata": {},
   "outputs": [
    {
     "ename": "ValueError",
     "evalue": "None is not in list",
     "output_type": "error",
     "traceback": [
      "\u001b[0;31m---------------------------------------------------------------------------\u001b[0m",
      "\u001b[0;31mValueError\u001b[0m                                Traceback (most recent call last)",
      "\u001b[0;32m<ipython-input-24-ceb16ffd79df>\u001b[0m in \u001b[0;36m<module>\u001b[0;34m()\u001b[0m\n\u001b[1;32m      3\u001b[0m \u001b[0;34m\u001b[0m\u001b[0m\n\u001b[1;32m      4\u001b[0m \u001b[0msol\u001b[0m \u001b[0;34m=\u001b[0m \u001b[0mSolution\u001b[0m\u001b[0;34m(\u001b[0m\u001b[0;34m)\u001b[0m\u001b[0;34m\u001b[0m\u001b[0m\n\u001b[0;32m----> 5\u001b[0;31m \u001b[0msol\u001b[0m\u001b[0;34m.\u001b[0m\u001b[0mbuildTree\u001b[0m\u001b[0;34m(\u001b[0m\u001b[0minorder\u001b[0m\u001b[0;34m,\u001b[0m \u001b[0mpostorder\u001b[0m\u001b[0;34m)\u001b[0m\u001b[0;34m\u001b[0m\u001b[0m\n\u001b[0m",
      "\u001b[0;32m<ipython-input-23-534c016b65a3>\u001b[0m in \u001b[0;36mbuildTree\u001b[0;34m(self, inorder, postorder)\u001b[0m\n\u001b[1;32m     69\u001b[0m \u001b[0;34m\u001b[0m\u001b[0m\n\u001b[1;32m     70\u001b[0m \u001b[0;34m\u001b[0m\u001b[0m\n\u001b[0;32m---> 71\u001b[0;31m         \u001b[0mfindSubRoot\u001b[0m\u001b[0;34m(\u001b[0m\u001b[0minorder\u001b[0m\u001b[0;34m,\u001b[0m \u001b[0mroot_idx\u001b[0m\u001b[0;34m,\u001b[0m \u001b[0mroot\u001b[0m\u001b[0;34m)\u001b[0m\u001b[0;34m\u001b[0m\u001b[0m\n\u001b[0m\u001b[1;32m     72\u001b[0m \u001b[0;34m\u001b[0m\u001b[0m\n\u001b[1;32m     73\u001b[0m         \u001b[0;32mreturn\u001b[0m \u001b[0mroot\u001b[0m\u001b[0;34m\u001b[0m\u001b[0m\n",
      "\u001b[0;32m<ipython-input-23-534c016b65a3>\u001b[0m in \u001b[0;36mfindSubRoot\u001b[0;34m(tmp_inorder, tmp_root_idx, tmp_root)\u001b[0m\n\u001b[1;32m     39\u001b[0m                             \u001b[0mtmp_root_value\u001b[0m \u001b[0;34m=\u001b[0m \u001b[0mval_pos\u001b[0m\u001b[0;34m\u001b[0m\u001b[0m\n\u001b[1;32m     40\u001b[0m \u001b[0;34m\u001b[0m\u001b[0m\n\u001b[0;32m---> 41\u001b[0;31m             \u001b[0msubroot_idx\u001b[0m \u001b[0;34m=\u001b[0m \u001b[0mleft_inorder\u001b[0m\u001b[0;34m.\u001b[0m\u001b[0mindex\u001b[0m\u001b[0;34m(\u001b[0m\u001b[0mtmp_root_value\u001b[0m\u001b[0;34m)\u001b[0m\u001b[0;34m\u001b[0m\u001b[0m\n\u001b[0m\u001b[1;32m     42\u001b[0m             \u001b[0msubroot_value\u001b[0m \u001b[0;34m=\u001b[0m \u001b[0mtmp_root_value\u001b[0m\u001b[0;34m\u001b[0m\u001b[0m\n\u001b[1;32m     43\u001b[0m \u001b[0;34m\u001b[0m\u001b[0m\n",
      "\u001b[0;31mValueError\u001b[0m: None is not in list"
     ]
    }
   ],
   "source": [
    "inorder = [9,3,15,20,7]\n",
    "postorder = [9,15,7,20,3]\n",
    "\n",
    "sol = Solution()\n",
    "sol.buildTree(inorder, postorder)"
   ]
  },
  {
   "cell_type": "code",
   "execution_count": null,
   "metadata": {
    "collapsed": true
   },
   "outputs": [],
   "source": []
  }
 ],
 "metadata": {
  "kernelspec": {
   "display_name": "Python 3",
   "language": "python",
   "name": "python3"
  },
  "language_info": {
   "codemirror_mode": {
    "name": "ipython",
    "version": 3
   },
   "file_extension": ".py",
   "mimetype": "text/x-python",
   "name": "python",
   "nbconvert_exporter": "python",
   "pygments_lexer": "ipython3",
   "version": "3.6.3"
  }
 },
 "nbformat": 4,
 "nbformat_minor": 2
}
