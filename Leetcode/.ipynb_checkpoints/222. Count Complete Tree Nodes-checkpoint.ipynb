{
 "cells": [
  {
   "cell_type": "markdown",
   "metadata": {},
   "source": [
    "https://blog.csdn.net/stone_yw/article/details/69934826"
   ]
  },
  {
   "cell_type": "code",
   "execution_count": null,
   "metadata": {
    "collapsed": true
   },
   "outputs": [],
   "source": [
    "class Solution(object):\n",
    "    def countNodes(self, root):\n",
    "        \"\"\"\n",
    "        :type root: TreeNode\n",
    "        :rtype: int\n",
    "        \"\"\"\n",
    "        count=0\n",
    "        start=root\n",
    "        while start:\n",
    "            leftH=self.height(start.left)\n",
    "            rightH=self.height(start.right)\n",
    "            if leftH>rightH:\n",
    "                count+=1\n",
    "                count+=(2**leftH-1)\n",
    "                start=start.right\n",
    "            elif leftH==rightH:\n",
    "                count+=1\n",
    "                count+=(2**rightH-1)\n",
    "                start=start.left\n",
    "        return count\n",
    "    \n",
    "    \n",
    "    def height(self,node):\n",
    "        height=0\n",
    "        while node:\n",
    "            node=node.right\n",
    "            height+=1\n",
    "        return height"
   ]
  }
 ],
 "metadata": {
  "kernelspec": {
   "display_name": "Python 3",
   "language": "python",
   "name": "python3"
  },
  "language_info": {
   "codemirror_mode": {
    "name": "ipython",
    "version": 3
   },
   "file_extension": ".py",
   "mimetype": "text/x-python",
   "name": "python",
   "nbconvert_exporter": "python",
   "pygments_lexer": "ipython3",
   "version": "3.6.3"
  }
 },
 "nbformat": 4,
 "nbformat_minor": 2
}
