{
 "cells": [
  {
   "cell_type": "markdown",
   "metadata": {},
   "source": [
    "# Given an unsorted array of integers, find the number of longest increasing subsequence.\n",
    "\n",
    "# Example 1:\n",
    "+ Input: [1,3,5,4,7]\n",
    "+ Output: 2\n",
    "+ Explanation: The two longest increasing subsequence are [1, 3, 4, 7] and [1, 3, 5, 7].\n",
    "\n",
    "[1,2,4,3,5,4,7,2]\n",
    "\n",
    "\n",
    "# Example 2:\n",
    "+ Input: [2,2,2,2,2]\n",
    "+ Output: 5\n",
    "+ Explanation: The length of longest continuous increasing subsequence is 1, and there are 5 subsequences' length is 1, so output 5."
   ]
  },
  {
   "cell_type": "markdown",
   "metadata": {},
   "source": [
    "# Solution1"
   ]
  },
  {
   "cell_type": "code",
   "execution_count": 13,
   "metadata": {
    "collapsed": true
   },
   "outputs": [],
   "source": [
    "from bisect import bisect_left, bisect_right\n",
    "class Solution(object):\n",
    "    def findNumberOfLIS(self, nums):\n",
    "        queue, count=[], []\n",
    "        for num in nums: # 遍历所有数字\n",
    "            print(queue)\n",
    "            print(count)\n",
    "            print(\"AAA\")\n",
    "            # queue 为空的时候 返回 0 queue 一直是有序的\n",
    "            # num 不在queue中的时候, 向左取最接近的index\n",
    "            # data = [2, 4, 7, 9]\n",
    "            # print(bisect_right(data, 3)) 返回的index 是 1\n",
    "            index=bisect_left(queue, num) \n",
    "            if index<len(queue):\n",
    "                queue[index]=num # queue 序列更新\n",
    "            else:\n",
    "                queue.append(num)\n",
    "                count.append([]) # 添加一个空的list\n",
    "            print(queue)\n",
    "            print(count)\n",
    "            x=len(count[index-1])-bisect_right(count[index-1], -num) if index>0 else 1\n",
    "            count[index].extend([-num]*x)\n",
    "            print(queue)\n",
    "            print(count)\n",
    "            print(\"##################################\")\n",
    "            print(\"##################################\")\n",
    "        return len(count[-1]) if count else 0"
   ]
  },
  {
   "cell_type": "code",
   "execution_count": 14,
   "metadata": {},
   "outputs": [
    {
     "name": "stdout",
     "output_type": "stream",
     "text": [
      "[]\n",
      "[]\n",
      "AAA\n",
      "[1]\n",
      "[[]]\n",
      "[1]\n",
      "[[-1]]\n",
      "##################################\n",
      "##################################\n",
      "[1]\n",
      "[[-1]]\n",
      "AAA\n",
      "[1, 2]\n",
      "[[-1], []]\n",
      "[1, 2]\n",
      "[[-1], [-2]]\n",
      "##################################\n",
      "##################################\n",
      "[1, 2]\n",
      "[[-1], [-2]]\n",
      "AAA\n",
      "[1, 2, 4]\n",
      "[[-1], [-2], []]\n",
      "[1, 2, 4]\n",
      "[[-1], [-2], [-4]]\n",
      "##################################\n",
      "##################################\n",
      "[1, 2, 4]\n",
      "[[-1], [-2], [-4]]\n",
      "AAA\n",
      "[1, 2, 3]\n",
      "[[-1], [-2], [-4]]\n",
      "[1, 2, 3]\n",
      "[[-1], [-2], [-4, -3]]\n",
      "##################################\n",
      "##################################\n",
      "[1, 2, 3]\n",
      "[[-1], [-2], [-4, -3]]\n",
      "AAA\n",
      "[1, 2, 3, 5]\n",
      "[[-1], [-2], [-4, -3], []]\n",
      "[1, 2, 3, 5]\n",
      "[[-1], [-2], [-4, -3], [-5, -5]]\n",
      "##################################\n",
      "##################################\n",
      "[1, 2, 3, 5]\n",
      "[[-1], [-2], [-4, -3], [-5, -5]]\n",
      "AAA\n",
      "[1, 2, 3, 4]\n",
      "[[-1], [-2], [-4, -3], [-5, -5]]\n",
      "[1, 2, 3, 4]\n",
      "[[-1], [-2], [-4, -3], [-5, -5, -4]]\n",
      "##################################\n",
      "##################################\n",
      "[1, 2, 3, 4]\n",
      "[[-1], [-2], [-4, -3], [-5, -5, -4]]\n",
      "AAA\n",
      "[1, 2, 3, 4, 7]\n",
      "[[-1], [-2], [-4, -3], [-5, -5, -4], []]\n",
      "[1, 2, 3, 4, 7]\n",
      "[[-1], [-2], [-4, -3], [-5, -5, -4], [-7, -7, -7]]\n",
      "##################################\n",
      "##################################\n",
      "[1, 2, 3, 4, 7]\n",
      "[[-1], [-2], [-4, -3], [-5, -5, -4], [-7, -7, -7]]\n",
      "AAA\n",
      "[1, 2, 3, 4, 7]\n",
      "[[-1], [-2], [-4, -3], [-5, -5, -4], [-7, -7, -7]]\n",
      "[1, 2, 3, 4, 7]\n",
      "[[-1], [-2, -2], [-4, -3], [-5, -5, -4], [-7, -7, -7]]\n",
      "##################################\n",
      "##################################\n"
     ]
    },
    {
     "data": {
      "text/plain": [
       "3"
      ]
     },
     "execution_count": 14,
     "metadata": {},
     "output_type": "execute_result"
    }
   ],
   "source": [
    "l = [1,50,100,9,8,7,6,5,6,7,8,9,10]\n",
    "sol = Solution()\n",
    "sol.findNumberOfLIS(l)"
   ]
  },
  {
   "cell_type": "markdown",
   "metadata": {},
   "source": [
    "# Solution 2"
   ]
  },
  {
   "cell_type": "markdown",
   "metadata": {},
   "source": [
    "If you have not solved the Longest Increasing Subsequence problem, you should do so before attempting this question. The approach is very similar and only requires augmentation of the DP array.\n",
    "\n",
    "In the Longest Increasing Subsequence problem, the DP array simply had to store the longest length. In this variant, each element in the DP array needs to store two things: (1) Length of longest subsequence ending at this index and (2) Number of longest subsequences that end at this index. I use a two element list for this purpose.\n",
    "\n",
    "In each loop as we build up the DP array, find the longest length for this index and then sum up the numbers at these indices that contribute to this longest length.\n",
    "\n",
    "Here I provide two versions: (1) A slower but easier to understand version and (2) Much faster and optimized version"
   ]
  },
  {
   "cell_type": "code",
   "execution_count": 19,
   "metadata": {
    "collapsed": true
   },
   "outputs": [],
   "source": [
    "class Solution(object):\n",
    "    def findNumberOfLIS(self, nums):\n",
    "        \"\"\"\n",
    "        :type nums: List[int]\n",
    "        :rtype: int\n",
    "        \"\"\"\n",
    "        # Time: O(n^2)\n",
    "        # Space: O(n)\n",
    "        dp, longest = [[1, 1] for i in range(len(nums))], 1\n",
    "        for i, num in enumerate(nums):\n",
    "            curr_longest, count = 1, 0\n",
    "            for j in range(i):\n",
    "                if nums[j] < num:\n",
    "                    curr_longest = max(curr_longest, dp[j][0] + 1)\n",
    "            for j in range(i):\n",
    "                if dp[j][0] == curr_longest - 1 and nums[j] < num:\n",
    "                    count += dp[j][1]\n",
    "            print(\"## Number is {}\".format(num))\n",
    "            dp[i] = [curr_longest, max(count, dp[i][1])]\n",
    "            print(dp)\n",
    "            longest = max(curr_longest, longest)\n",
    "            print(longest)\n",
    "        return sum([item[1] for item in dp if item[0] == longest])\n",
    "\n"
   ]
  },
  {
   "cell_type": "code",
   "execution_count": 22,
   "metadata": {},
   "outputs": [
    {
     "name": "stdout",
     "output_type": "stream",
     "text": [
      "## Number is 1\n",
      "[[1, 1], [1, 1], [1, 1], [1, 1], [1, 1], [1, 1], [1, 1]]\n",
      "1\n",
      "## Number is 3\n",
      "[[1, 1], [2, 1], [1, 1], [1, 1], [1, 1], [1, 1], [1, 1]]\n",
      "2\n",
      "## Number is 5\n",
      "[[1, 1], [2, 1], [3, 1], [1, 1], [1, 1], [1, 1], [1, 1]]\n",
      "3\n",
      "## Number is 3\n",
      "[[1, 1], [2, 1], [3, 1], [2, 1], [1, 1], [1, 1], [1, 1]]\n",
      "3\n",
      "## Number is 5\n",
      "[[1, 1], [2, 1], [3, 1], [2, 1], [3, 2], [1, 1], [1, 1]]\n",
      "3\n",
      "## Number is 3\n",
      "[[1, 1], [2, 1], [3, 1], [2, 1], [3, 2], [2, 1], [1, 1]]\n",
      "3\n",
      "## Number is 6\n",
      "[[1, 1], [2, 1], [3, 1], [2, 1], [3, 2], [2, 1], [4, 3]]\n",
      "4\n"
     ]
    },
    {
     "data": {
      "text/plain": [
       "3"
      ]
     },
     "execution_count": 22,
     "metadata": {},
     "output_type": "execute_result"
    }
   ],
   "source": [
    "l = [1,50,100,9,8,7,6,5,6,7,8,9,10]\n",
    "l = [1,3,5,3,5,3,6]\n",
    "sol = Solution()\n",
    "sol.findNumberOfLIS(l)"
   ]
  },
  {
   "cell_type": "code",
   "execution_count": null,
   "metadata": {
    "collapsed": true
   },
   "outputs": [],
   "source": [
    "# The counting step can be optimized such that we don't count from the start when we find a longer max_len. This improved the speed from 10% to 88%.\n",
    "\n",
    "class Solution(object):\n",
    "    def findNumberOfLIS(self, nums):\n",
    "        \"\"\"\n",
    "        :type nums: List[int]\n",
    "        :rtype: int\n",
    "        \"\"\"\n",
    "        dp = [[1, 1] for i in range(len(nums))]\n",
    "        max_for_all = 1\n",
    "        for i, num in enumerate(nums):\n",
    "            max_len, count = 1, 0\n",
    "            for j in range(i):\n",
    "                if nums[j] < num:\n",
    "                    if dp[j][0] + 1 > max_len:\n",
    "                        max_len = dp[j][0] + 1\n",
    "                        count = 0 \n",
    "                    if dp[j][0] == max_len - 1:\n",
    "                        count += dp[j][1]\n",
    "            dp[i] = [max_len, max(count, dp[i][1])]\n",
    "            max_for_all = max(max_len, max_for_all)\n",
    "        return sum([item[1] for item in dp if item[0] == max_for_all])"
   ]
  },
  {
   "cell_type": "markdown",
   "metadata": {},
   "source": [
    "# Solution 3\n",
    "I read @sobkuliak 's post here, and implement in python:"
   ]
  },
  {
   "cell_type": "code",
   "execution_count": null,
   "metadata": {
    "collapsed": true
   },
   "outputs": [],
   "source": [
    "class Solution:\n",
    "    def findNumberOfLIS(self, nums):\n",
    "        \"\"\"\n",
    "        :type nums: List[int]\n",
    "        :rtype: int\n",
    "        \"\"\"\n",
    "        if not nums: return 0\n",
    "        N = len(nums)\n",
    "        l, dp = 0, [[] for _ in range(N)]\n",
    "        for n in nums:\n",
    "            idx1 = bisect.bisect_left([_[-1][0] if _ else sys.maxsize for _ in dp], n)\n",
    "            if idx1==l:\n",
    "                l += 1\n",
    "            if idx1==0:\n",
    "                dp[0].append([n, (dp[0][-1][1] if dp[0] else 0)+1])\n",
    "            else:\n",
    "                idx2 = bisect.bisect([-_[0] for _ in dp[idx1-1]], -n)\n",
    "                dp[idx1].append([n, (dp[idx1][-1][1] if dp[idx1] else 0)+(dp[idx1-1][-1][1] if idx2==0 else (dp[idx1-1][-1][1]-dp[idx1-1][idx2-1][1]))])\n",
    "        return max(_[1] for _ in dp[l-1])\n",
    "# But it cost 1200+ms, I made a post for help, several minutes after the post, I came up with where it spent too much time. It was the bisect process, I make a new array every time, this cost O(n) every time. So it take so long. I optimized by writing a binary search supporting key parameter.\n",
    "\n",
    "# Now, it uses 100ms, beats 100%\n",
    "\n",
    "def bs(arr, val, key=lambda x:x):\n",
    "    l, r = 0, len(arr)-1\n",
    "    if key(arr[l])>val:\n",
    "        return l\n",
    "    if key(arr[r])<=val:\n",
    "        return r+1\n",
    "    while l+1<r:\n",
    "        m = (l+r)>>1\n",
    "        v = key(arr[m])\n",
    "        if v<=val:\n",
    "            l = m\n",
    "        else:\n",
    "            r = m\n",
    "    return r\n",
    "\n",
    "def bs_left(arr, val, key=lambda x:x):\n",
    "    l, r = 0, len(arr)-1\n",
    "    if key(arr[l])>=val:\n",
    "        return l\n",
    "    if key(arr[r])<val:\n",
    "        return r+1\n",
    "    while l+1<r:\n",
    "        m = (l+r)>>1\n",
    "        v = key(arr[m])\n",
    "        if v<val:\n",
    "            l = m\n",
    "        else:\n",
    "            r = m\n",
    "    return r\n",
    "            \n",
    "\n",
    "class Solution:\n",
    "    def findNumberOfLIS(self, nums):\n",
    "        if not nums: return 0\n",
    "        N = len(nums)\n",
    "        l, dp = 0, [[] for _ in range(N)]\n",
    "        for n in nums:\n",
    "            idx1 = bs_left(dp, n, lambda _:_[-1][0] if _ else sys.maxsize)\n",
    "            if idx1==l:\n",
    "                l += 1\n",
    "            if idx1==0:\n",
    "                dp[0].append([n, (dp[0][-1][1] if dp[0] else 0)+1])\n",
    "            else:\n",
    "                idx2 = bs(dp[idx1-1], -n, lambda _:-_[0])\n",
    "                dp[idx1].append([n, (dp[idx1][-1][1] if dp[idx1] else 0)+(dp[idx1-1][-1][1] if idx2==0 else (dp[idx1-1][-1][1]-dp[idx1-1][idx2-1][1]))])\n",
    "        return max(_[1] for _ in dp[l-1])"
   ]
  }
 ],
 "metadata": {
  "kernelspec": {
   "display_name": "Python 3",
   "language": "python",
   "name": "python3"
  },
  "language_info": {
   "codemirror_mode": {
    "name": "ipython",
    "version": 3
   },
   "file_extension": ".py",
   "mimetype": "text/x-python",
   "name": "python",
   "nbconvert_exporter": "python",
   "pygments_lexer": "ipython3",
   "version": "3.6.3"
  }
 },
 "nbformat": 4,
 "nbformat_minor": 2
}
