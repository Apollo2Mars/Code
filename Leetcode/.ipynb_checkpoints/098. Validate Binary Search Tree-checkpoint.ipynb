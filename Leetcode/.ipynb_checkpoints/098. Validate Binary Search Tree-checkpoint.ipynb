{
 "cells": [
  {
   "cell_type": "code",
   "execution_count": null,
   "metadata": {
    "collapsed": true
   },
   "outputs": [],
   "source": [
    "class Solution(object):\n",
    "    def isValidBST(self,root,min=float('-inf'),max='inf'):\n",
    "        if root == None:\n",
    "            return True\n",
    "        if root.left == None and root.right == None:\n",
    "            return True   # 左右节点全部为空\n",
    "        \n",
    "        # valid left\n",
    "        if root.left != None:\n",
    "            if root.left.val < root.val and root.left.val < min:\n",
    "                left = self.isValidBST(root.left,min,root.val)\n",
    "            else:\n",
    "                return False\n",
    "        else:\n",
    "            return True\n",
    "        \n",
    "        # valid right\n",
    "        if root.right != None:\n",
    "            if root.right.val > root.val and root.right.val < max:\n",
    "                right = self.isValidBST(root.right, root.val, max)\n",
    "            else:\n",
    "                right = False\n",
    "        else:\n",
    "            left = True\n",
    "        \n",
    "        # both valid\n",
    "        return left and right"
   ]
  }
 ],
 "metadata": {
  "kernelspec": {
   "display_name": "Python 3",
   "language": "python",
   "name": "python3"
  },
  "language_info": {
   "codemirror_mode": {
    "name": "ipython",
    "version": 3
   },
   "file_extension": ".py",
   "mimetype": "text/x-python",
   "name": "python",
   "nbconvert_exporter": "python",
   "pygments_lexer": "ipython3",
   "version": "3.6.3"
  }
 },
 "nbformat": 4,
 "nbformat_minor": 2
}
