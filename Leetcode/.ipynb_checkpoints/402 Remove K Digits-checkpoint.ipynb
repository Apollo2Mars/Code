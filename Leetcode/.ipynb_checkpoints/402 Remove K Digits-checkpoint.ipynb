{
 "cells": [
  {
   "cell_type": "code",
   "execution_count": null,
   "metadata": {
    "collapsed": true
   },
   "outputs": [],
   "source": [
    "# Current thinking\n",
    "# "
   ]
  },
  {
   "cell_type": "code",
   "execution_count": 127,
   "metadata": {},
   "outputs": [],
   "source": [
    "class Solution:\n",
    "\n",
    "    \n",
    "    def removeKdigits(self, num, k):\n",
    "        \"\"\"\n",
    "        :type num: str\n",
    "        :type k: int\n",
    "        :rtype: str\n",
    "        \"\"\"\n",
    "        k = len(num)-k\n",
    "        k_init = k\n",
    "        \n",
    "        def findMin(num_str, beg_idx, end_idx):\n",
    "            print(\"beg_idx is : \" + str(beg_idx))\n",
    "            print(\"end_idx is : \" + str(end_idx))\n",
    "            num_list = list(num[beg_idx:end_idx+1])\n",
    "            max_str = min(num_list)\n",
    "            print(\"max_str is : \" + str(max_str))\n",
    "            max_index = beg_idx + num_list.index(max_str)\n",
    "            print(\"max_idx is :\" + str(max_index))\n",
    "            return max_str, max_index\n",
    "        \n",
    "        beg_idx = 0\n",
    "        end_idx = len(num)-k\n",
    "        \n",
    "        if k == len(num):\n",
    "            return 0\n",
    "        \n",
    "        return_str = ''\n",
    "        while k>0 :\n",
    "            min_str, min_idx = findMin(num, beg_idx, end_idx)\n",
    "            return_str = return_str + min_str\n",
    "            print(return_str)\n",
    "            if min_idx == end_idx:\n",
    "                return_str = return_str + num[end_idx+1::] # end_idx must < len(num)-1\n",
    "                break\n",
    "            k = k-1\n",
    "            beg_idx = min_idx+1\n",
    "            end_idx = len(num)-k\n",
    "            print(\"k is : \" + str(k))\n",
    "            print(\"current_str is : \" + return_str)\n",
    "            print(\" ### ###\\n\\n \")\n",
    "            \n",
    "        \n",
    "        print(\"max is : \" + return_str)\n",
    "        assert len(return_str) == k_init\n",
    "        \n",
    "        if return_str.lstrip('0') is not '':\n",
    "            return return_str.lstrip('0')\n",
    "        else :\n",
    "            return '0'"
   ]
  },
  {
   "cell_type": "code",
   "execution_count": 128,
   "metadata": {},
   "outputs": [
    {
     "name": "stdout",
     "output_type": "stream",
     "text": [
      "beg_idx is : 0\n",
      "end_idx is : 1\n",
      "max_str is : 0\n",
      "max_idx is :1\n",
      "0\n",
      "max is : 0\n"
     ]
    },
    {
     "data": {
      "text/plain": [
       "'0'"
      ]
     },
     "execution_count": 128,
     "metadata": {},
     "output_type": "execute_result"
    }
   ],
   "source": [
    "sol = Solution()\n",
    "# sol.removeKdigits('1567123', 3)\n",
    "sol.removeKdigits('10', 1)"
   ]
  },
  {
   "cell_type": "code",
   "execution_count": null,
   "metadata": {
    "collapsed": true
   },
   "outputs": [],
   "source": []
  }
 ],
 "metadata": {
  "kernelspec": {
   "display_name": "Python 3",
   "language": "python",
   "name": "python3"
  },
  "language_info": {
   "codemirror_mode": {
    "name": "ipython",
    "version": 3
   },
   "file_extension": ".py",
   "mimetype": "text/x-python",
   "name": "python",
   "nbconvert_exporter": "python",
   "pygments_lexer": "ipython3",
   "version": "3.6.3"
  }
 },
 "nbformat": 4,
 "nbformat_minor": 2
}
