{
 "cells": [
  {
   "cell_type": "code",
   "execution_count": null,
   "metadata": {
    "collapsed": true
   },
   "outputs": [],
   "source": [
    "class Solution(object):\n",
    "    def generateMatrix(self, n):\n",
    "        res = [[0 for i in range(n)] for j in range(n)]\n",
    "        list_n = [i for i in range(1, n ** 2 + 1)][::-1]\n",
    "        i = 0\n",
    "        while list_n:\n",
    "            for j in range(i, n - i):\n",
    "                res[i][j] = list_n.pop()\n",
    "            for j in range(i + 1, n - i):\n",
    "                res[j][n - i - 1] = list_n.pop()\n",
    "            for j in range(i, n - i - 1)[::-1]:\n",
    "                res[n - i - 1][j] = list_n.pop()\n",
    "            for j in range(i + 1, n - i - 1)[::-1]:\n",
    "                res[j][i] = list_n.pop()\n",
    "            i += 1\n",
    "        return res"
   ]
  }
 ],
 "metadata": {
  "kernelspec": {
   "display_name": "Python 3",
   "language": "python",
   "name": "python3"
  },
  "language_info": {
   "codemirror_mode": {
    "name": "ipython",
    "version": 3
   },
   "file_extension": ".py",
   "mimetype": "text/x-python",
   "name": "python",
   "nbconvert_exporter": "python",
   "pygments_lexer": "ipython3",
   "version": "3.6.3"
  }
 },
 "nbformat": 4,
 "nbformat_minor": 2
}
