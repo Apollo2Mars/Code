{
 "cells": [
  {
   "cell_type": "code",
   "execution_count": 41,
   "metadata": {},
   "outputs": [],
   "source": [
    "class Solution(object):\n",
    "    def isMonotonic(self, A):\n",
    "        \"\"\"\n",
    "        :type A: List[int]\n",
    "        :rtype: bool\n",
    "        \"\"\"\n",
    "        if len(A) <= 2:return True\n",
    "        \n",
    "        Flag = None\n",
    "        \n",
    "        for i in range(1,len(A)):\n",
    "            if A[i] == A[i-1]:\n",
    "                pass\n",
    "            else:\n",
    "                if Flag == None:\n",
    "                    Flag = (A[i] > A[i-1]) # True or False\n",
    "                    print('A')\n",
    "                    print(Flag)\n",
    "                else:\n",
    "                    if Flag: # Flag is True\n",
    "                        print('B')\n",
    "                        print(Flag)\n",
    "                        tmp = (A[i] > A[i-1])\n",
    "                        print(tmp)\n",
    "                        if tmp != Flag:return False\n",
    "                    elif Flag != None: # Flag is False\n",
    "                        print('C')\n",
    "                        print(Flag)\n",
    "                        tmp = (A[i] > A[i-1])\n",
    "                        print(tmp)\n",
    "                        if tmp != Flag:return False\n",
    "        return True"
   ]
  },
  {
   "cell_type": "code",
   "execution_count": 42,
   "metadata": {},
   "outputs": [
    {
     "name": "stdout",
     "output_type": "stream",
     "text": [
      "A\n",
      "True\n",
      "B\n",
      "True\n",
      "True\n"
     ]
    },
    {
     "data": {
      "text/plain": [
       "True"
      ]
     },
     "execution_count": 42,
     "metadata": {},
     "output_type": "execute_result"
    }
   ],
   "source": [
    "tmp = [1,2,2,3]\n",
    "\n",
    "sol = Solution()\n",
    "sol.isMonotonic(tmp)"
   ]
  },
  {
   "cell_type": "code",
   "execution_count": null,
   "metadata": {
    "collapsed": true
   },
   "outputs": [],
   "source": []
  }
 ],
 "metadata": {
  "kernelspec": {
   "display_name": "Python 3",
   "language": "python",
   "name": "python3"
  },
  "language_info": {
   "codemirror_mode": {
    "name": "ipython",
    "version": 3
   },
   "file_extension": ".py",
   "mimetype": "text/x-python",
   "name": "python",
   "nbconvert_exporter": "python",
   "pygments_lexer": "ipython3",
   "version": "3.6.3"
  }
 },
 "nbformat": 4,
 "nbformat_minor": 2
}
