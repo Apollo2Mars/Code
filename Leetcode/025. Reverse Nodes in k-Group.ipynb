{
 "cells": [
  {
   "cell_type": "markdown",
   "metadata": {},
   "source": [
    "Given a linked list, reverse the nodes of a linked list k at a time and return its modified list.\n",
    "\n",
    "k is a positive integer and is less than or equal to the length of the linked list. If the number of nodes is not a multiple of k then left-out nodes in the end should remain as it is.\n",
    "\n",
    "Example:\n",
    "\n",
    "Given this linked list: 1->2->3->4->5\n",
    "\n",
    "For k = 2, you should return: 2->1->4->3->5\n",
    "\n",
    "For k = 3, you should return: 3->2->1->4->5\n",
    "\n",
    "Note:\n",
    "\n",
    "Only constant extra memory is allowed.\n",
    "You may not alter the values in the list's nodes, only nodes itself may be changed."
   ]
  },
  {
   "cell_type": "code",
   "execution_count": null,
   "metadata": {
    "collapsed": true
   },
   "outputs": [],
   "source": [
    "# Definition for singly-linked list.\n",
    "# class ListNode(object):\n",
    "#     def __init__(self, x):\n",
    "#         self.val = x\n",
    "#         self.next = None\n",
    "\n",
    "class Solution(object):\n",
    "    def reverseKGroup(self, head, k):\n",
    "        count,p = 0,head # 计数, 头指针\n",
    "        while count < k and p:\n",
    "            p = p.next\n",
    "            count += 1\n",
    "        if count < k: # 剩余个数不到k\n",
    "            return head \n",
    "        # 剩余个数达到K, 反转\n",
    "        cur,prev = head, None\n",
    "        while count > 0:\n",
    "#             cur.next,prev,cur = prev,cur,cur.next # 长度为K的链表反转\n",
    "            cur.next = prev # 当前指针的next 节点指向 prev\n",
    "            prev = cur # pre 指针 指到 cur 指针位置\n",
    "            cur = cur.next # cur 指针移动\n",
    "            count -= 1\n",
    "        head.next = self.reverseKGroup(cur, k)\n",
    "        return prev"
   ]
  },
  {
   "cell_type": "code",
   "execution_count": 1,
   "metadata": {
    "collapsed": true
   },
   "outputs": [],
   "source": [
    "class ListNode(object):\n",
    "    def __init__(self, x):\n",
    "        self.val = x\n",
    "        self.next = None"
   ]
  },
  {
   "cell_type": "code",
   "execution_count": 12,
   "metadata": {},
   "outputs": [
    {
     "name": "stdout",
     "output_type": "stream",
     "text": [
      "1\n",
      "2\n",
      "3\n",
      "4\n"
     ]
    }
   ],
   "source": [
    "l1 = ListNode(1)\n",
    "l2 = ListNode(2)\n",
    "l3 = ListNode(3)\n",
    "l4 = ListNode(4)\n",
    "\n",
    "l1.next = l2\n",
    "l2.next = l3\n",
    "l3.next = l4\n",
    "\n",
    "while l1:\n",
    "    print(l1.val)\n",
    "    l1 = l1.next"
   ]
  },
  {
   "cell_type": "code",
   "execution_count": null,
   "metadata": {
    "collapsed": true
   },
   "outputs": [],
   "source": []
  }
 ],
 "metadata": {
  "kernelspec": {
   "display_name": "Python 3",
   "language": "python",
   "name": "python3"
  },
  "language_info": {
   "codemirror_mode": {
    "name": "ipython",
    "version": 3
   },
   "file_extension": ".py",
   "mimetype": "text/x-python",
   "name": "python",
   "nbconvert_exporter": "python",
   "pygments_lexer": "ipython3",
   "version": "3.6.3"
  }
 },
 "nbformat": 4,
 "nbformat_minor": 2
}
